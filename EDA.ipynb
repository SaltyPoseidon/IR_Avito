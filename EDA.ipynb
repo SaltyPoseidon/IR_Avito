{
 "cells": [
  {
   "cell_type": "code",
   "id": "initial_id",
   "metadata": {
    "collapsed": true,
    "ExecuteTime": {
     "end_time": "2025-09-18T01:43:30.794686Z",
     "start_time": "2025-09-18T01:43:30.275467Z"
    }
   },
   "source": [
    "import os\n",
    "import time\n",
    "import polars as pl\n",
    "import numpy as np\n",
    "import matplotlib.pyplot as plt"
   ],
   "outputs": [],
   "execution_count": 2
  },
  {
   "metadata": {
    "ExecuteTime": {
     "end_time": "2025-09-18T01:43:31.909204Z",
     "start_time": "2025-09-18T01:43:31.895207Z"
    }
   },
   "cell_type": "code",
   "source": [
    "DATA_DIR = \"Data\"\n",
    "TRAIN_PATH = os.path.join(DATA_DIR, \"train-dset.parquet\")\n",
    "TEST_PATH = os.path.join(DATA_DIR, \"test-dset-small.parquet\")"
   ],
   "id": "b344a0e16a1712da",
   "outputs": [],
   "execution_count": 3
  },
  {
   "metadata": {},
   "cell_type": "markdown",
   "source": "# 1. Размеры",
   "id": "82c26c8baf2ca39c"
  },
  {
   "metadata": {
    "ExecuteTime": {
     "end_time": "2025-09-18T01:43:58.994949Z",
     "start_time": "2025-09-18T01:43:54.710415Z"
    }
   },
   "cell_type": "code",
   "source": [
    "t0 = time.time()\n",
    "\n",
    "train_lf = pl.scan_parquet(TRAIN_PATH)\n",
    "test_lf = pl.scan_parquet(TEST_PATH)\n",
    "\n",
    "\n",
    "train = train_lf.collect(streaming=True)\n",
    "test = test_lf.collect(streaming=True)\n",
    "\n",
    "print(f\"[load] train: {train.shape}, test: {test.shape}, time: {time.time()-t0:.2f}s\\n\")"
   ],
   "id": "4dbe538ac54a7112",
   "outputs": [
    {
     "name": "stderr",
     "output_type": "stream",
     "text": [
      "C:\\Users\\idine\\AppData\\Local\\Temp\\ipykernel_52048\\19000350.py:7: DeprecationWarning: the `streaming` parameter was deprecated in 1.25.0; use `engine` instead.\n",
      "  train = train_lf.collect(streaming=True)\n",
      "C:\\Users\\idine\\AppData\\Local\\Temp\\ipykernel_52048\\19000350.py:8: DeprecationWarning: the `streaming` parameter was deprecated in 1.25.0; use `engine` instead.\n",
      "  test = test_lf.collect(streaming=True)\n"
     ]
    },
    {
     "name": "stdout",
     "output_type": "stream",
     "text": [
      "[load] train: (7781790, 14), test: (335348, 13), time: 4.27s\n",
      "\n"
     ]
    }
   ],
   "execution_count": 4
  },
  {
   "metadata": {},
   "cell_type": "markdown",
   "source": "# 2. Cхема",
   "id": "ff9aa5ff9c783be1"
  },
  {
   "metadata": {
    "ExecuteTime": {
     "end_time": "2025-09-18T01:44:17.190828Z",
     "start_time": "2025-09-18T01:44:17.176829Z"
    }
   },
   "cell_type": "code",
   "source": [
    "print(\"[schema] dtypes (train):\")\n",
    "for k, v in train.schema.items():\n",
    "    print(f\"  {k}: {v}\")\n",
    "print()"
   ],
   "id": "e9d531bb0f322fb0",
   "outputs": [
    {
     "name": "stdout",
     "output_type": "stream",
     "text": [
      "[schema] dtypes (train):\n",
      "  query_id: Int64\n",
      "  item_id: Int64\n",
      "  query_text: String\n",
      "  item_title: String\n",
      "  item_description: String\n",
      "  query_cat: Float32\n",
      "  query_mcat: Float64\n",
      "  query_loc: Float32\n",
      "  item_cat_id: Int32\n",
      "  item_mcat_id: Int32\n",
      "  item_loc: Int32\n",
      "  price: Float32\n",
      "  item_query_click_conv: Float32\n",
      "  item_contact: Float32\n",
      "\n"
     ]
    }
   ],
   "execution_count": 5
  },
  {
   "metadata": {
    "ExecuteTime": {
     "end_time": "2025-09-18T01:44:46.407443Z",
     "start_time": "2025-09-18T01:44:46.395442Z"
    }
   },
   "cell_type": "code",
   "source": "train.head(5)",
   "id": "1614bac921ba0c1f",
   "outputs": [
    {
     "data": {
      "text/plain": [
       "shape: (5, 14)\n",
       "┌──────────┬────────────┬────────────┬────────────┬───┬──────────┬────────┬────────────┬───────────┐\n",
       "│ query_id ┆ item_id    ┆ query_text ┆ item_title ┆ … ┆ item_loc ┆ price  ┆ item_query ┆ item_cont │\n",
       "│ ---      ┆ ---        ┆ ---        ┆ ---        ┆   ┆ ---      ┆ ---    ┆ _click_con ┆ act       │\n",
       "│ i64      ┆ i64        ┆ str        ┆ str        ┆   ┆ i32      ┆ f32    ┆ v          ┆ ---       │\n",
       "│          ┆            ┆            ┆            ┆   ┆          ┆        ┆ ---        ┆ f32       │\n",
       "│          ┆            ┆            ┆            ┆   ┆          ┆        ┆ f32        ┆           │\n",
       "╞══════════╪════════════╪════════════╪════════════╪═══╪══════════╪════════╪════════════╪═══════════╡\n",
       "│ 4        ┆ 7349717282 ┆ ботинки    ┆ Ботинки    ┆ … ┆ 638660   ┆ 500.0  ┆ -1.0       ┆ 0.0       │\n",
       "│          ┆            ┆ детские    ┆ детские    ┆   ┆          ┆        ┆            ┆           │\n",
       "│          ┆            ┆ zara 21    ┆ Zara       ┆   ┆          ┆        ┆            ┆           │\n",
       "│ 4        ┆ 7519735286 ┆ ботинки    ┆ Детские    ┆ … ┆ 637640   ┆ 250.0  ┆ -1.0       ┆ 0.0       │\n",
       "│          ┆            ┆ детские    ┆ ботинки    ┆   ┆          ┆        ┆            ┆           │\n",
       "│          ┆            ┆ zara 21    ┆ Zara       ┆   ┆          ┆        ┆            ┆           │\n",
       "│          ┆            ┆            ┆ унисекс    ┆   ┆          ┆        ┆            ┆           │\n",
       "│ 4        ┆ 4384449104 ┆ ботинки    ┆ Ботинки    ┆ … ┆ 623880   ┆ 1500.0 ┆ -1.0       ┆ 0.0       │\n",
       "│          ┆            ┆ детские    ┆ детские    ┆   ┆          ┆        ┆            ┆           │\n",
       "│          ┆            ┆ zara 21    ┆ zara       ┆   ┆          ┆        ┆            ┆           │\n",
       "│ 4        ┆ 7283365509 ┆ ботинки    ┆ Детские    ┆ … ┆ 628530   ┆ 220.0  ┆ -1.0       ┆ 0.0       │\n",
       "│          ┆            ┆ детские    ┆ ботиночки  ┆   ┆          ┆        ┆            ┆           │\n",
       "│          ┆            ┆ zara 21    ┆ Zara 21    ┆   ┆          ┆        ┆            ┆           │\n",
       "│          ┆            ┆            ┆ разм…      ┆   ┆          ┆        ┆            ┆           │\n",
       "│ 4        ┆ 4452768560 ┆ ботинки    ┆ Детские    ┆ … ┆ 637640   ┆ 1648.0 ┆ -1.0       ┆ 1.0       │\n",
       "│          ┆            ┆ детские    ┆ ботиночки  ┆   ┆          ┆        ┆            ┆           │\n",
       "│          ┆            ┆ zara 21    ┆ zara       ┆   ┆          ┆        ┆            ┆           │\n",
       "│          ┆            ┆            ┆ размер …   ┆   ┆          ┆        ┆            ┆           │\n",
       "└──────────┴────────────┴────────────┴────────────┴───┴──────────┴────────┴────────────┴───────────┘"
      ],
      "text/html": [
       "<div><style>\n",
       ".dataframe > thead > tr,\n",
       ".dataframe > tbody > tr {\n",
       "  text-align: right;\n",
       "  white-space: pre-wrap;\n",
       "}\n",
       "</style>\n",
       "<small>shape: (5, 14)</small><table border=\"1\" class=\"dataframe\"><thead><tr><th>query_id</th><th>item_id</th><th>query_text</th><th>item_title</th><th>item_description</th><th>query_cat</th><th>query_mcat</th><th>query_loc</th><th>item_cat_id</th><th>item_mcat_id</th><th>item_loc</th><th>price</th><th>item_query_click_conv</th><th>item_contact</th></tr><tr><td>i64</td><td>i64</td><td>str</td><td>str</td><td>str</td><td>f32</td><td>f64</td><td>f32</td><td>i32</td><td>i32</td><td>i32</td><td>f32</td><td>f32</td><td>f32</td></tr></thead><tbody><tr><td>4</td><td>7349717282</td><td>&quot;ботинки детские zara 21&quot;</td><td>&quot;Ботинки детские Zara&quot;</td><td>&quot;Новые полуботинки фирмы Zara. …</td><td>29.0</td><td>38.0</td><td>624480.0</td><td>29</td><td>2179540</td><td>638660</td><td>500.0</td><td>-1.0</td><td>0.0</td></tr><tr><td>4</td><td>7519735286</td><td>&quot;ботинки детские zara 21&quot;</td><td>&quot;Детские ботинки Zara унисекс&quot;</td><td>&quot;Крутые ботинки, в отличном сос…</td><td>29.0</td><td>38.0</td><td>624480.0</td><td>29</td><td>2179540</td><td>637640</td><td>250.0</td><td>-1.0</td><td>0.0</td></tr><tr><td>4</td><td>4384449104</td><td>&quot;ботинки детские zara 21&quot;</td><td>&quot;Ботинки детские zara&quot;</td><td>&quot;Челси димесезонные Zara \n",
       "В иде…</td><td>29.0</td><td>38.0</td><td>624480.0</td><td>29</td><td>2179540</td><td>623880</td><td>1500.0</td><td>-1.0</td><td>0.0</td></tr><tr><td>4</td><td>7283365509</td><td>&quot;ботинки детские zara 21&quot;</td><td>&quot;Детские ботиночки Zara 21 разм…</td><td>&quot;АВИТО ДОСТАВКА .21 РАЗМЕР.&quot;</td><td>29.0</td><td>38.0</td><td>624480.0</td><td>29</td><td>2179540</td><td>628530</td><td>220.0</td><td>-1.0</td><td>0.0</td></tr><tr><td>4</td><td>4452768560</td><td>&quot;ботинки детские zara 21&quot;</td><td>&quot;Детские ботиночки zara размер …</td><td>&quot;Детские ботинки Zara \n",
       "Размер 2…</td><td>29.0</td><td>38.0</td><td>624480.0</td><td>29</td><td>2179540</td><td>637640</td><td>1648.0</td><td>-1.0</td><td>1.0</td></tr></tbody></table></div>"
      ]
     },
     "execution_count": 7,
     "metadata": {},
     "output_type": "execute_result"
    }
   ],
   "execution_count": 7
  },
  {
   "metadata": {},
   "cell_type": "markdown",
   "source": "# 3. Пропуски",
   "id": "ea0f974aba42085a"
  },
  {
   "metadata": {
    "ExecuteTime": {
     "end_time": "2025-09-18T01:46:47.797210Z",
     "start_time": "2025-09-18T01:46:47.783520Z"
    }
   },
   "cell_type": "code",
   "source": [
    "missing = (\n",
    "    train\n",
    "    .select([pl.col(c).is_null().sum().alias(c) for c in train.columns])\n",
    "    .transpose(include_header=True, header_name=\"column\", column_names=[\"nulls\"])\n",
    "    .with_columns([\n",
    "        (pl.col(\"nulls\") / train.height).alias(\"null_frac\")\n",
    "    ])\n",
    "    .sort(\"nulls\", descending=True)\n",
    ")\n",
    "print(\"[missing] Количество и доля пропусков по колонкам:\")\n",
    "missing\n"
   ],
   "id": "7ae7bcc5f52b85e2",
   "outputs": [
    {
     "name": "stdout",
     "output_type": "stream",
     "text": [
      "[missing] Количество и доля пропусков по колонкам:\n"
     ]
    },
    {
     "data": {
      "text/plain": [
       "shape: (14, 3)\n",
       "┌───────────────────────┬─────────┬───────────┐\n",
       "│ column                ┆ nulls   ┆ null_frac │\n",
       "│ ---                   ┆ ---     ┆ ---       │\n",
       "│ str                   ┆ u32     ┆ f64       │\n",
       "╞═══════════════════════╪═════════╪═══════════╡\n",
       "│ query_mcat            ┆ 1761233 ┆ 0.226327  │\n",
       "│ item_title            ┆ 107     ┆ 0.000014  │\n",
       "│ item_description      ┆ 107     ┆ 0.000014  │\n",
       "│ query_id              ┆ 0       ┆ 0.0       │\n",
       "│ item_id               ┆ 0       ┆ 0.0       │\n",
       "│ …                     ┆ …       ┆ …         │\n",
       "│ item_mcat_id          ┆ 0       ┆ 0.0       │\n",
       "│ item_loc              ┆ 0       ┆ 0.0       │\n",
       "│ price                 ┆ 0       ┆ 0.0       │\n",
       "│ item_query_click_conv ┆ 0       ┆ 0.0       │\n",
       "│ item_contact          ┆ 0       ┆ 0.0       │\n",
       "└───────────────────────┴─────────┴───────────┘"
      ],
      "text/html": [
       "<div><style>\n",
       ".dataframe > thead > tr,\n",
       ".dataframe > tbody > tr {\n",
       "  text-align: right;\n",
       "  white-space: pre-wrap;\n",
       "}\n",
       "</style>\n",
       "<small>shape: (14, 3)</small><table border=\"1\" class=\"dataframe\"><thead><tr><th>column</th><th>nulls</th><th>null_frac</th></tr><tr><td>str</td><td>u32</td><td>f64</td></tr></thead><tbody><tr><td>&quot;query_mcat&quot;</td><td>1761233</td><td>0.226327</td></tr><tr><td>&quot;item_title&quot;</td><td>107</td><td>0.000014</td></tr><tr><td>&quot;item_description&quot;</td><td>107</td><td>0.000014</td></tr><tr><td>&quot;query_id&quot;</td><td>0</td><td>0.0</td></tr><tr><td>&quot;item_id&quot;</td><td>0</td><td>0.0</td></tr><tr><td>&hellip;</td><td>&hellip;</td><td>&hellip;</td></tr><tr><td>&quot;item_mcat_id&quot;</td><td>0</td><td>0.0</td></tr><tr><td>&quot;item_loc&quot;</td><td>0</td><td>0.0</td></tr><tr><td>&quot;price&quot;</td><td>0</td><td>0.0</td></tr><tr><td>&quot;item_query_click_conv&quot;</td><td>0</td><td>0.0</td></tr><tr><td>&quot;item_contact&quot;</td><td>0</td><td>0.0</td></tr></tbody></table></div>"
      ]
     },
     "execution_count": 8,
     "metadata": {},
     "output_type": "execute_result"
    }
   ],
   "execution_count": 8
  },
  {
   "metadata": {
    "ExecuteTime": {
     "end_time": "2025-09-18T01:47:47.765743Z",
     "start_time": "2025-09-18T01:47:47.758743Z"
    }
   },
   "cell_type": "code",
   "source": "print(missing)",
   "id": "9b401690b8da8c3b",
   "outputs": [
    {
     "name": "stdout",
     "output_type": "stream",
     "text": [
      "shape: (14, 3)\n",
      "┌───────────────────────┬─────────┬───────────┐\n",
      "│ column                ┆ nulls   ┆ null_frac │\n",
      "│ ---                   ┆ ---     ┆ ---       │\n",
      "│ str                   ┆ u32     ┆ f64       │\n",
      "╞═══════════════════════╪═════════╪═══════════╡\n",
      "│ query_mcat            ┆ 1761233 ┆ 0.226327  │\n",
      "│ item_title            ┆ 107     ┆ 0.000014  │\n",
      "│ item_description      ┆ 107     ┆ 0.000014  │\n",
      "│ query_id              ┆ 0       ┆ 0.0       │\n",
      "│ item_id               ┆ 0       ┆ 0.0       │\n",
      "│ …                     ┆ …       ┆ …         │\n",
      "│ item_mcat_id          ┆ 0       ┆ 0.0       │\n",
      "│ item_loc              ┆ 0       ┆ 0.0       │\n",
      "│ price                 ┆ 0       ┆ 0.0       │\n",
      "│ item_query_click_conv ┆ 0       ┆ 0.0       │\n",
      "│ item_contact          ┆ 0       ┆ 0.0       │\n",
      "└───────────────────────┴─────────┴───────────┘\n"
     ]
    }
   ],
   "execution_count": 9
  },
  {
   "metadata": {},
   "cell_type": "markdown",
   "source": "# 4. Уникальные значения",
   "id": "a5874fa30bd0085a"
  },
  {
   "metadata": {
    "ExecuteTime": {
     "end_time": "2025-09-18T01:48:50.971651Z",
     "start_time": "2025-09-18T01:48:50.815974Z"
    }
   },
   "cell_type": "code",
   "source": [
    "def nunique(df: pl.DataFrame, col: str) -> int:\n",
    "    return df.select(pl.col(col).n_unique()).item()\n",
    "\n",
    "print(\"[unique] уникальных query_id (train/test):\", nunique(train, \"query_id\"), nunique(test, \"query_id\"))\n",
    "print(\"[unique] уникальных item_id   (train/test):\", nunique(train, \"item_id\"), nunique(test, \"item_id\"))\n",
    "print()"
   ],
   "id": "337a6ab377221f65",
   "outputs": [
    {
     "name": "stdout",
     "output_type": "stream",
     "text": [
      "[unique] уникальных query_id (train/test): 678190 12505\n",
      "[unique] уникальных item_id   (train/test): 5773058 321625\n",
      "\n"
     ]
    }
   ],
   "execution_count": 10
  },
  {
   "metadata": {},
   "cell_type": "markdown",
   "source": "# Числовые данные",
   "id": "5adc08c6509acd44"
  },
  {
   "metadata": {
    "ExecuteTime": {
     "end_time": "2025-09-18T01:53:46.175318Z",
     "start_time": "2025-09-18T01:53:44.712295Z"
    }
   },
   "cell_type": "code",
   "source": [
    "num_cols = [c for c, t in train.schema.items() if t in pl.NUMERIC_DTYPES]\n",
    "if num_cols:\n",
    "    # Для компактности считаем набор статистик по каждой числовой колонке\n",
    "    stats_rows = []\n",
    "    for c in num_cols:\n",
    "        s = (\n",
    "            train\n",
    "            .select(\n",
    "                pl.col(c).cast(pl.Float64),\n",
    "                pl.len().alias(\"__n\")\n",
    "            )\n",
    "            .select([\n",
    "                pl.lit(c).alias(\"column\"),\n",
    "                pl.col(c).mean().alias(\"mean\"),\n",
    "                pl.col(c).std().alias(\"std\"),\n",
    "                pl.col(c).min().alias(\"min\"),\n",
    "                pl.col(c).quantile(0.25).alias(\"p25\"),\n",
    "                pl.col(c).median().alias(\"p50\"),\n",
    "                pl.col(c).quantile(0.75).alias(\"p75\"),\n",
    "                pl.col(c).quantile(0.95).alias(\"p95\"),\n",
    "                pl.col(c).quantile(0.99).alias(\"p99\"),\n",
    "                pl.col(c).max().alias(\"max\"),\n",
    "            ])\n",
    "        )\n",
    "        stats_rows.append(s)\n",
    "    num_stats = pl.concat(stats_rows)\n",
    "    print(\"[numeric] базовые статистики:\")\n",
    "    res = num_stats.sort(\"column\")"
   ],
   "id": "61df0c9a519d921e",
   "outputs": [
    {
     "name": "stderr",
     "output_type": "stream",
     "text": [
      "C:\\Users\\idine\\AppData\\Local\\Temp\\ipykernel_52048\\1822074572.py:1: DeprecationWarning: `NUMERIC_DTYPES` was deprecated in version 1.0.0. Define your own data type groups or use the `polars.selectors` module for selecting columns of a certain data type.\n",
      "  num_cols = [c for c, t in train.schema.items() if t in pl.NUMERIC_DTYPES]\n"
     ]
    },
    {
     "name": "stdout",
     "output_type": "stream",
     "text": [
      "[numeric] базовые статистики:\n"
     ]
    }
   ],
   "execution_count": 20
  },
  {
   "metadata": {
    "ExecuteTime": {
     "end_time": "2025-09-18T01:53:48.610317Z",
     "start_time": "2025-09-18T01:53:48.595280Z"
    }
   },
   "cell_type": "code",
   "source": "res",
   "id": "f9f06a6d87c4235c",
   "outputs": [
    {
     "data": {
      "text/plain": [
       "shape: (11, 10)\n",
       "┌───────────┬───────────┬───────────┬──────────┬───┬───────────┬───────────┬───────────┬───────────┐\n",
       "│ column    ┆ mean      ┆ std       ┆ min      ┆ … ┆ p75       ┆ p95       ┆ p99       ┆ max       │\n",
       "│ ---       ┆ ---       ┆ ---       ┆ ---      ┆   ┆ ---       ┆ ---       ┆ ---       ┆ ---       │\n",
       "│ str       ┆ f64       ┆ f64       ┆ f64      ┆   ┆ f64       ┆ f64       ┆ f64       ┆ f64       │\n",
       "╞═══════════╪═══════════╪═══════════╪══════════╪═══╪═══════════╪═══════════╪═══════════╪═══════════╡\n",
       "│ item_cat_ ┆ 58.124696 ┆ 42.391457 ┆ 0.0      ┆ … ┆ 111.0     ┆ 114.0     ┆ 114.0     ┆ 426.0     │\n",
       "│ id        ┆           ┆           ┆          ┆   ┆           ┆           ┆           ┆           │\n",
       "│ item_cont ┆ 0.044057  ┆ 0.205223  ┆ 0.0      ┆ … ┆ 0.0       ┆ 0.0       ┆ 1.0       ┆ 1.0       │\n",
       "│ act       ┆           ┆           ┆          ┆   ┆           ┆           ┆           ┆           │\n",
       "│ item_id   ┆ 5.9148e9  ┆ 2.0082e9  ┆ 112067.0 ┆ … ┆ 7.5281e9  ┆ 7.5834e9  ┆ 7.6078e9  ┆ 7.6620e9  │\n",
       "│ item_loc  ┆ 644144.20 ┆ 20381.792 ┆ 621551.0 ┆ … ┆ 653240.0  ┆ 661010.0  ┆ 662810.0  ┆ 905811.0  │\n",
       "│           ┆ 2853      ┆ 652       ┆          ┆   ┆           ┆           ┆           ┆           │\n",
       "│ item_mcat ┆ 1.0722e6  ┆ 1.0320e6  ┆ 0.0      ┆ … ┆ 2.275142e ┆ 2.30187e6 ┆ 2.302905e ┆ 2.303084e │\n",
       "│ _id       ┆           ┆           ┆          ┆   ┆ 6         ┆           ┆ 6         ┆ 6         │\n",
       "│ …         ┆ …         ┆ …         ┆ …        ┆ … ┆ …         ┆ …         ┆ …         ┆ …         │\n",
       "│ price     ┆ 1.5637e6  ┆ 9.4102e8  ┆ 0.0      ┆ … ┆ 13100.0   ┆ 310000.0  ┆ 4.6e6     ┆ 1.0000e12 │\n",
       "│ query_cat ┆ 44.657394 ┆ 48.492066 ┆ 0.0      ┆ … ┆ 106.0     ┆ 114.0     ┆ 114.0     ┆ 442.0     │\n",
       "│ query_id  ┆ 412381.94 ┆ 238226.16 ┆ 0.0      ┆ … ┆ 618746.0  ┆ 783362.0  ┆ 816492.0  ┆ 824764.0  │\n",
       "│           ┆ 137       ┆ 3007      ┆          ┆   ┆           ┆           ┆           ┆           │\n",
       "│ query_loc ┆ 500751.06 ┆ 259933.16 ┆ 0.0      ┆ … ┆ 651280.0  ┆ 660060.0  ┆ 662530.0  ┆ 904768.0  │\n",
       "│           ┆ 7443      ┆ 4784      ┆          ┆   ┆           ┆           ┆           ┆           │\n",
       "│ query_mca ┆ 341416.33 ┆ 742911.39 ┆ 2.0      ┆ … ┆ 3838.0    ┆ 2.301062e ┆ 2.302905e ┆ 2.303049e │\n",
       "│ t         ┆ 937       ┆ 3274      ┆          ┆   ┆           ┆ 6         ┆ 6         ┆ 6         │\n",
       "└───────────┴───────────┴───────────┴──────────┴───┴───────────┴───────────┴───────────┴───────────┘"
      ],
      "text/html": [
       "<div><style>\n",
       ".dataframe > thead > tr,\n",
       ".dataframe > tbody > tr {\n",
       "  text-align: right;\n",
       "  white-space: pre-wrap;\n",
       "}\n",
       "</style>\n",
       "<small>shape: (11, 10)</small><table border=\"1\" class=\"dataframe\"><thead><tr><th>column</th><th>mean</th><th>std</th><th>min</th><th>p25</th><th>p50</th><th>p75</th><th>p95</th><th>p99</th><th>max</th></tr><tr><td>str</td><td>f64</td><td>f64</td><td>f64</td><td>f64</td><td>f64</td><td>f64</td><td>f64</td><td>f64</td><td>f64</td></tr></thead><tbody><tr><td>&quot;item_cat_id&quot;</td><td>58.124696</td><td>42.391457</td><td>0.0</td><td>24.0</td><td>31.0</td><td>111.0</td><td>114.0</td><td>114.0</td><td>426.0</td></tr><tr><td>&quot;item_contact&quot;</td><td>0.044057</td><td>0.205223</td><td>0.0</td><td>0.0</td><td>0.0</td><td>0.0</td><td>0.0</td><td>1.0</td><td>1.0</td></tr><tr><td>&quot;item_id&quot;</td><td>5.9148e9</td><td>2.0082e9</td><td>112067.0</td><td>4.2131e9</td><td>7.3524e9</td><td>7.5281e9</td><td>7.5834e9</td><td>7.6078e9</td><td>7.6620e9</td></tr><tr><td>&quot;item_loc&quot;</td><td>644144.202853</td><td>20381.792652</td><td>621551.0</td><td>637640.0</td><td>639740.0</td><td>653240.0</td><td>661010.0</td><td>662810.0</td><td>905811.0</td></tr><tr><td>&quot;item_mcat_id&quot;</td><td>1.0722e6</td><td>1.0320e6</td><td>0.0</td><td>3726.0</td><td>1.175242e6</td><td>2.275142e6</td><td>2.30187e6</td><td>2.302905e6</td><td>2.303084e6</td></tr><tr><td>&hellip;</td><td>&hellip;</td><td>&hellip;</td><td>&hellip;</td><td>&hellip;</td><td>&hellip;</td><td>&hellip;</td><td>&hellip;</td><td>&hellip;</td><td>&hellip;</td></tr><tr><td>&quot;price&quot;</td><td>1.5637e6</td><td>9.4102e8</td><td>0.0</td><td>600.0</td><td>2600.0</td><td>13100.0</td><td>310000.0</td><td>4.6e6</td><td>1.0000e12</td></tr><tr><td>&quot;query_cat&quot;</td><td>44.657394</td><td>48.492066</td><td>0.0</td><td>5.0</td><td>27.0</td><td>106.0</td><td>114.0</td><td>114.0</td><td>442.0</td></tr><tr><td>&quot;query_id&quot;</td><td>412381.94137</td><td>238226.163007</td><td>0.0</td><td>206089.0</td><td>412365.0</td><td>618746.0</td><td>783362.0</td><td>816492.0</td><td>824764.0</td></tr><tr><td>&quot;query_loc&quot;</td><td>500751.067443</td><td>259933.164784</td><td>0.0</td><td>621630.0</td><td>637640.0</td><td>651280.0</td><td>660060.0</td><td>662530.0</td><td>904768.0</td></tr><tr><td>&quot;query_mcat&quot;</td><td>341416.33937</td><td>742911.393274</td><td>2.0</td><td>37.0</td><td>62.0</td><td>3838.0</td><td>2.301062e6</td><td>2.302905e6</td><td>2.303049e6</td></tr></tbody></table></div>"
      ]
     },
     "execution_count": 21,
     "metadata": {},
     "output_type": "execute_result"
    }
   ],
   "execution_count": 21
  },
  {
   "metadata": {
    "ExecuteTime": {
     "end_time": "2025-09-18T11:46:10.943383Z",
     "start_time": "2025-09-18T11:46:10.936382Z"
    }
   },
   "cell_type": "code",
   "source": "print(res)",
   "id": "a1f5cd9efcc81b46",
   "outputs": [
    {
     "name": "stdout",
     "output_type": "stream",
     "text": [
      "shape: (11, 10)\n",
      "┌───────────┬───────────┬───────────┬──────────┬───┬───────────┬───────────┬───────────┬───────────┐\n",
      "│ column    ┆ mean      ┆ std       ┆ min      ┆ … ┆ p75       ┆ p95       ┆ p99       ┆ max       │\n",
      "│ ---       ┆ ---       ┆ ---       ┆ ---      ┆   ┆ ---       ┆ ---       ┆ ---       ┆ ---       │\n",
      "│ str       ┆ f64       ┆ f64       ┆ f64      ┆   ┆ f64       ┆ f64       ┆ f64       ┆ f64       │\n",
      "╞═══════════╪═══════════╪═══════════╪══════════╪═══╪═══════════╪═══════════╪═══════════╪═══════════╡\n",
      "│ item_cat_ ┆ 58.124696 ┆ 42.391457 ┆ 0.0      ┆ … ┆ 111.0     ┆ 114.0     ┆ 114.0     ┆ 426.0     │\n",
      "│ id        ┆           ┆           ┆          ┆   ┆           ┆           ┆           ┆           │\n",
      "│ item_cont ┆ 0.044057  ┆ 0.205223  ┆ 0.0      ┆ … ┆ 0.0       ┆ 0.0       ┆ 1.0       ┆ 1.0       │\n",
      "│ act       ┆           ┆           ┆          ┆   ┆           ┆           ┆           ┆           │\n",
      "│ item_id   ┆ 5.9148e9  ┆ 2.0082e9  ┆ 112067.0 ┆ … ┆ 7.5281e9  ┆ 7.5834e9  ┆ 7.6078e9  ┆ 7.6620e9  │\n",
      "│ item_loc  ┆ 644144.20 ┆ 20381.792 ┆ 621551.0 ┆ … ┆ 653240.0  ┆ 661010.0  ┆ 662810.0  ┆ 905811.0  │\n",
      "│           ┆ 2853      ┆ 652       ┆          ┆   ┆           ┆           ┆           ┆           │\n",
      "│ item_mcat ┆ 1.0722e6  ┆ 1.0320e6  ┆ 0.0      ┆ … ┆ 2.275142e ┆ 2.30187e6 ┆ 2.302905e ┆ 2.303084e │\n",
      "│ _id       ┆           ┆           ┆          ┆   ┆ 6         ┆           ┆ 6         ┆ 6         │\n",
      "│ …         ┆ …         ┆ …         ┆ …        ┆ … ┆ …         ┆ …         ┆ …         ┆ …         │\n",
      "│ price     ┆ 1.5637e6  ┆ 9.4102e8  ┆ 0.0      ┆ … ┆ 13100.0   ┆ 310000.0  ┆ 4.6e6     ┆ 1.0000e12 │\n",
      "│ query_cat ┆ 44.657394 ┆ 48.492066 ┆ 0.0      ┆ … ┆ 106.0     ┆ 114.0     ┆ 114.0     ┆ 442.0     │\n",
      "│ query_id  ┆ 412381.94 ┆ 238226.16 ┆ 0.0      ┆ … ┆ 618746.0  ┆ 783362.0  ┆ 816492.0  ┆ 824764.0  │\n",
      "│           ┆ 137       ┆ 3007      ┆          ┆   ┆           ┆           ┆           ┆           │\n",
      "│ query_loc ┆ 500751.06 ┆ 259933.16 ┆ 0.0      ┆ … ┆ 651280.0  ┆ 660060.0  ┆ 662530.0  ┆ 904768.0  │\n",
      "│           ┆ 7443      ┆ 4784      ┆          ┆   ┆           ┆           ┆           ┆           │\n",
      "│ query_mca ┆ 341416.33 ┆ 742911.39 ┆ 2.0      ┆ … ┆ 3838.0    ┆ 2.301062e ┆ 2.302905e ┆ 2.303049e │\n",
      "│ t         ┆ 937       ┆ 3274      ┆          ┆   ┆           ┆ 6         ┆ 6         ┆ 6         │\n",
      "└───────────┴───────────┴───────────┴──────────┴───┴───────────┴───────────┴───────────┴───────────┘\n"
     ]
    }
   ],
   "execution_count": 31
  },
  {
   "metadata": {},
   "cell_type": "markdown",
   "source": "# Таргет: баланс классов",
   "id": "7218d384d7657aa"
  },
  {
   "metadata": {
    "ExecuteTime": {
     "end_time": "2025-09-18T11:30:04.231179Z",
     "start_time": "2025-09-18T11:30:04.177989Z"
    }
   },
   "cell_type": "code",
   "source": [
    "if \"item_contact\" in train.columns:\n",
    "    tgt = (\n",
    "        train\n",
    "        .with_columns(pl.col(\"item_contact\").cast(pl.Int32))\n",
    "        .group_by(\"item_contact\")\n",
    "        .agg(pl.len().alias(\"cnt\"))\n",
    "        .with_columns((pl.col(\"cnt\") / pl.col(\"cnt\").sum()).alias(\"frac\"))\n",
    "        .sort(\"item_contact\")\n",
    "    )\n",
    "    print(\"[target] распределение item_contact:\")\n",
    "    print(f\"[target] положительная доля: {train.select(pl.col('item_contact').cast(pl.Float64).mean()).item():.4f}\\n\")"
   ],
   "id": "1f24cdddfe239bc6",
   "outputs": [
    {
     "name": "stdout",
     "output_type": "stream",
     "text": [
      "[target] распределение item_contact:\n",
      "[target] положительная доля: 0.0441\n",
      "\n"
     ]
    }
   ],
   "execution_count": 23
  },
  {
   "metadata": {
    "ExecuteTime": {
     "end_time": "2025-09-18T11:30:08.145575Z",
     "start_time": "2025-09-18T11:30:08.132022Z"
    }
   },
   "cell_type": "code",
   "source": "tgt",
   "id": "30955d326c760bc6",
   "outputs": [
    {
     "data": {
      "text/plain": [
       "shape: (2, 3)\n",
       "┌──────────────┬─────────┬──────────┐\n",
       "│ item_contact ┆ cnt     ┆ frac     │\n",
       "│ ---          ┆ ---     ┆ ---      │\n",
       "│ i32          ┆ u32     ┆ f64      │\n",
       "╞══════════════╪═════════╪══════════╡\n",
       "│ 0            ┆ 7438944 ┆ 0.955943 │\n",
       "│ 1            ┆ 342846  ┆ 0.044057 │\n",
       "└──────────────┴─────────┴──────────┘"
      ],
      "text/html": [
       "<div><style>\n",
       ".dataframe > thead > tr,\n",
       ".dataframe > tbody > tr {\n",
       "  text-align: right;\n",
       "  white-space: pre-wrap;\n",
       "}\n",
       "</style>\n",
       "<small>shape: (2, 3)</small><table border=\"1\" class=\"dataframe\"><thead><tr><th>item_contact</th><th>cnt</th><th>frac</th></tr><tr><td>i32</td><td>u32</td><td>f64</td></tr></thead><tbody><tr><td>0</td><td>7438944</td><td>0.955943</td></tr><tr><td>1</td><td>342846</td><td>0.044057</td></tr></tbody></table></div>"
      ]
     },
     "execution_count": 24,
     "metadata": {},
     "output_type": "execute_result"
    }
   ],
   "execution_count": 24
  },
  {
   "metadata": {
    "ExecuteTime": {
     "end_time": "2025-09-18T11:45:49.131387Z",
     "start_time": "2025-09-18T11:45:49.116868Z"
    }
   },
   "cell_type": "code",
   "source": "print(tgt)",
   "id": "8e6cee4cbc503207",
   "outputs": [
    {
     "name": "stdout",
     "output_type": "stream",
     "text": [
      "shape: (2, 3)\n",
      "┌──────────────┬─────────┬──────────┐\n",
      "│ item_contact ┆ cnt     ┆ frac     │\n",
      "│ ---          ┆ ---     ┆ ---      │\n",
      "│ i32          ┆ u32     ┆ f64      │\n",
      "╞══════════════╪═════════╪══════════╡\n",
      "│ 0            ┆ 7438944 ┆ 0.955943 │\n",
      "│ 1            ┆ 342846  ┆ 0.044057 │\n",
      "└──────────────┴─────────┴──────────┘\n"
     ]
    }
   ],
   "execution_count": 30
  },
  {
   "metadata": {},
   "cell_type": "markdown",
   "source": "# Группы по запросам: размер пула, доля позитивов, цена внутри запроса",
   "id": "fd56dadf0c83cb4d"
  },
  {
   "metadata": {
    "ExecuteTime": {
     "end_time": "2025-09-18T11:30:57.366171Z",
     "start_time": "2025-09-18T11:30:56.963139Z"
    }
   },
   "cell_type": "code",
   "source": [
    "if \"item_contact\" in train.columns and \"price\" in train.columns:\n",
    "    per_query = (\n",
    "        train\n",
    "        .with_columns(pl.col(\"item_contact\").cast(pl.Int32))\n",
    "        .group_by(\"query_id\")\n",
    "        .agg([\n",
    "            pl.len().alias(\"n_items\"),\n",
    "            pl.col(\"item_contact\").sum().alias(\"n_pos\"),\n",
    "            pl.col(\"item_contact\").mean().alias(\"pos_rate\"),\n",
    "            pl.col(\"price\").mean().alias(\"price_mean\"),\n",
    "            pl.col(\"price\").median().alias(\"price_median\")\n",
    "        ])\n",
    "        .sort(\"n_items\", descending=True)\n",
    "    )\n",
    "    print(\"[group] примеры агрегатов по query_id:\")\n",
    "    print(per_query.head(10))\n",
    "    print()\n",
    "\n",
    "    # Распределение размера пулов и доли позитивов (в числах)\n",
    "    print(\"[group] размер пула кандидатов (квантили):\")\n",
    "    print(per_query.select([\n",
    "        pl.col(\"n_items\").min().alias(\"min\"),\n",
    "        pl.col(\"n_items\").quantile(0.5).alias(\"p50\"),\n",
    "        pl.col(\"n_items\").quantile(0.9).alias(\"p90\"),\n",
    "        pl.col(\"n_items\").quantile(0.99).alias(\"p99\"),\n",
    "        pl.col(\"n_items\").max().alias(\"max\"),\n",
    "    ]))\n",
    "    print()"
   ],
   "id": "a9987e6c53f332d6",
   "outputs": [
    {
     "name": "stdout",
     "output_type": "stream",
     "text": [
      "[group] примеры агрегатов по query_id:\n",
      "shape: (10, 6)\n",
      "┌──────────┬─────────┬───────┬──────────┬───────────────┬──────────────┐\n",
      "│ query_id ┆ n_items ┆ n_pos ┆ pos_rate ┆ price_mean    ┆ price_median │\n",
      "│ ---      ┆ ---     ┆ ---   ┆ ---      ┆ ---           ┆ ---          │\n",
      "│ i64      ┆ u32     ┆ i32   ┆ f64      ┆ f32           ┆ f32          │\n",
      "╞══════════╪═════════╪═══════╪══════════╪═══════════════╪══════════════╡\n",
      "│ 757116   ┆ 500     ┆ 6     ┆ 0.012    ┆ 20046.0       ┆ 0.0          │\n",
      "│ 636573   ┆ 480     ┆ 0     ┆ 0.0      ┆ 31602.707031  ┆ 10000.0      │\n",
      "│ 762063   ┆ 478     ┆ 0     ┆ 0.0      ┆ 20771.828125  ┆ 0.0          │\n",
      "│ 573576   ┆ 467     ┆ 0     ┆ 0.0      ┆ 18884.4375    ┆ 0.0          │\n",
      "│ 240076   ┆ 464     ┆ 1     ┆ 0.002155 ┆ 30740.908203  ┆ 0.0          │\n",
      "│ 115042   ┆ 460     ┆ 0     ┆ 0.0      ┆ 31189.222656  ┆ 0.0          │\n",
      "│ 29012    ┆ 414     ┆ 0     ┆ 0.0      ┆ 37068.839844  ┆ 0.0          │\n",
      "│ 532666   ┆ 387     ┆ 0     ┆ 0.0      ┆ 25767.701172  ┆ 0.0          │\n",
      "│ 634027   ┆ 354     ┆ 0     ┆ 0.0      ┆ 116155.367188 ┆ 117500.0     │\n",
      "│ 788012   ┆ 353     ┆ 7     ┆ 0.01983  ┆ 19702.294922  ┆ 0.0          │\n",
      "└──────────┴─────────┴───────┴──────────┴───────────────┴──────────────┘\n",
      "\n",
      "[group] размер пула кандидатов (квантили):\n",
      "shape: (1, 5)\n",
      "┌─────┬──────┬──────┬──────┬─────┐\n",
      "│ min ┆ p50  ┆ p90  ┆ p99  ┆ max │\n",
      "│ --- ┆ ---  ┆ ---  ┆ ---  ┆ --- │\n",
      "│ u32 ┆ f64  ┆ f64  ┆ f64  ┆ u32 │\n",
      "╞═════╪══════╪══════╪══════╪═════╡\n",
      "│ 1   ┆ 11.0 ┆ 21.0 ┆ 34.0 ┆ 500 │\n",
      "└─────┴──────┴──────┴──────┴─────┘\n",
      "\n"
     ]
    }
   ],
   "execution_count": 25
  },
  {
   "metadata": {},
   "cell_type": "markdown",
   "source": " # Категории и локации",
   "id": "3e5abcc332fc46d1"
  },
  {
   "metadata": {
    "ExecuteTime": {
     "end_time": "2025-09-18T11:33:50.204156Z",
     "start_time": "2025-09-18T11:33:50.113797Z"
    }
   },
   "cell_type": "code",
   "source": [
    "for a, b, name in [\n",
    "    (\"query_cat\", \"item_cat_id\", \"cat_match\"),\n",
    "    (\"query_mcat\", \"item_mcat_id\", \"mcat_match\"),\n",
    "    (\"query_loc\", \"item_loc\", \"loc_match\"),\n",
    "]:\n",
    "    if a in train.columns and b in train.columns:\n",
    "        rate = (\n",
    "            train\n",
    "            .with_columns((pl.col(a) == pl.col(b)).alias(name))\n",
    "            .select(pl.col(name).cast(pl.Int32).mean())\n",
    "            .item()\n",
    "        )\n",
    "        print(f\"[match] доля совпадений {a} == {b}: {rate:.4f}\")\n",
    "print()"
   ],
   "id": "f4ff935dbf9d404f",
   "outputs": [
    {
     "name": "stdout",
     "output_type": "stream",
     "text": [
      "[match] доля совпадений query_cat == item_cat_id: 0.6985\n",
      "[match] доля совпадений query_mcat == item_mcat_id: 0.3921\n",
      "[match] доля совпадений query_loc == item_loc: 0.4853\n",
      "\n"
     ]
    }
   ],
   "execution_count": 26
  },
  {
   "metadata": {
    "ExecuteTime": {
     "end_time": "2025-09-18T11:34:10.628288Z",
     "start_time": "2025-09-18T11:34:09.463779Z"
    }
   },
   "cell_type": "code",
   "source": [
    "def topk(df: pl.DataFrame, col: str, k: int = 10) -> pl.DataFrame:\n",
    "    return df.group_by(col).agg(pl.len().alias(\"cnt\")).sort(\"cnt\", descending=True).head(k)\n",
    "\n",
    "for col in [\"query_cat\", \"query_mcat\", \"query_loc\", \"item_cat_id\", \"item_mcat_id\", \"item_loc\"]:\n",
    "    if col in train.columns:\n",
    "        print(f\"[top] {col}:\")\n",
    "        print(topk(train, col, 10))\n",
    "        print()"
   ],
   "id": "aa26a2b00bad260f",
   "outputs": [
    {
     "name": "stdout",
     "output_type": "stream",
     "text": [
      "[top] query_cat:\n",
      "shape: (10, 2)\n",
      "┌───────────┬─────────┐\n",
      "│ query_cat ┆ cnt     │\n",
      "│ ---       ┆ ---     │\n",
      "│ f32       ┆ u32     │\n",
      "╞═══════════╪═════════╡\n",
      "│ 0.0       ┆ 1747975 │\n",
      "│ 114.0     ┆ 693215  │\n",
      "│ 27.0      ┆ 679839  │\n",
      "│ 112.0     ┆ 652631  │\n",
      "│ 10.0      ┆ 546969  │\n",
      "│ 111.0     ┆ 458653  │\n",
      "│ 29.0      ┆ 283786  │\n",
      "│ 9.0       ┆ 242959  │\n",
      "│ 5.0       ┆ 219190  │\n",
      "│ 24.0      ┆ 188211  │\n",
      "└───────────┴─────────┘\n",
      "\n",
      "[top] query_mcat:\n",
      "shape: (10, 2)\n",
      "┌────────────┬─────────┐\n",
      "│ query_mcat ┆ cnt     │\n",
      "│ ---        ┆ ---     │\n",
      "│ f64        ┆ u32     │\n",
      "╞════════════╪═════════╡\n",
      "│ null       ┆ 1761233 │\n",
      "│ 62.0       ┆ 652631  │\n",
      "│ 61.0       ┆ 456171  │\n",
      "│ 17.0       ┆ 291755  │\n",
      "│ 14.0       ┆ 229536  │\n",
      "│ 6.0        ┆ 218375  │\n",
      "│ 63.0       ┆ 210003  │\n",
      "│ 37.0       ┆ 198222  │\n",
      "│ 3838.0     ┆ 123882  │\n",
      "│ 38.0       ┆ 121708  │\n",
      "└────────────┴─────────┘\n",
      "\n",
      "[top] query_loc:\n",
      "shape: (10, 2)\n",
      "┌───────────┬─────────┐\n",
      "│ query_loc ┆ cnt     │\n",
      "│ ---       ┆ ---     │\n",
      "│ f32       ┆ u32     │\n",
      "╞═══════════╪═════════╡\n",
      "│ 0.0       ┆ 1282232 │\n",
      "│ 637640.0  ┆ 858532  │\n",
      "│ 653240.0  ┆ 430559  │\n",
      "│ 107620.0  ┆ 379344  │\n",
      "│ 107621.0  ┆ 150881  │\n",
      "│ 633540.0  ┆ 146135  │\n",
      "│ 654070.0  ┆ 133883  │\n",
      "│ 650400.0  ┆ 125025  │\n",
      "│ 641780.0  ┆ 117153  │\n",
      "│ 640860.0  ┆ 99150   │\n",
      "└───────────┴─────────┘\n",
      "\n",
      "[top] item_cat_id:\n",
      "shape: (10, 2)\n",
      "┌─────────────┬─────────┐\n",
      "│ item_cat_id ┆ cnt     │\n",
      "│ ---         ┆ ---     │\n",
      "│ i32         ┆ u32     │\n",
      "╞═════════════╪═════════╡\n",
      "│ 114         ┆ 1000845 │\n",
      "│ 27          ┆ 944585  │\n",
      "│ 10          ┆ 732604  │\n",
      "│ 112         ┆ 635044  │\n",
      "│ 111         ┆ 550388  │\n",
      "│ 29          ┆ 382093  │\n",
      "│ 19          ┆ 341652  │\n",
      "│ 20          ┆ 270209  │\n",
      "│ 9           ┆ 254297  │\n",
      "│ 24          ┆ 229754  │\n",
      "└─────────────┴─────────┘\n",
      "\n",
      "[top] item_mcat_id:\n",
      "shape: (10, 2)\n",
      "┌──────────────┬────────┐\n",
      "│ item_mcat_id ┆ cnt    │\n",
      "│ ---          ┆ ---    │\n",
      "│ i32          ┆ u32    │\n",
      "╞══════════════╪════════╡\n",
      "│ 62           ┆ 635044 │\n",
      "│ 5533         ┆ 118754 │\n",
      "│ 799          ┆ 92685  │\n",
      "│ 2278163      ┆ 89042  │\n",
      "│ 2278181      ┆ 85626  │\n",
      "│ 306          ┆ 78189  │\n",
      "│ 2302905      ┆ 77062  │\n",
      "│ 1175242      ┆ 74029  │\n",
      "│ 2278189      ┆ 63541  │\n",
      "│ 4957         ┆ 63253  │\n",
      "└──────────────┴────────┘\n",
      "\n",
      "[top] item_loc:\n",
      "shape: (10, 2)\n",
      "┌──────────┬─────────┐\n",
      "│ item_loc ┆ cnt     │\n",
      "│ ---      ┆ ---     │\n",
      "│ i32      ┆ u32     │\n",
      "╞══════════╪═════════╡\n",
      "│ 637640   ┆ 1467385 │\n",
      "│ 653240   ┆ 640062  │\n",
      "│ 633540   ┆ 208031  │\n",
      "│ 654070   ┆ 175632  │\n",
      "│ 650400   ┆ 153022  │\n",
      "│ 641780   ┆ 151124  │\n",
      "│ 652000   ┆ 134774  │\n",
      "│ 640860   ┆ 132250  │\n",
      "│ 661420   ┆ 125944  │\n",
      "│ 646600   ┆ 120153  │\n",
      "└──────────┴─────────┘\n",
      "\n"
     ]
    }
   ],
   "execution_count": 27
  },
  {
   "metadata": {},
   "cell_type": "markdown",
   "source": "# Тексты",
   "id": "4b798241ae26a637"
  },
  {
   "metadata": {
    "ExecuteTime": {
     "end_time": "2025-09-18T11:39:49.005219Z",
     "start_time": "2025-09-18T11:38:25.341066Z"
    }
   },
   "cell_type": "code",
   "source": [
    "text_cols = [c for c, t in train.schema.items() if t == pl.Utf8]\n",
    "has_text = all(x in train.columns for x in [\"query_text\", \"item_title\", \"item_description\"])\n",
    "\n",
    "if has_text:\n",
    "    # Предобработка: нижний регистр, очистка, токенизация по пробелам\n",
    "    # Регулярка удаляет все не-буквенно-цифровые символы, сводит последовательности к одному пробелу.\n",
    "    def tokenize(col: str) -> pl.Expr:\n",
    "        return (\n",
    "            pl.col(col)\n",
    "            .cast(pl.Utf8)\n",
    "            .fill_null(\"\")\n",
    "            .str.to_lowercase()\n",
    "            .str.replace_all(r\"[^0-9\\p{L}]+\", \" \")\n",
    "            .str.strip_chars()  # <--- замена .strip()\n",
    "            .str.split(\" \")\n",
    "            .list.eval(pl.element().filter(pl.element() != \"\"))  # убираем пустые\n",
    "        )\n",
    "\n",
    "\n",
    "    train = train.with_columns([\n",
    "        tokenize(\"query_text\").alias(\"query_tokens\"),\n",
    "        tokenize(\"item_title\").alias(\"title_tokens\"),\n",
    "        tokenize(\"item_description\").alias(\"desc_tokens\"),\n",
    "    ])\n",
    "\n",
    "    # Длины в словах\n",
    "    train = train.with_columns([\n",
    "        pl.col(\"query_tokens\").list.len().alias(\"query_len\"),\n",
    "        pl.col(\"title_tokens\").list.len().alias(\"title_len\"),\n",
    "        pl.col(\"desc_tokens\").list.len().alias(\"desc_len\"),\n",
    "    ])\n",
    "\n",
    "    print(\"[text] квантили длин (слов):\")\n",
    "    print(\n",
    "        train.select([\n",
    "            pl.col(\"query_len\").quantile(0.5).alias(\"query_p50\"),\n",
    "            pl.col(\"query_len\").quantile(0.95).alias(\"query_p95\"),\n",
    "            pl.col(\"title_len\").quantile(0.5).alias(\"title_p50\"),\n",
    "            pl.col(\"title_len\").quantile(0.95).alias(\"title_p95\"),\n",
    "            pl.col(\"desc_len\").quantile(0.5).alias(\"desc_p50\"),\n",
    "            pl.col(\"desc_len\").quantile(0.95).alias(\"desc_p95\"),\n",
    "        ])\n",
    "    )\n",
    "    print()\n",
    "\n",
    "    # Пересечение токенов между запросом и заголовком/описанием\n",
    "    # Используем set_intersection для уникальных токенов\n",
    "    train = train.with_columns([\n",
    "        pl.col(\"query_tokens\").list.set_intersection(pl.col(\"title_tokens\")).list.len().alias(\"overlap_q_title\"),\n",
    "        pl.col(\"query_tokens\").list.set_intersection(pl.col(\"desc_tokens\")).list.len().alias(\"overlap_q_desc\"),\n",
    "    ])\n",
    "\n",
    "    print(\"[text] среднее пересечение токенов:\")\n",
    "    print(\n",
    "        train.select([\n",
    "            pl.col(\"overlap_q_title\").mean().alias(\"mean_overlap_q_title\"),\n",
    "            pl.col(\"overlap_q_desc\").mean().alias(\"mean_overlap_q_desc\"),\n",
    "        ])\n",
    "    )\n",
    "    print()\n"
   ],
   "id": "84dbbddeae3f5650",
   "outputs": [
    {
     "name": "stdout",
     "output_type": "stream",
     "text": [
      "[text] квантили длин (слов):\n",
      "shape: (1, 6)\n",
      "┌───────────┬───────────┬───────────┬───────────┬──────────┬──────────┐\n",
      "│ query_p50 ┆ query_p95 ┆ title_p50 ┆ title_p95 ┆ desc_p50 ┆ desc_p95 │\n",
      "│ ---       ┆ ---       ┆ ---       ┆ ---       ┆ ---      ┆ ---      │\n",
      "│ f64       ┆ f64       ┆ f64       ┆ f64       ┆ f64      ┆ f64      │\n",
      "╞═══════════╪═══════════╪═══════════╪═══════════╪══════════╪══════════╡\n",
      "│ 2.0       ┆ 5.0       ┆ 5.0       ┆ 9.0       ┆ 49.0     ┆ 146.0    │\n",
      "└───────────┴───────────┴───────────┴───────────┴──────────┴──────────┘\n",
      "\n",
      "[text] среднее пересечение токенов:\n",
      "shape: (1, 2)\n",
      "┌──────────────────────┬─────────────────────┐\n",
      "│ mean_overlap_q_title ┆ mean_overlap_q_desc │\n",
      "│ ---                  ┆ ---                 │\n",
      "│ f64                  ┆ f64                 │\n",
      "╞══════════════════════╪═════════════════════╡\n",
      "│ 1.363154             ┆ 1.283809            │\n",
      "└──────────────────────┴─────────────────────┘\n",
      "\n"
     ]
    }
   ],
   "execution_count": 29
  },
  {
   "metadata": {},
   "cell_type": "markdown",
   "source": "# Поведенческий сигнал vs таргет",
   "id": "accb592f6821cd36"
  },
  {
   "metadata": {
    "ExecuteTime": {
     "end_time": "2025-09-18T11:57:31.766575Z",
     "start_time": "2025-09-18T11:57:31.615588Z"
    }
   },
   "cell_type": "code",
   "source": [
    "if \"item_query_click_conv\" in train.columns and \"item_contact\" in train.columns:\n",
    "    # Корреляция Пирсона (item_contact приводим к float)\n",
    "    corr = train.select(pl.corr(pl.col(\"item_query_click_conv\"), pl.col(\"item_contact\").cast(pl.Float64))).item()\n",
    "    print(f\"[corr] corr(item_query_click_conv, item_contact): {corr:.4f}\")\n",
    "\n",
    "    # Средние значения для 0/1\n",
    "    by_target = (\n",
    "        train\n",
    "        .with_columns(pl.col(\"item_contact\").cast(pl.Int32))\n",
    "        .group_by(\"item_contact\")\n",
    "        .agg(pl.col(\"item_query_click_conv\").mean().alias(\"conv_mean\"))\n",
    "        .sort(\"item_contact\")\n",
    "    )\n",
    "    print(\"[conv] среднее conv по классам item_contact:\")\n",
    "    print(by_target)\n",
    "    print()\n"
   ],
   "id": "d1386a8f102c2ab9",
   "outputs": [
    {
     "name": "stdout",
     "output_type": "stream",
     "text": [
      "[corr] corr(item_query_click_conv, item_contact): 0.0190\n",
      "[conv] среднее conv по классам item_contact:\n",
      "shape: (2, 2)\n",
      "┌──────────────┬───────────┐\n",
      "│ item_contact ┆ conv_mean │\n",
      "│ ---          ┆ ---       │\n",
      "│ i32          ┆ f32       │\n",
      "╞══════════════╪═══════════╡\n",
      "│ 0            ┆ -0.839106 │\n",
      "│ 1            ┆ -0.803783 │\n",
      "└──────────────┴───────────┘\n",
      "\n"
     ]
    }
   ],
   "execution_count": 32
  },
  {
   "metadata": {
    "ExecuteTime": {
     "end_time": "2025-09-18T11:57:57.781319Z",
     "start_time": "2025-09-18T11:57:57.767147Z"
    }
   },
   "cell_type": "code",
   "source": [
    "def sample_for_plots(df: pl.DataFrame, n: int = 200_000, seed: int = 42) -> pl.DataFrame:\n",
    "    if df.height <= n:\n",
    "        return df\n",
    "    return df.sample(n=n, shuffle=True, seed=seed)"
   ],
   "id": "a4609bc0a0250aeb",
   "outputs": [],
   "execution_count": 33
  },
  {
   "metadata": {
    "ExecuteTime": {
     "end_time": "2025-09-18T12:11:13.536869Z",
     "start_time": "2025-09-18T12:10:31.048375Z"
    }
   },
   "cell_type": "code",
   "source": [
    "plot_df = sample_for_plots(train)\n",
    "\n",
    "# Гистограмма цен (лог-шкала)\n",
    "if \"price\" in plot_df.columns:\n",
    "    price_vals = plot_df.select(pl.col(\"price\").cast(pl.Float64)).to_series().to_numpy()\n",
    "    price_vals = price_vals[np.isfinite(price_vals) & (price_vals > 0)]\n",
    "    if len(price_vals) > 0:\n",
    "        plt.figure(figsize=(6, 4))\n",
    "        plt.hist(price_vals, bins=100)\n",
    "        plt.xscale(\"log\")\n",
    "        plt.title(\"Распределение цен (лог-шкала)\")\n",
    "        plt.xlabel(\"price\")\n",
    "        plt.ylabel(\"count\")\n",
    "        plt.tight_layout()\n",
    "        plt.show()"
   ],
   "id": "5557e45b146f985a",
   "outputs": [
    {
     "data": {
      "text/plain": [
       "<Figure size 600x400 with 1 Axes>"
      ],
      "image/png": "[encoded data removed]"
     },
     "metadata": {},
     "output_type": "display_data"
    }
   ],
   "execution_count": 35
  },
  {
   "metadata": {
    "ExecuteTime": {
     "end_time": "2025-09-18T12:11:57.395545Z",
     "start_time": "2025-09-18T12:11:57.243545Z"
    }
   },
   "cell_type": "code",
   "source": [
    "# Гистограмма item_query_click_conv\n",
    "if \"item_query_click_conv\" in plot_df.columns:\n",
    "    conv_vals = plot_df.select(pl.col(\"item_query_click_conv\").cast(pl.Float64)).to_series().to_numpy()\n",
    "    conv_vals = conv_vals[np.isfinite(conv_vals)]\n",
    "    if len(conv_vals) > 0:\n",
    "        plt.figure(figsize=(6, 4))\n",
    "        plt.hist(conv_vals, bins=80)\n",
    "        plt.title(\"Распределение item_query_click_conv\")\n",
    "        plt.xlabel(\"item_query_click_conv\")\n",
    "        plt.ylabel(\"count\")\n",
    "        plt.tight_layout()\n",
    "        plt.show()\n"
   ],
   "id": "8d9aced9c7cb1390",
   "outputs": [
    {
     "data": {
      "text/plain": [
       "<Figure size 600x400 with 1 Axes>"
      ],
      "image/png": "[encoded data removed]"
     },
     "metadata": {},
     "output_type": "display_data"
    }
   ],
   "execution_count": 36
  },
  {
   "metadata": {
    "ExecuteTime": {
     "end_time": "2025-09-18T12:12:18.938392Z",
     "start_time": "2025-09-18T12:12:18.615412Z"
    }
   },
   "cell_type": "code",
   "source": [
    "# Длины текстов\n",
    "if has_text:\n",
    "    q_len = plot_df.select(pl.col(\"query_len\").cast(pl.Float64)).to_series().to_numpy()\n",
    "    t_len = plot_df.select(pl.col(\"title_len\").cast(pl.Float64)).to_series().to_numpy()\n",
    "    d_len = plot_df.select(pl.col(\"desc_len\").cast(pl.Float64)).to_series().to_numpy()\n",
    "\n",
    "    plt.figure(figsize=(6, 4))\n",
    "    plt.hist(q_len[np.isfinite(q_len)], bins=50)\n",
    "    plt.title(\"Длина запроса (слов)\")\n",
    "    plt.xlabel(\"query_len\")\n",
    "    plt.ylabel(\"count\")\n",
    "    plt.tight_layout()\n",
    "    plt.show()\n",
    "\n",
    "    plt.figure(figsize=(6, 4))\n",
    "    plt.hist(t_len[np.isfinite(t_len)], bins=50)\n",
    "    plt.title(\"Длина заголовка (слов)\")\n",
    "    plt.xlabel(\"title_len\")\n",
    "    plt.ylabel(\"count\")\n",
    "    plt.tight_layout()\n",
    "    plt.show()\n",
    "\n",
    "    plt.figure(figsize=(6, 4))\n",
    "    plt.hist(d_len[np.isfinite(d_len)], bins=50)\n",
    "    plt.title(\"Длина описания (слов)\")\n",
    "    plt.xlabel(\"desc_len\")\n",
    "    plt.ylabel(\"count\")\n",
    "    plt.tight_layout()\n",
    "    plt.show()"
   ],
   "id": "a60b0fd998715140",
   "outputs": [
    {
     "data": {
      "text/plain": [
       "<Figure size 600x400 with 1 Axes>"
      ],
      "image/png": "[encoded data removed]"
     },
     "metadata": {},
     "output_type": "display_data"
    },
    {
     "data": {
      "text/plain": [
       "<Figure size 600x400 with 1 Axes>"
      ],
      "image/png": "[encoded data removed]"
     },
     "metadata": {},
     "output_type": "display_data"
    },
    {
     "data": {
      "text/plain": [
       "<Figure size 600x400 with 1 Axes>"
      ],
      "image/png": "[encoded data removed]"
     },
     "metadata": {},
     "output_type": "display_data"
    }
   ],
   "execution_count": 37
  },
  {
   "metadata": {
    "ExecuteTime": {
     "end_time": "2025-09-18T12:12:35.446003Z",
     "start_time": "2025-09-18T12:12:35.433003Z"
    }
   },
   "cell_type": "code",
   "source": "test.head(5)",
   "id": "2a550f3fc28a6ba2",
   "outputs": [
    {
     "data": {
      "text/plain": [
       "shape: (5, 13)\n",
       "┌──────────┬────────────┬────────────┬────────────┬───┬────────────┬──────────┬────────┬───────────┐\n",
       "│ query_id ┆ item_id    ┆ query_text ┆ item_title ┆ … ┆ item_mcat_ ┆ item_loc ┆ price  ┆ item_quer │\n",
       "│ ---      ┆ ---        ┆ ---        ┆ ---        ┆   ┆ id         ┆ ---      ┆ ---    ┆ y_click_c │\n",
       "│ i64      ┆ i64        ┆ str        ┆ str        ┆   ┆ ---        ┆ i32      ┆ f32    ┆ onv       │\n",
       "│          ┆            ┆            ┆            ┆   ┆ i32        ┆          ┆        ┆ ---       │\n",
       "│          ┆            ┆            ┆            ┆   ┆            ┆          ┆        ┆ f32       │\n",
       "╞══════════╪════════════╪════════════╪════════════╪═══╪════════════╪══════════╪════════╪═══════════╡\n",
       "│ 55       ┆ 7540855789 ┆ 1 сентября ┆ Воздушные  ┆ … ┆ 2301564    ┆ 637640   ┆ 120.0  ┆ -1.0      │\n",
       "│          ┆            ┆            ┆ и гелиевые ┆   ┆            ┆          ┆        ┆           │\n",
       "│          ┆            ┆            ┆ шары на 1… ┆   ┆            ┆          ┆        ┆           │\n",
       "│ 55       ┆ 7506720336 ┆ 1 сентября ┆ 1 сентября ┆ … ┆ 2301564    ┆ 637640   ┆ 5000.0 ┆ -1.0      │\n",
       "│          ┆            ┆            ┆ фотозона   ┆   ┆            ┆          ┆        ┆           │\n",
       "│ 55       ┆ 3110733862 ┆ 1 сентября ┆ Букет на 1 ┆ … ┆ 1090077    ┆ 637640   ┆ 1200.0 ┆ -1.0      │\n",
       "│          ┆            ┆            ┆ сентября   ┆   ┆            ┆          ┆        ┆           │\n",
       "│          ┆            ┆            ┆ из зефира  ┆   ┆            ┆          ┆        ┆           │\n",
       "│ 55       ┆ 7587733901 ┆ 1 сентября ┆ Спектакль- ┆ … ┆ 2301563    ┆ 637640   ┆ 0.0    ┆ -1.0      │\n",
       "│          ┆            ┆            ┆ пантомима  ┆   ┆            ┆          ┆        ┆           │\n",
       "│          ┆            ┆            ┆ на 1       ┆   ┆            ┆          ┆        ┆           │\n",
       "│          ┆            ┆            ┆ сентя…     ┆   ┆            ┆          ┆        ┆           │\n",
       "│ 55       ┆ 7552455685 ┆ 1 сентября ┆ Воздушные  ┆ … ┆ 2301564    ┆ 637640   ┆ 100.0  ┆ -1.0      │\n",
       "│          ┆            ┆            ┆ гелиевые   ┆   ┆            ┆          ┆        ┆           │\n",
       "│          ┆            ┆            ┆ шары с     ┆   ┆            ┆          ┆        ┆           │\n",
       "│          ┆            ┆            ┆ дост…      ┆   ┆            ┆          ┆        ┆           │\n",
       "└──────────┴────────────┴────────────┴────────────┴───┴────────────┴──────────┴────────┴───────────┘"
      ],
      "text/html": [
       "<div><style>\n",
       ".dataframe > thead > tr,\n",
       ".dataframe > tbody > tr {\n",
       "  text-align: right;\n",
       "  white-space: pre-wrap;\n",
       "}\n",
       "</style>\n",
       "<small>shape: (5, 13)</small><table border=\"1\" class=\"dataframe\"><thead><tr><th>query_id</th><th>item_id</th><th>query_text</th><th>item_title</th><th>item_description</th><th>query_cat</th><th>query_mcat</th><th>query_loc</th><th>item_cat_id</th><th>item_mcat_id</th><th>item_loc</th><th>price</th><th>item_query_click_conv</th></tr><tr><td>i64</td><td>i64</td><td>str</td><td>str</td><td>str</td><td>f32</td><td>f64</td><td>f32</td><td>i32</td><td>i32</td><td>i32</td><td>f32</td><td>f32</td></tr></thead><tbody><tr><td>55</td><td>7540855789</td><td>&quot;1 сентября&quot;</td><td>&quot;Воздушные и гелиевые шары на 1…</td><td>&quot;ВОЗДУШНЫЕ ШАРЫ К 1 СЕНТЯБРЯ 🍂\n",
       "…</td><td>114.0</td><td>63.0</td><td>637640.0</td><td>114</td><td>2301564</td><td>637640</td><td>120.0</td><td>-1.0</td></tr><tr><td>55</td><td>7506720336</td><td>&quot;1 сентября&quot;</td><td>&quot;1 сентября фотозона&quot;</td><td>&quot;🎈Фотозона из шаров на 1 сентяб…</td><td>114.0</td><td>63.0</td><td>637640.0</td><td>114</td><td>2301564</td><td>637640</td><td>5000.0</td><td>-1.0</td></tr><tr><td>55</td><td>3110733862</td><td>&quot;1 сентября&quot;</td><td>&quot;Букет на 1 сентября из зефира&quot;</td><td>&quot;Букеты на 1 сентября \n",
       "\n",
       "Фото 1.…</td><td>114.0</td><td>63.0</td><td>637640.0</td><td>114</td><td>1090077</td><td>637640</td><td>1200.0</td><td>-1.0</td></tr><tr><td>55</td><td>7587733901</td><td>&quot;1 сентября&quot;</td><td>&quot;Спектакль-пантомима на 1 сентя…</td><td>&quot;Спектакль-пантомима на 1 сентя…</td><td>114.0</td><td>63.0</td><td>637640.0</td><td>114</td><td>2301563</td><td>637640</td><td>0.0</td><td>-1.0</td></tr><tr><td>55</td><td>7552455685</td><td>&quot;1 сентября&quot;</td><td>&quot;Воздушные гелиевые шары с дост…</td><td>&quot;Воздушные шары для оформления …</td><td>114.0</td><td>63.0</td><td>637640.0</td><td>114</td><td>2301564</td><td>637640</td><td>100.0</td><td>-1.0</td></tr></tbody></table></div>"
      ]
     },
     "execution_count": 38,
     "metadata": {},
     "output_type": "execute_result"
    }
   ],
   "execution_count": 38
  },
  {
   "metadata": {
    "ExecuteTime": {
     "end_time": "2025-09-18T12:30:01.868040Z",
     "start_time": "2025-09-18T12:30:01.842158Z"
    }
   },
   "cell_type": "code",
   "source": [
    "ex = train.filter(pl.col(\"query_id\") == 757116)\n",
    "ex"
   ],
   "id": "1f0af61ec516d0d",
   "outputs": [
    {
     "data": {
      "text/plain": [
       "shape: (500, 22)\n",
       "┌──────────┬────────────┬───────────┬───────────┬───┬───────────┬──────────┬───────────┬───────────┐\n",
       "│ query_id ┆ item_id    ┆ query_tex ┆ item_titl ┆ … ┆ title_len ┆ desc_len ┆ overlap_q ┆ overlap_q │\n",
       "│ ---      ┆ ---        ┆ t         ┆ e         ┆   ┆ ---       ┆ ---      ┆ _title    ┆ _desc     │\n",
       "│ i64      ┆ i64        ┆ ---       ┆ ---       ┆   ┆ u32       ┆ u32      ┆ ---       ┆ ---       │\n",
       "│          ┆            ┆ str       ┆ str       ┆   ┆           ┆          ┆ u32       ┆ u32       │\n",
       "╞══════════╪════════════╪═══════════╪═══════════╪═══╪═══════════╪══════════╪═══════════╪═══════════╡\n",
       "│ 757116   ┆ 7272304632 ┆ повар     ┆ Повар     ┆ … ┆ 1         ┆ 0        ┆ 1         ┆ 0         │\n",
       "│ 757116   ┆ 1911918753 ┆ повар     ┆ Повар     ┆ … ┆ 1         ┆ 115      ┆ 1         ┆ 0         │\n",
       "│ 757116   ┆ 4408324839 ┆ повар     ┆ Повар г/ц ┆ … ┆ 3         ┆ 20       ┆ 1         ┆ 0         │\n",
       "│ 757116   ┆ 4600842279 ┆ повар     ┆ Повар     ┆ … ┆ 1         ┆ 0        ┆ 1         ┆ 0         │\n",
       "│ 757116   ┆ 3196572628 ┆ повар     ┆ Повар мне ┆ … ┆ 3         ┆ 0        ┆ 1         ┆ 0         │\n",
       "│          ┆            ┆           ┆ интересно ┆   ┆           ┆          ┆           ┆           │\n",
       "│ …        ┆ …          ┆ …         ┆ …         ┆ … ┆ …         ┆ …        ┆ …         ┆ …         │\n",
       "│ 757116   ┆ 7253759823 ┆ повар     ┆ Повар с   ┆ … ┆ 3         ┆ 2        ┆ 1         ┆ 0         │\n",
       "│          ┆            ┆           ┆ обучением ┆   ┆           ┆          ┆           ┆           │\n",
       "│ 757116   ┆ 7309049240 ┆ повар     ┆ Повар     ┆ … ┆ 1         ┆ 0        ┆ 1         ┆ 0         │\n",
       "│ 757116   ┆ 7661062654 ┆ повар     ┆ Повар     ┆ … ┆ 1         ┆ 0        ┆ 1         ┆ 0         │\n",
       "│ 757116   ┆ 4489909943 ┆ повар     ┆ Повар     ┆ … ┆ 1         ┆ 3        ┆ 1         ┆ 1         │\n",
       "│ 757116   ┆ 7566079994 ┆ повар     ┆ Повар     ┆ … ┆ 1         ┆ 0        ┆ 1         ┆ 0         │\n",
       "└──────────┴────────────┴───────────┴───────────┴───┴───────────┴──────────┴───────────┴───────────┘"
      ],
      "text/html": [
       "<div><style>\n",
       ".dataframe > thead > tr,\n",
       ".dataframe > tbody > tr {\n",
       "  text-align: right;\n",
       "  white-space: pre-wrap;\n",
       "}\n",
       "</style>\n",
       "<small>shape: (500, 22)</small><table border=\"1\" class=\"dataframe\"><thead><tr><th>query_id</th><th>item_id</th><th>query_text</th><th>item_title</th><th>item_description</th><th>query_cat</th><th>query_mcat</th><th>query_loc</th><th>item_cat_id</th><th>item_mcat_id</th><th>item_loc</th><th>price</th><th>item_query_click_conv</th><th>item_contact</th><th>query_tokens</th><th>title_tokens</th><th>desc_tokens</th><th>query_len</th><th>title_len</th><th>desc_len</th><th>overlap_q_title</th><th>overlap_q_desc</th></tr><tr><td>i64</td><td>i64</td><td>str</td><td>str</td><td>str</td><td>f32</td><td>f64</td><td>f32</td><td>i32</td><td>i32</td><td>i32</td><td>f32</td><td>f32</td><td>f32</td><td>list[str]</td><td>list[str]</td><td>list[str]</td><td>u32</td><td>u32</td><td>u32</td><td>u32</td><td>u32</td></tr></thead><tbody><tr><td>757116</td><td>7272304632</td><td>&quot;повар&quot;</td><td>&quot;Повар&quot;</td><td>&quot;&quot;</td><td>112.0</td><td>62.0</td><td>0.0</td><td>112</td><td>62</td><td>638790</td><td>5000.0</td><td>0.0</td><td>0.0</td><td>[&quot;повар&quot;]</td><td>[&quot;повар&quot;]</td><td>[]</td><td>1</td><td>1</td><td>0</td><td>1</td><td>0</td></tr><tr><td>757116</td><td>1911918753</td><td>&quot;повар&quot;</td><td>&quot;Повар&quot;</td><td>&quot;знание , европейской,итальянск…</td><td>112.0</td><td>62.0</td><td>0.0</td><td>112</td><td>62</td><td>637640</td><td>7000.0</td><td>0.027</td><td>0.0</td><td>[&quot;повар&quot;]</td><td>[&quot;повар&quot;]</td><td>[&quot;знание&quot;, &quot;европейской&quot;, … &quot;с&quot;]</td><td>1</td><td>1</td><td>115</td><td>1</td><td>0</td></tr><tr><td>757116</td><td>4408324839</td><td>&quot;повар&quot;</td><td>&quot;Повар г/ц&quot;</td><td>&quot;Стаж более 25 лет из них 18в М…</td><td>112.0</td><td>62.0</td><td>0.0</td><td>112</td><td>62</td><td>637640</td><td>0.0</td><td>-1.0</td><td>0.0</td><td>[&quot;повар&quot;]</td><td>[&quot;повар&quot;, &quot;г&quot;, &quot;ц&quot;]</td><td>[&quot;стаж&quot;, &quot;более&quot;, … &quot;объёмах&quot;]</td><td>1</td><td>3</td><td>20</td><td>1</td><td>0</td></tr><tr><td>757116</td><td>4600842279</td><td>&quot;повар&quot;</td><td>&quot;Повар&quot;</td><td>&quot;&quot;</td><td>112.0</td><td>62.0</td><td>0.0</td><td>112</td><td>62</td><td>638790</td><td>80000.0</td><td>0.0</td><td>0.0</td><td>[&quot;повар&quot;]</td><td>[&quot;повар&quot;]</td><td>[]</td><td>1</td><td>1</td><td>0</td><td>1</td><td>0</td></tr><tr><td>757116</td><td>3196572628</td><td>&quot;повар&quot;</td><td>&quot;Повар мне интересно&quot;</td><td>&quot;&quot;</td><td>112.0</td><td>62.0</td><td>107620.0</td><td>112</td><td>62</td><td>637640</td><td>0.0</td><td>-1.0</td><td>0.0</td><td>[&quot;повар&quot;]</td><td>[&quot;повар&quot;, &quot;мне&quot;, &quot;интересно&quot;]</td><td>[]</td><td>1</td><td>3</td><td>0</td><td>1</td><td>0</td></tr><tr><td>&hellip;</td><td>&hellip;</td><td>&hellip;</td><td>&hellip;</td><td>&hellip;</td><td>&hellip;</td><td>&hellip;</td><td>&hellip;</td><td>&hellip;</td><td>&hellip;</td><td>&hellip;</td><td>&hellip;</td><td>&hellip;</td><td>&hellip;</td><td>&hellip;</td><td>&hellip;</td><td>&hellip;</td><td>&hellip;</td><td>&hellip;</td><td>&hellip;</td><td>&hellip;</td><td>&hellip;</td></tr><tr><td>757116</td><td>7253759823</td><td>&quot;повар&quot;</td><td>&quot;Повар с обучением&quot;</td><td>&quot;Поваром работала&quot;</td><td>112.0</td><td>62.0</td><td>0.0</td><td>112</td><td>62</td><td>637770</td><td>0.0</td><td>0.053</td><td>0.0</td><td>[&quot;повар&quot;]</td><td>[&quot;повар&quot;, &quot;с&quot;, &quot;обучением&quot;]</td><td>[&quot;поваром&quot;, &quot;работала&quot;]</td><td>1</td><td>3</td><td>2</td><td>1</td><td>0</td></tr><tr><td>757116</td><td>7309049240</td><td>&quot;повар&quot;</td><td>&quot;Повар&quot;</td><td>&quot;&quot;</td><td>112.0</td><td>62.0</td><td>0.0</td><td>112</td><td>62</td><td>637770</td><td>0.0</td><td>0.0</td><td>0.0</td><td>[&quot;повар&quot;]</td><td>[&quot;повар&quot;]</td><td>[]</td><td>1</td><td>1</td><td>0</td><td>1</td><td>0</td></tr><tr><td>757116</td><td>7661062654</td><td>&quot;повар&quot;</td><td>&quot;Повар&quot;</td><td>&quot;&quot;</td><td>112.0</td><td>62.0</td><td>107620.0</td><td>112</td><td>62</td><td>637640</td><td>0.0</td><td>-1.0</td><td>0.0</td><td>[&quot;повар&quot;]</td><td>[&quot;повар&quot;]</td><td>[]</td><td>1</td><td>1</td><td>0</td><td>1</td><td>0</td></tr><tr><td>757116</td><td>4489909943</td><td>&quot;повар&quot;</td><td>&quot;Повар&quot;</td><td>&quot;Контролер-кассир,повар.&quot;</td><td>112.0</td><td>62.0</td><td>0.0</td><td>112</td><td>62</td><td>639300</td><td>0.0</td><td>0.0</td><td>1.0</td><td>[&quot;повар&quot;]</td><td>[&quot;повар&quot;]</td><td>[&quot;контролер&quot;, &quot;кассир&quot;, &quot;повар&quot;]</td><td>1</td><td>1</td><td>3</td><td>1</td><td>1</td></tr><tr><td>757116</td><td>7566079994</td><td>&quot;повар&quot;</td><td>&quot;Повар&quot;</td><td>&quot;&quot;</td><td>112.0</td><td>62.0</td><td>107620.0</td><td>112</td><td>62</td><td>638520</td><td>0.0</td><td>-1.0</td><td>0.0</td><td>[&quot;повар&quot;]</td><td>[&quot;повар&quot;]</td><td>[]</td><td>1</td><td>1</td><td>0</td><td>1</td><td>0</td></tr></tbody></table></div>"
      ]
     },
     "execution_count": 43,
     "metadata": {},
     "output_type": "execute_result"
    }
   ],
   "execution_count": 43
  },
  {
   "metadata": {},
   "cell_type": "code",
   "outputs": [],
   "execution_count": null,
   "source": "",
   "id": "66a8fb9a6018c38c"
  }
 ],
 "metadata": {
  "kernelspec": {
   "display_name": "Python 3",
   "language": "python",
   "name": "python3"
  },
  "language_info": {
   "codemirror_mode": {
    "name": "ipython",
    "version": 2
   },
   "file_extension": ".py",
   "mimetype": "text/x-python",
   "name": "python",
   "nbconvert_exporter": "python",
   "pygments_lexer": "ipython2",
   "version": "2.7.6"
  }
 },
 "nbformat": 4,
 "nbformat_minor": 5
}
