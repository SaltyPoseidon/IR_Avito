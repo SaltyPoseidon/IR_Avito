{
 "cells": [
  {
   "cell_type": "code",
   "id": "initial_id",
   "metadata": {
    "collapsed": true,
    "ExecuteTime": {
     "end_time": "2025-09-19T18:59:04.181489Z",
     "start_time": "2025-09-19T18:59:04.167978Z"
    }
   },
   "source": "# # 03 — Обучение LightGBM реранкера (lambdarank, ndcg@10)",
   "outputs": [],
   "execution_count": 32
  },
  {
   "metadata": {
    "ExecuteTime": {
     "end_time": "2025-09-19T18:59:04.211527Z",
     "start_time": "2025-09-19T18:59:04.192997Z"
    }
   },
   "cell_type": "code",
   "source": [
    "import os\n",
    "import json\n",
    "import polars as pl\n",
    "import numpy as np\n",
    "import lightgbm as lgb\n",
    "from sklearn.model_selection import GroupKFold\n",
    "from typing import List\n",
    "\n",
    "SEED = 42\n",
    "np.random.seed(SEED)"
   ],
   "id": "6379520a967fef43",
   "outputs": [],
   "execution_count": 33
  },
  {
   "metadata": {
    "ExecuteTime": {
     "end_time": "2025-09-19T18:59:04.227461Z",
     "start_time": "2025-09-19T18:59:04.216952Z"
    }
   },
   "cell_type": "code",
   "source": [
    "# ----- Пути -----\n",
    "\n",
    "BASE_DIR = os.path.dirname(os.getcwd())\n",
    "DATA_DIR = os.path.join(BASE_DIR, \"Data\")\n",
    "TRAIN_PATH = os.path.join(DATA_DIR, \"train-dset.parquet\")\n",
    "TEST_PATH  = os.path.join(DATA_DIR, \"test-dset-small.parquet\")\n",
    "\n",
    "TRAIN_COS = os.path.join(DATA_DIR, \"train_cos.parquet\")\n",
    "TEST_COS  = os.path.join(DATA_DIR, \"test_cos.parquet\")\n",
    "\n",
    "TRAIN_FEATS_PATH = os.path.join(DATA_DIR, \"train_feats2.parquet\")\n",
    "TEST_FEATS_PATH  = os.path.join(DATA_DIR, \"test_feats2.parquet\")\n",
    "\n",
    "SUBMISSION_PATH  = \"solution.csv\"\n",
    "MODEL_TXT_PATH   = \"lgbm_ranker.txt\"\n",
    "MODEL_PKL_PATH   = \"lgbm_ranker.pkl\""
   ],
   "id": "606ff1bdcf0fc1cd",
   "outputs": [],
   "execution_count": 34
  },
  {
   "metadata": {
    "ExecuteTime": {
     "end_time": "2025-09-19T18:59:04.242764Z",
     "start_time": "2025-09-19T18:59:04.232463Z"
    }
   },
   "cell_type": "code",
   "source": [
    "# ## 1) Загрузка и базовые проверки\n",
    "\n",
    "assert os.path.exists(TRAIN_FEATS_PATH), f\"Не найден {TRAIN_FEATS_PATH}\"\n",
    "assert os.path.exists(TEST_FEATS_PATH), f\"Не найден {TEST_FEATS_PATH}\""
   ],
   "id": "3483c2c9809006d6",
   "outputs": [],
   "execution_count": 35
  },
  {
   "metadata": {
    "ExecuteTime": {
     "end_time": "2025-09-19T18:59:12.858214Z",
     "start_time": "2025-09-19T18:59:04.247273Z"
    }
   },
   "cell_type": "code",
   "source": [
    "train_feats = pl.read_parquet(TRAIN_FEATS_PATH)\n",
    "test_feats  = pl.read_parquet(TEST_FEATS_PATH)"
   ],
   "id": "fd71801613ff5e4d",
   "outputs": [],
   "execution_count": 36
  },
  {
   "metadata": {
    "ExecuteTime": {
     "end_time": "2025-09-19T18:59:12.920268Z",
     "start_time": "2025-09-19T18:59:12.914262Z"
    }
   },
   "cell_type": "code",
   "source": [
    "print(\"[load] train_feats:\", train_feats.shape)\n",
    "print(\"[load] test_feats :\", test_feats.shape)"
   ],
   "id": "598958b0b0c264d8",
   "outputs": [
    {
     "name": "stdout",
     "output_type": "stream",
     "text": [
      "[load] train_feats: (7781790, 72)\n",
      "[load] test_feats : (335348, 71)\n"
     ]
    }
   ],
   "execution_count": 37
  },
  {
   "metadata": {
    "ExecuteTime": {
     "end_time": "2025-09-19T18:59:12.951077Z",
     "start_time": "2025-09-19T18:59:12.934013Z"
    }
   },
   "cell_type": "code",
   "source": [
    "BASE_FEATURES = [\n",
    "    # эмбеддинги\n",
    "    \"cos_q_title\",\n",
    "\n",
    "    # тексты\n",
    "    \"query_len\",\"title_len\",\"abs_len_diff\",\n",
    "    \"ratio_overlap_title\",\n",
    "    \"title_contains_query\",\"has_query_text\",\"has_title\",\n",
    "\n",
    "    # категории/локации\n",
    "    \"same_cat\",\"same_mcat\",\"same_loc\",\"same_cat_loc\",\"triple_match\",\n",
    "    \"freq_item_cat\",\"freq_item_mcat\",\"freq_item_loc\",\n",
    "\n",
    "    # цена\n",
    "    \"price_clip\",\"price_log1p\",\"price_rank_in_query\",\"price_z_in_query\",\n",
    "    \"price_is_zero\",\"price_vs_median_query\",\n",
    "\n",
    "    # поведенческие\n",
    "    \"conv_known\",\"conv_filled\",\"conv_z_in_query\",\"conv_rank_in_query\",\n",
    "\n",
    "    # групповые\n",
    "    \"n_items_in_query\",\n",
    "\n",
    "    # интеракции (базовые)\n",
    "    \"same_cat__cos\",\"same_loc__cos\",\"conv__cos\",\"conv__same_loc\",\"price_rank__same_loc\",\n",
    "]\n",
    "\n",
    "# новые быстрые признаки (добавим, если присутствуют в parquet):\n",
    "CANDIDATE_NEW = [\n",
    "    \"cos_z_in_query\",\"cos_rank_in_query\",\"cos_gap_top3\",\n",
    "    \"price_percent_rank_in_query\",\"price_bucket5_in_query\",\n",
    "    # если оставлял лёгкие прокси по описанию — тоже подцепим:\n",
    "    \"desc_char_len\",\"has_desc\",\n",
    "    # если случайно остались «тяжёлые» desc-фичи — подцепим, но это опционально:\n",
    "    \"desc_len\",\"overlap_q_desc\",\"jaccard_q_desc\",\"dice_q_desc\",\"desc_contains_query\",\n",
    "    # интеракции на новых кос-фичах:\n",
    "    \"cosz__same_loc\",\"cosrank__same_cat\",\n",
    "]\n",
    "\n",
    "FEATURES = [c for c in BASE_FEATURES if c in train_feats.columns]\n",
    "FEATURES += [c for c in CANDIDATE_NEW if c in train_feats.columns]\n",
    "FEATURES = list(dict.fromkeys(FEATURES))\n",
    "print(f\"[features] using {len(FEATURES)} columns\")"
   ],
   "id": "8174236fbd51dc9d",
   "outputs": [
    {
     "name": "stdout",
     "output_type": "stream",
     "text": [
      "[features] using 41 columns\n"
     ]
    }
   ],
   "execution_count": 38
  },
  {
   "metadata": {
    "ExecuteTime": {
     "end_time": "2025-09-19T18:59:12.966771Z",
     "start_time": "2025-09-19T18:59:12.957261Z"
    }
   },
   "cell_type": "code",
   "source": [
    "TARGET = \"item_contact\"\n",
    "GROUP  = \"query_id\"\n",
    "ID_COLS = [\"query_id\",\"item_id\"]"
   ],
   "id": "40af8885290ac68e",
   "outputs": [],
   "execution_count": 39
  },
  {
   "metadata": {
    "ExecuteTime": {
     "end_time": "2025-09-19T18:59:12.981897Z",
     "start_time": "2025-09-19T18:59:12.973887Z"
    }
   },
   "cell_type": "code",
   "source": [
    "# Проверим, что все фичи есть\n",
    "missing_cols = [c for c in FEATURES + [TARGET, GROUP] if c not in train_feats.columns]\n",
    "assert not missing_cols, f\"В train_feats нет колонок: {missing_cols}\""
   ],
   "id": "e5e360aa1b0bd8e4",
   "outputs": [],
   "execution_count": 40
  },
  {
   "metadata": {
    "ExecuteTime": {
     "end_time": "2025-09-19T18:59:12.997004Z",
     "start_time": "2025-09-19T18:59:12.987586Z"
    }
   },
   "cell_type": "code",
   "source": [
    "missing_test = [c for c in FEATURES + ID_COLS if c not in test_feats.columns]\n",
    "assert not missing_test, f\"В test_feats нет колонок: {missing_test}\""
   ],
   "id": "9147c7056d7aa05",
   "outputs": [],
   "execution_count": 41
  },
  {
   "metadata": {
    "ExecuteTime": {
     "end_time": "2025-09-19T18:59:13.012780Z",
     "start_time": "2025-09-19T18:59:13.003256Z"
    }
   },
   "cell_type": "code",
   "source": [
    "def sanitize_features(df: pl.DataFrame, features: list[str]) -> pl.DataFrame:\n",
    "    fixes = []\n",
    "    for c in features:\n",
    "        if c not in df.columns:\n",
    "            continue\n",
    "        dt = df.schema[c]\n",
    "        if dt in (pl.Float32, pl.Float64):\n",
    "            fixes.append(\n",
    "                pl.when(pl.col(c).is_finite()).then(pl.col(c)).otherwise(0.0)\n",
    "                  .fill_null(0.0).cast(pl.Float32).alias(c)\n",
    "            )\n",
    "        elif dt == pl.Boolean:\n",
    "            fixes.append(pl.col(c).cast(pl.Int8).fill_null(0).alias(c))\n",
    "        elif dt.is_integer():\n",
    "            fixes.append(pl.col(c).fill_null(0).alias(c))\n",
    "        else:\n",
    "            fixes.append(pl.col(c).cast(pl.Float32).fill_null(0.0).alias(c))\n",
    "    return df.with_columns(fixes)"
   ],
   "id": "e44bcc65ce1dd3af",
   "outputs": [],
   "execution_count": 42
  },
  {
   "metadata": {
    "ExecuteTime": {
     "end_time": "2025-09-19T18:59:13.028386Z",
     "start_time": "2025-09-19T18:59:13.017811Z"
    }
   },
   "cell_type": "code",
   "source": [
    "def prepare_matrix(df: pl.DataFrame, features: List[str]) -> np.ndarray:\n",
    "    return df.select([pl.col(c).cast(pl.Float32) for c in features]).fill_null(0.0).to_numpy()"
   ],
   "id": "8a82e00af41aaa7c",
   "outputs": [],
   "execution_count": 43
  },
  {
   "metadata": {
    "ExecuteTime": {
     "end_time": "2025-09-19T18:59:13.260246Z",
     "start_time": "2025-09-19T18:59:13.034169Z"
    }
   },
   "cell_type": "code",
   "source": [
    "# очистим train/test\n",
    "train_feats = sanitize_features(train_feats, FEATURES + [TARGET, GROUP])\n",
    "test_feats  = sanitize_features(test_feats,  FEATURES + ID_COLS)"
   ],
   "id": "518dcd2221acc0a9",
   "outputs": [],
   "execution_count": 44
  },
  {
   "metadata": {
    "ExecuteTime": {
     "end_time": "2025-09-19T18:59:13.944122Z",
     "start_time": "2025-09-19T18:59:13.266758Z"
    }
   },
   "cell_type": "code",
   "source": [
    "# соберём матрицы и цели\n",
    "y = train_feats[TARGET].to_numpy()\n",
    "groups_vec = train_feats[\"query_id\"].to_numpy()\n",
    "X = prepare_matrix(train_feats, FEATURES)\n",
    "X_test = prepare_matrix(test_feats, FEATURES)"
   ],
   "id": "34498384fb04f1cc",
   "outputs": [],
   "execution_count": 45
  },
  {
   "metadata": {
    "ExecuteTime": {
     "end_time": "2025-09-19T18:59:13.959231Z",
     "start_time": "2025-09-19T18:59:13.951601Z"
    }
   },
   "cell_type": "code",
   "source": "print(\"[matrix] X:\", X.shape, \"y:\", y.shape, \"X_test:\", X_test.shape)",
   "id": "60061effec6eb7c0",
   "outputs": [
    {
     "name": "stdout",
     "output_type": "stream",
     "text": [
      "[matrix] X: (7781790, 41) y: (7781790,) X_test: (335348, 41)\n"
     ]
    }
   ],
   "execution_count": 46
  },
  {
   "metadata": {
    "ExecuteTime": {
     "end_time": "2025-09-19T18:59:13.988447Z",
     "start_time": "2025-09-19T18:59:13.977273Z"
    }
   },
   "cell_type": "code",
   "source": [
    "# ## 4) Hold-out сплит по query_id и обучение (быстро)\n",
    "\n",
    "import numpy as np\n",
    "import lightgbm as lgb\n",
    "from tqdm.auto import tqdm\n",
    "from lightgbm.callback import CallbackEnv\n",
    "\n",
    "VAL_FRACTION = 0.1   # 10% запросов в валидацию\n",
    "SEED = 42\n",
    "USE_GPU = True\n",
    "\n",
    "rng = np.random.RandomState(SEED)"
   ],
   "id": "cd213017b4ab2c51",
   "outputs": [],
   "execution_count": 47
  },
  {
   "metadata": {
    "ExecuteTime": {
     "end_time": "2025-09-19T18:59:15.495799Z",
     "start_time": "2025-09-19T18:59:13.994186Z"
    }
   },
   "cell_type": "code",
   "source": [
    "# --- 4.1 Сплит по уникальным query_id ---\n",
    "uniq_q = np.unique(groups_vec)\n",
    "rng.shuffle(uniq_q)\n",
    "n_val = max(1, int(len(uniq_q) * VAL_FRACTION))\n",
    "val_q = set(uniq_q[:n_val])\n",
    "\n",
    "val_mask = np.array([q in val_q for q in groups_vec], dtype=bool)\n",
    "tr_mask  = ~val_mask\n"
   ],
   "id": "9f9a2506eb80aa31",
   "outputs": [],
   "execution_count": 48
  },
  {
   "metadata": {
    "ExecuteTime": {
     "end_time": "2025-09-19T18:59:16.440280Z",
     "start_time": "2025-09-19T18:59:15.529867Z"
    }
   },
   "cell_type": "code",
   "source": [
    "# --- 4.2 Упорядочим каждый сабсет по query_id (важно для group sizes) ---\n",
    "tr_idx = np.where(tr_mask)[0]\n",
    "va_idx = np.where(val_mask)[0]\n",
    "tr_idx = tr_idx[np.argsort(groups_vec[tr_idx], kind=\"mergesort\")]\n",
    "va_idx = va_idx[np.argsort(groups_vec[va_idx], kind=\"mergesort\")]\n",
    "\n",
    "X_tr, y_tr, q_tr = X[tr_idx], y[tr_idx], groups_vec[tr_idx]\n",
    "X_va, y_va, q_va = X[va_idx], y[va_idx], groups_vec[va_idx]\n"
   ],
   "id": "b176f8cdd4ef6000",
   "outputs": [],
   "execution_count": 49
  },
  {
   "metadata": {
    "ExecuteTime": {
     "end_time": "2025-09-19T18:59:16.671735Z",
     "start_time": "2025-09-19T18:59:16.474676Z"
    }
   },
   "cell_type": "code",
   "source": [
    "def group_sizes_from_sorted_ids(ids: np.ndarray) -> np.ndarray:\n",
    "    # ids уже отсортированы по query_id\n",
    "    _, counts = np.unique(ids, return_counts=True)\n",
    "    return counts\n",
    "\n",
    "tr_groups = group_sizes_from_sorted_ids(q_tr)\n",
    "va_groups = group_sizes_from_sorted_ids(q_va)\n"
   ],
   "id": "4b17e07a1a48031d",
   "outputs": [],
   "execution_count": 50
  },
  {
   "metadata": {
    "ExecuteTime": {
     "end_time": "2025-09-19T18:59:16.687322Z",
     "start_time": "2025-09-19T18:59:16.678812Z"
    }
   },
   "cell_type": "code",
   "source": [
    "print(f\"[holdout] queries: total={len(uniq_q)}, train={len(uniq_q)-n_val}, val={n_val}\")\n",
    "print(f\"[holdout] rows: train={X_tr.shape[0]}, val={X_va.shape[0]}\")"
   ],
   "id": "4c14ed7429b4d4d6",
   "outputs": [
    {
     "name": "stdout",
     "output_type": "stream",
     "text": [
      "[holdout] queries: total=678190, train=610371, val=67819\n",
      "[holdout] rows: train=7001690, val=780100\n"
     ]
    }
   ],
   "execution_count": 51
  },
  {
   "metadata": {
    "ExecuteTime": {
     "end_time": "2025-09-19T18:59:16.702988Z",
     "start_time": "2025-09-19T18:59:16.693827Z"
    }
   },
   "cell_type": "code",
   "source": [
    "# --- 4.3 Прогресс-бар по бустингу ---\n",
    "class TQDMCallback:\n",
    "    def __init__(self, total_rounds: int, desc: str = \"boosting\"):\n",
    "        self.total_rounds = total_rounds\n",
    "        self.desc = desc\n",
    "        self.pbar = None\n",
    "    def __call__(self, env: CallbackEnv):\n",
    "        if self.pbar is None:\n",
    "            end_it = getattr(env, \"end_iteration\", self.total_rounds)\n",
    "            begin_it = getattr(env, \"begin_iteration\", 0)\n",
    "            self.pbar = tqdm(total=end_it - begin_it, desc=self.desc, leave=False)\n",
    "        self.pbar.update(1)\n",
    "        if env.iteration + 1 >= self.total_rounds or (env.iteration + 1) >= getattr(env, \"end_iteration\", self.total_rounds):\n",
    "            self.pbar.close()\n",
    "            self.pbar = None"
   ],
   "id": "41cfcf0bba5f4286",
   "outputs": [],
   "execution_count": 52
  },
  {
   "metadata": {
    "ExecuteTime": {
     "end_time": "2025-09-19T18:59:16.718103Z",
     "start_time": "2025-09-19T18:59:16.708366Z"
    }
   },
   "cell_type": "code",
   "source": [
    "# --- 4.4 Монотонные ограничения ---\n",
    "monotone = []\n",
    "for f in FEATURES:\n",
    "    if f in [\"cos_q_title\",\"cos_z_in_query\",\"max_cos_in_query\",\n",
    "             \"jaccard_q_title\",\"dice_q_title\",\"ratio_overlap_title\",\n",
    "             \"conv_filled\"]:\n",
    "        monotone.append(1)\n",
    "    elif f in [\"cos_minus_max\",\"cos_gap_top3\"]:\n",
    "        monotone.append(-1)\n",
    "    else:\n",
    "        monotone.append(0)"
   ],
   "id": "ed80c040d7801acf",
   "outputs": [],
   "execution_count": 53
  },
  {
   "metadata": {
    "ExecuteTime": {
     "end_time": "2025-09-19T18:59:16.733775Z",
     "start_time": "2025-09-19T18:59:16.722136Z"
    }
   },
   "cell_type": "code",
   "source": [
    "# --- 4.5 Параметры LGBM (+GPU при наличии), быстрый сетап ---\n",
    "params = dict(\n",
    "    objective=\"lambdarank\",\n",
    "    metric=\"ndcg\",\n",
    "    ndcg_eval_at=[10],\n",
    "    learning_rate=0.08,     # быстрее сходится\n",
    "    num_leaves=63,\n",
    "    min_data_in_leaf=200,\n",
    "    lambda_l2=1.0,\n",
    "    feature_fraction=0.85,\n",
    "    bagging_fraction=0.8,\n",
    "    bagging_freq=1,\n",
    "    verbose=-1,\n",
    "    seed=SEED,\n",
    "    monotone_constraints=monotone,\n",
    "    num_threads=0,\n",
    "    device=\"gpu\" if USE_GPU else \"cpu\",\n",
    ")"
   ],
   "id": "6be05666189debb0",
   "outputs": [],
   "execution_count": 54
  },
  {
   "metadata": {
    "ExecuteTime": {
     "end_time": "2025-09-19T18:59:16.780Z",
     "start_time": "2025-09-19T18:59:16.738301Z"
    }
   },
   "cell_type": "code",
   "source": [
    "num_boost_round = 1200\n",
    "early_stopping_rounds = 80\n",
    "log_every = 100\n",
    "\n",
    "dtr = lgb.Dataset(X_tr, label=y_tr, group=tr_groups, feature_name=FEATURES)\n",
    "dva = lgb.Dataset(X_va, label=y_va, group=va_groups, feature_name=FEATURES)"
   ],
   "id": "bd920b54b3b2c6b2",
   "outputs": [],
   "execution_count": 55
  },
  {
   "metadata": {
    "ExecuteTime": {
     "end_time": "2025-09-19T19:00:50.109036Z",
     "start_time": "2025-09-19T18:59:16.788026Z"
    }
   },
   "cell_type": "code",
   "source": [
    "try:\n",
    "    model = lgb.train(\n",
    "        params,\n",
    "        dtr,\n",
    "        valid_sets=[dva],\n",
    "        num_boost_round=num_boost_round,\n",
    "        callbacks=[\n",
    "            TQDMCallback(num_boost_round, desc=\"holdout\"),\n",
    "            lgb.early_stopping(early_stopping_rounds, verbose=False),\n",
    "            lgb.log_evaluation(log_every),\n",
    "        ],\n",
    "    )\n",
    "except lgb.basic.LightGBMError as e:\n",
    "    if USE_GPU:\n",
    "        print(\"[warn] GPU недоступен, переключаюсь на CPU:\", str(e).splitlines()[0])\n",
    "        params[\"device\"] = \"cpu\"\n",
    "        model = lgb.train(\n",
    "            params,\n",
    "            dtr,\n",
    "            valid_sets=[dva],\n",
    "            num_boost_round=num_boost_round,\n",
    "            callbacks=[\n",
    "                TQDMCallback(num_boost_round, desc=\"holdout (cpu)\"),\n",
    "                lgb.early_stopping(early_stopping_rounds, verbose=False),\n",
    "                lgb.log_evaluation(log_every),\n",
    "            ],\n",
    "        )\n",
    "    else:\n",
    "        raise"
   ],
   "id": "2e0d71c1334b56d9",
   "outputs": [
    {
     "name": "stderr",
     "output_type": "stream",
     "text": [
      "holdout:   8%|▊         | 100/1200 [00:25<03:43,  4.92it/s]"
     ]
    },
    {
     "name": "stdout",
     "output_type": "stream",
     "text": [
      "[100]\tvalid_0's ndcg@10: 0.882684\n"
     ]
    },
    {
     "name": "stderr",
     "output_type": "stream",
     "text": [
      "holdout:  17%|█▋        | 201/1200 [00:43<02:43,  6.12it/s]"
     ]
    },
    {
     "name": "stdout",
     "output_type": "stream",
     "text": [
      "[200]\tvalid_0's ndcg@10: 0.883235\n"
     ]
    },
    {
     "name": "stderr",
     "output_type": "stream",
     "text": [
      "holdout:  25%|██▌       | 301/1200 [01:00<02:24,  6.23it/s]"
     ]
    },
    {
     "name": "stdout",
     "output_type": "stream",
     "text": [
      "[300]\tvalid_0's ndcg@10: 0.883526\n"
     ]
    },
    {
     "name": "stderr",
     "output_type": "stream",
     "text": [
      "holdout:  33%|███▎      | 401/1200 [01:16<01:59,  6.68it/s]"
     ]
    },
    {
     "name": "stdout",
     "output_type": "stream",
     "text": [
      "[400]\tvalid_0's ndcg@10: 0.883758\n"
     ]
    },
    {
     "name": "stderr",
     "output_type": "stream",
     "text": [
      "                                                           \r"
     ]
    }
   ],
   "execution_count": 56
  },
  {
   "metadata": {
    "ExecuteTime": {
     "end_time": "2025-09-19T19:00:59.186347Z",
     "start_time": "2025-09-19T19:00:57.638620Z"
    }
   },
   "cell_type": "code",
   "source": [
    "# --- 4.6 Кастомный NDCG@10 (decay 0.97^pos) на валидации ---\n",
    "def calc_dcg_at_k(v: np.ndarray, k: int = 10) -> float:\n",
    "    w = 0.97 ** np.arange(len(v))\n",
    "    return (v * w)[:k].sum()\n",
    "def calc_ndcg_at_k(labels: np.ndarray, preds: np.ndarray, groups: np.ndarray, k: int = 10) -> float:\n",
    "    order = np.argsort(groups, kind=\"mergesort\")\n",
    "    labels, preds, groups = labels[order], preds[order], groups[order]\n",
    "    _, counts = np.unique(groups, return_counts=True)\n",
    "    start, lst = 0, []\n",
    "    for c in counts:\n",
    "        sl = slice(start, start+c)\n",
    "        l, p = labels[sl], preds[sl]\n",
    "        idx = np.argsort(-p, kind=\"mergesort\")\n",
    "        idcg = calc_dcg_at_k(np.sort(l)[::-1], k) + 1e-12\n",
    "        lst.append(calc_dcg_at_k(l[idx], k) / idcg)\n",
    "        start += c\n",
    "    return float(np.mean(lst))\n",
    "\n",
    "preds_va = model.predict(X_va, num_iteration=model.best_iteration)\n",
    "ndcg_val = calc_ndcg_at_k(y_va, preds_va, q_va, k=10)\n",
    "print(f\"[holdout] custom ndcg@10: {ndcg_val:.5f}\")"
   ],
   "id": "5b1358aadd832e1",
   "outputs": [
    {
     "name": "stdout",
     "output_type": "stream",
     "text": [
      "[holdout] custom ndcg@10: 0.30886\n"
     ]
    }
   ],
   "execution_count": 62
  },
  {
   "metadata": {
    "ExecuteTime": {
     "end_time": "2025-09-19T19:00:51.977776Z",
     "start_time": "2025-09-19T19:00:51.966519Z"
    }
   },
   "cell_type": "code",
   "source": [
    "# # ## 5) Инференс на тесте и сабмит\n",
    "#\n",
    "# SUBMISSION_PATH = \"solution.csv\"\n",
    "#\n",
    "# test_pred = model.predict(X_test, num_iteration=model.best_iteration)\n",
    "# sub_df = test_feats.select([\"query_id\", \"item_id\"]).with_columns(pl.Series(\"pred\", test_pred))\n",
    "# submission = (\n",
    "#     sub_df.sort([\"query_id\", \"pred\"], descending=[False, True])\n",
    "#           .select([\"query_id\", \"item_id\"])\n",
    "# )\n",
    "# submission.write_csv(SUBMISSION_PATH, include_header=True)\n",
    "# print(f\"[save] submission -> {SUBMISSION_PATH}, rows={submission.height}\")\n",
    "#\n"
   ],
   "id": "c4d6696166c902d4",
   "outputs": [],
   "execution_count": 58
  },
  {
   "metadata": {
    "ExecuteTime": {
     "end_time": "2025-09-19T19:00:52.534266Z",
     "start_time": "2025-09-19T19:00:51.984976Z"
    }
   },
   "cell_type": "code",
   "source": [
    "# per-query ndcg@10 (custom 0.97^pos)\n",
    "def ndcg_per_query(labels, preds, groups, k=10):\n",
    "    import numpy as np\n",
    "    order = np.argsort(groups, kind=\"mergesort\")\n",
    "    labels, preds, groups = labels[order], preds[order], groups[order]\n",
    "    uq, counts = np.unique(groups, return_counts=True)\n",
    "    res = []\n",
    "    s = 0\n",
    "    w = 0.97 ** np.arange(1000)  # с запасом\n",
    "    for q, c in zip(uq, counts):\n",
    "        sl = slice(s, s+c)\n",
    "        l = labels[sl]; p = preds[sl]\n",
    "        idx = np.argsort(-p, kind=\"mergesort\")\n",
    "        dcg = (l[idx] * w[:c])[:k].sum()\n",
    "        idcg = (np.sort(l)[::-1] * w[:c])[:k].sum() + 1e-12\n",
    "        res.append((q, dcg/idcg, l.sum()))\n",
    "        s += c\n",
    "    return res\n",
    "\n",
    "# примеры «плохих» запросов (нет попаданий в топ-10, но есть позитивы)\n",
    "perq = ndcg_per_query(y_va, preds_va, q_va, k=10)\n",
    "bad = [(q,score,pos) for q,score,pos in perq if pos>0 and score<0.1][:10]\n",
    "print(\"bad queries (q, ndcg, positives):\", bad[:10])\n"
   ],
   "id": "b5d199dc8aae35f",
   "outputs": [
    {
     "name": "stdout",
     "output_type": "stream",
     "text": [
      "bad queries (q, ndcg, positives): [(np.int64(67), np.float64(0.0), np.float32(2.0)), (np.int64(910), np.float64(0.0), np.float32(1.0)), (np.int64(2116), np.float64(0.0), np.float32(1.0)), (np.int64(3886), np.float64(0.0), np.float32(1.0)), (np.int64(4004), np.float64(0.0), np.float32(2.0)), (np.int64(4358), np.float64(0.0), np.float32(1.0)), (np.int64(4608), np.float64(0.0), np.float32(1.0)), (np.int64(5223), np.float64(0.0), np.float32(1.0)), (np.int64(5508), np.float64(0.0), np.float32(1.0)), (np.int64(5851), np.float64(0.0), np.float32(1.0))]\n"
     ]
    }
   ],
   "execution_count": 59
  },
  {
   "metadata": {
    "ExecuteTime": {
     "end_time": "2025-09-19T19:00:52.549168Z",
     "start_time": "2025-09-19T19:00:52.542578Z"
    }
   },
   "cell_type": "code",
   "source": [
    "fi_gain = model.feature_importance(\"gain\")\n",
    "fi = sorted(zip(FEATURES, fi_gain), key=lambda x: -x[1])\n",
    "print(fi[:30])\n"
   ],
   "id": "5bdca8337a4cca4d",
   "outputs": [
    {
     "name": "stdout",
     "output_type": "stream",
     "text": [
      "[('n_items_in_query', np.float64(918899.1547727585)), ('conv_rank_in_query', np.float64(379065.05233716965)), ('conv_known', np.float64(213529.45623397827)), ('price_percent_rank_in_query', np.float64(53741.87687301636)), ('freq_item_cat', np.float64(33106.91242265701)), ('conv_z_in_query', np.float64(32272.029826164246)), ('price_rank_in_query', np.float64(28488.47127389908)), ('conv__cos', np.float64(28476.204293251038)), ('cos_z_in_query', np.float64(28345.84813451767)), ('desc_char_len', np.float64(26875.379122257233)), ('price_vs_median_query', np.float64(23464.725662708282)), ('cos_rank_in_query', np.float64(23429.720841884613)), ('cosz__same_loc', np.float64(20533.00499534607)), ('freq_item_mcat', np.float64(20225.670346021652)), ('price_z_in_query', np.float64(19369.304062366486)), ('title_contains_query', np.float64(17850.639486789703)), ('same_loc__cos', np.float64(17142.575536966324)), ('freq_item_loc', np.float64(15410.443233013153)), ('query_len', np.float64(14505.377979755402)), ('conv_filled', np.float64(14283.859401226044)), ('same_cat__cos', np.float64(12717.87071800232)), ('cos_q_title', np.float64(11468.51606798172)), ('price_clip', np.float64(11279.378238201141)), ('price_log1p', np.float64(11024.593948841095)), ('cos_gap_top3', np.float64(9546.960796356201)), ('ratio_overlap_title', np.float64(9191.36716079712)), ('cosrank__same_cat', np.float64(7117.797442436218)), ('conv__same_loc', np.float64(6476.740513324738)), ('title_len', np.float64(5707.33690738678)), ('price_rank__same_loc', np.float64(4647.780152320862))]\n"
     ]
    }
   ],
   "execution_count": 60
  },
  {
   "metadata": {
    "ExecuteTime": {
     "end_time": "2025-09-19T19:00:52.794140Z",
     "start_time": "2025-09-19T19:00:52.558089Z"
    }
   },
   "cell_type": "code",
   "source": [
    "bad_queries = [int(q) for q,_,_ in bad]\n",
    "\n",
    "for qid in bad_queries:\n",
    "    print(f\"\\n=== query_id={qid} ===\")\n",
    "    # Берём все кандидаты из валидационного куска\n",
    "    part = train_feats.filter(pl.col(\"query_id\") == qid)\n",
    "    # Добавляем предсказание\n",
    "    preds_part = model.predict(prepare_matrix(part, FEATURES), num_iteration=model.best_iteration)\n",
    "    part = part.with_columns(pl.Series(\"pred\", preds_part))\n",
    "    # Сортируем по предсказанию\n",
    "    print(part.select([\"query_id\",\"item_id\",\"query_text\",\"item_title\",\n",
    "                       \"price\",\"item_contact\",\"pred\"])\n",
    "              .sort(\"pred\", descending=True)\n",
    "              .head(15))\n"
   ],
   "id": "a896d71b71cca8ea",
   "outputs": [
    {
     "name": "stdout",
     "output_type": "stream",
     "text": [
      "\n",
      "=== query_id=67 ===\n",
      "shape: (15, 7)\n",
      "┌──────────┬────────────┬────────────┬────────────────────────┬─────────┬──────────────┬───────────┐\n",
      "│ query_id ┆ item_id    ┆ query_text ┆ item_title             ┆ price   ┆ item_contact ┆ pred      │\n",
      "│ ---      ┆ ---        ┆ ---        ┆ ---                    ┆ ---     ┆ ---          ┆ ---       │\n",
      "│ i64      ┆ i64        ┆ str        ┆ str                    ┆ f32     ┆ f32          ┆ f64       │\n",
      "╞══════════╪════════════╪════════════╪════════════════════════╪═════════╪══════════════╪═══════════╡\n",
      "│ 67       ┆ 7584880105 ┆ шины бу    ┆ Yokohama BluEarth E70  ┆ 8000.0  ┆ 0.0          ┆ 0.093867  │\n",
      "│          ┆            ┆            ┆ 215/55 R…              ┆         ┆              ┆           │\n",
      "│ 67       ┆ 7629912002 ┆ шины бу    ┆ Nexen N'Blue HD 215/55 ┆ 7000.0  ┆ 0.0          ┆ 0.040951  │\n",
      "│          ┆            ┆            ┆ R17 94V                ┆         ┆              ┆           │\n",
      "│ 67       ┆ 7478604328 ┆ шины бу    ┆ Prinx HiCity HH2       ┆ 13000.0 ┆ 0.0          ┆ -0.045891 │\n",
      "│          ┆            ┆            ┆ 215/55 R17             ┆         ┆              ┆           │\n",
      "│ 67       ┆ 7319680140 ┆ шины бу    ┆ Bridgestone Turanza    ┆ 7000.0  ┆ 0.0          ┆ -0.046412 │\n",
      "│          ┆            ┆            ┆ T005 215/5…            ┆         ┆              ┆           │\n",
      "│ 67       ┆ 4804256802 ┆ шины бу    ┆ Continental            ┆ 14000.0 ┆ 0.0          ┆ -0.161978 │\n",
      "│          ┆            ┆            ┆ ContiPremierContac…    ┆         ┆              ┆           │\n",
      "│ …        ┆ …          ┆ …          ┆ …                      ┆ …       ┆ …            ┆ …         │\n",
      "│ 67       ┆ 7272351890 ┆ шины бу    ┆ Continental            ┆ 5500.0  ┆ 0.0          ┆ -0.266247 │\n",
      "│          ┆            ┆            ┆ ContiPremiumContac…    ┆         ┆              ┆           │\n",
      "│ 67       ┆ 4573511598 ┆ шины бу    ┆ Michelin Primacy LC    ┆ 4990.0  ┆ 0.0          ┆ -0.267667 │\n",
      "│          ┆            ┆            ┆ 215/55 R17             ┆         ┆              ┆           │\n",
      "│ 67       ┆ 7496654131 ┆ шины бу    ┆ Matador MP 47 Hectorra ┆ 8000.0  ┆ 0.0          ┆ -0.269793 │\n",
      "│          ┆            ┆            ┆ 3 215/5…               ┆         ┆              ┆           │\n",
      "│ 67       ┆ 7450076474 ┆ шины бу    ┆ Continental            ┆ 9900.0  ┆ 0.0          ┆ -0.295419 │\n",
      "│          ┆            ┆            ┆ ContiPremiumContac…    ┆         ┆              ┆           │\n",
      "│ 67       ┆ 7234803925 ┆ шины бу    ┆ Continental            ┆ 8000.0  ┆ 0.0          ┆ -0.302155 │\n",
      "│          ┆            ┆            ┆ ContiPremiumContac…    ┆         ┆              ┆           │\n",
      "└──────────┴────────────┴────────────┴────────────────────────┴─────────┴──────────────┴───────────┘\n",
      "\n",
      "=== query_id=910 ===\n",
      "shape: (15, 7)\n",
      "┌──────────┬────────────┬────────────┬───────────────────────┬──────────┬──────────────┬───────────┐\n",
      "│ query_id ┆ item_id    ┆ query_text ┆ item_title            ┆ price    ┆ item_contact ┆ pred      │\n",
      "│ ---      ┆ ---        ┆ ---        ┆ ---                   ┆ ---      ┆ ---          ┆ ---       │\n",
      "│ i64      ┆ i64        ┆ str        ┆ str                   ┆ f32      ┆ f32          ┆ f64       │\n",
      "╞══════════╪════════════╪════════════╪═══════════════════════╪══════════╪══════════════╪═══════════╡\n",
      "│ 910      ┆ 2624941865 ┆ слесарь    ┆ Слесарь сантехник     ┆ 80000.0  ┆ 0.0          ┆ 0.744708  │\n",
      "│ 910      ┆ 7494099222 ┆ слесарь    ┆ Сборщик легковых      ┆ 70000.0  ┆ 0.0          ┆ 0.623168  │\n",
      "│          ┆            ┆            ┆ прицепов              ┆          ┆              ┆           │\n",
      "│ 910      ┆ 2071615104 ┆ слесарь    ┆ Слесарь-монтажник     ┆ 90000.0  ┆ 0.0          ┆ 0.181193  │\n",
      "│          ┆            ┆            ┆ трубопроводо…         ┆          ┆              ┆           │\n",
      "│ 910      ┆ 3930029410 ┆ слесарь    ┆ Слесарь монтажник     ┆ 80000.0  ┆ 0.0          ┆ 0.005663  │\n",
      "│ 910      ┆ 7463451807 ┆ слесарь    ┆ Слесарь               ┆ 90000.0  ┆ 0.0          ┆ -0.024891 │\n",
      "│          ┆            ┆            ┆ механо-сборочных      ┆          ┆              ┆           │\n",
      "│          ┆            ┆            ┆ работ                 ┆          ┆              ┆           │\n",
      "│ …        ┆ …          ┆ …          ┆ …                     ┆ …        ┆ …            ┆ …         │\n",
      "│ 910      ┆ 2151671119 ┆ слесарь    ┆ Помощник сварщика     ┆ 50000.0  ┆ 0.0          ┆ -0.3329   │\n",
      "│ 910      ┆ 4672008093 ┆ слесарь    ┆ Слесарь по ремонту    ┆ 92000.0  ┆ 0.0          ┆ -0.415395 │\n",
      "│          ┆            ┆            ┆ 4-6 разряда…          ┆          ┆              ┆           │\n",
      "│ 910      ┆ 7567214642 ┆ слесарь    ┆ Рабочий на            ┆ 100000.0 ┆ 0.0          ┆ -0.452058 │\n",
      "│          ┆            ┆            ┆ производство с обуч…  ┆          ┆              ┆           │\n",
      "│ 910      ┆ 7464398228 ┆ слесарь    ┆ Помощник сварщика     ┆ 70000.0  ┆ 0.0          ┆ -0.463246 │\n",
      "│ 910      ┆ 2140773557 ┆ слесарь    ┆ Слесарь-Чистильщик    ┆ 70000.0  ┆ 0.0          ┆ -0.47323  │\n",
      "└──────────┴────────────┴────────────┴───────────────────────┴──────────┴──────────────┴───────────┘\n",
      "\n",
      "=== query_id=2116 ===\n",
      "shape: (15, 7)\n",
      "┌──────────┬────────────┬─────────────┬────────────────────────┬────────┬──────────────┬───────────┐\n",
      "│ query_id ┆ item_id    ┆ query_text  ┆ item_title             ┆ price  ┆ item_contact ┆ pred      │\n",
      "│ ---      ┆ ---        ┆ ---         ┆ ---                    ┆ ---    ┆ ---          ┆ ---       │\n",
      "│ i64      ┆ i64        ┆ str         ┆ str                    ┆ f32    ┆ f32          ┆ f64       │\n",
      "╞══════════╪════════════╪═════════════╪════════════════════════╪════════╪══════════════╪═══════════╡\n",
      "│ 2116     ┆ 7446553532 ┆ ремонт пк с ┆ Ремонт компьютеров и   ┆ 99.0   ┆ 0.0          ┆ 1.030838  │\n",
      "│          ┆            ┆ выездом     ┆ ноутбуков…             ┆        ┆              ┆           │\n",
      "│ 2116     ┆ 4295290369 ┆ ремонт пк с ┆ Ремонт компьютеров,    ┆ 200.0  ┆ 0.0          ┆ -0.099086 │\n",
      "│          ┆            ┆ выездом     ┆ установка …            ┆        ┆              ┆           │\n",
      "│ 2116     ┆ 2369801965 ┆ ремонт пк с ┆ Ремонт компьютеров,    ┆ 500.0  ┆ 0.0          ┆ -0.1508   │\n",
      "│          ┆            ┆ выездом     ┆ ноутбуков,…            ┆        ┆              ┆           │\n",
      "│ 2116     ┆ 7554362886 ┆ ремонт пк с ┆ Ремонт компьютеров и   ┆ 320.0  ┆ 0.0          ┆ -0.207204 │\n",
      "│          ┆            ┆ выездом     ┆ ноутбуков…             ┆        ┆              ┆           │\n",
      "│ 2116     ┆ 7250848395 ┆ ремонт пк с ┆ Компьютерный мастер    ┆ 300.0  ┆ 0.0          ┆ -0.218933 │\n",
      "│          ┆            ┆ выездом     ┆ ремонт ком…            ┆        ┆              ┆           │\n",
      "│ …        ┆ …          ┆ …           ┆ …                      ┆ …      ┆ …            ┆ …         │\n",
      "│ 2116     ┆ 2057940190 ┆ ремонт пк с ┆ Ремонт компьютеров,    ┆ 120.0  ┆ 1.0          ┆ -0.784737 │\n",
      "│          ┆            ┆ выездом     ┆ ноутбуков.…            ┆        ┆              ┆           │\n",
      "│ 2116     ┆ 7530657728 ┆ ремонт пк с ┆ Ремонт Ноутбуков       ┆ 0.0    ┆ 0.0          ┆ -0.923982 │\n",
      "│          ┆            ┆ выездом     ┆ Компьютеров. …         ┆        ┆              ┆           │\n",
      "│ 2116     ┆ 7571131292 ┆ ремонт пк с ┆ Ремонт компьютеров     ┆ 350.0  ┆ 0.0          ┆ -1.083789 │\n",
      "│          ┆            ┆ выездом     ┆ ремонт ноут…           ┆        ┆              ┆           │\n",
      "│ 2116     ┆ 1855778497 ┆ ремонт пк с ┆ Профессиональная       ┆ 1499.0 ┆ 0.0          ┆ -1.137377 │\n",
      "│          ┆            ┆ выездом     ┆ сборка и ремо…         ┆        ┆              ┆           │\n",
      "│ 2116     ┆ 7381587020 ┆ ремонт пк с ┆ Ремонт компьютеров     ┆ 500.0  ┆ 0.0          ┆ -1.291538 │\n",
      "│          ┆            ┆ выездом     ┆ ноутбуков к…           ┆        ┆              ┆           │\n",
      "└──────────┴────────────┴─────────────┴────────────────────────┴────────┴──────────────┴───────────┘\n",
      "\n",
      "=== query_id=3886 ===\n",
      "shape: (15, 7)\n",
      "┌──────────┬────────────┬────────────┬────────────────────────┬─────────┬──────────────┬───────────┐\n",
      "│ query_id ┆ item_id    ┆ query_text ┆ item_title             ┆ price   ┆ item_contact ┆ pred      │\n",
      "│ ---      ┆ ---        ┆ ---        ┆ ---                    ┆ ---     ┆ ---          ┆ ---       │\n",
      "│ i64      ┆ i64        ┆ str        ┆ str                    ┆ f32     ┆ f32          ┆ f64       │\n",
      "╞══════════╪════════════╪════════════╪════════════════════════╪═════════╪══════════════╪═══════════╡\n",
      "│ 3886     ┆ 2079436763 ┆ продавец в ┆ Продавец кассир в      ┆ 2000.0  ┆ 0.0          ┆ 0.296481  │\n",
      "│          ┆            ┆ пекарню    ┆ пекарню                ┆         ┆              ┆           │\n",
      "│ 3886     ┆ 7548678950 ┆ продавец в ┆ Продавец кассир в      ┆ 2000.0  ┆ 0.0          ┆ 0.216293  │\n",
      "│          ┆            ┆ пекарню    ┆ пекарню                ┆         ┆              ┆           │\n",
      "│ 3886     ┆ 7493524068 ┆ продавец в ┆ Продавец кассир в      ┆ 2500.0  ┆ 0.0          ┆ 0.158348  │\n",
      "│          ┆            ┆ пекарню    ┆ пекарню                ┆         ┆              ┆           │\n",
      "│ 3886     ┆ 7248133318 ┆ продавец в ┆ Продавец-консультант   ┆ 44000.0 ┆ 0.0          ┆ 0.022634  │\n",
      "│          ┆            ┆ пекарню    ┆ (проспект…             ┆         ┆              ┆           │\n",
      "│ 3886     ┆ 7344609027 ┆ продавец в ┆ Продавец-консультант   ┆ 35000.0 ┆ 0.0          ┆ -0.01511  │\n",
      "│          ┆            ┆ пекарню    ┆ (проспект…             ┆         ┆              ┆           │\n",
      "│ …        ┆ …          ┆ …          ┆ …                      ┆ …       ┆ …            ┆ …         │\n",
      "│ 3886     ┆ 2017638023 ┆ продавец в ┆ Продавец               ┆ 50000.0 ┆ 0.0          ┆ -0.380646 │\n",
      "│          ┆            ┆ пекарню    ┆ продовольственных тов… ┆         ┆              ┆           │\n",
      "│ 3886     ┆ 7556219951 ┆ продавец в ┆ Пекарь-универсал       ┆ 60000.0 ┆ 0.0          ┆ -0.499597 │\n",
      "│          ┆            ┆ пекарню    ┆                        ┆         ┆              ┆           │\n",
      "│ 3886     ┆ 7445261312 ┆ продавец в ┆ Продавец кассир        ┆ 3500.0  ┆ 1.0          ┆ -0.529855 │\n",
      "│          ┆            ┆ пекарню    ┆                        ┆         ┆              ┆           │\n",
      "│ 3886     ┆ 7294790287 ┆ продавец в ┆ Пекарь,помошник        ┆ 4000.0  ┆ 0.0          ┆ -0.557752 │\n",
      "│          ┆            ┆ пекарню    ┆ пекаря,повар           ┆         ┆              ┆           │\n",
      "│ 3886     ┆ 7520813234 ┆ продавец в ┆ Продавец               ┆ 62500.0 ┆ 0.0          ┆ -0.615608 │\n",
      "│          ┆            ┆ пекарню    ┆                        ┆         ┆              ┆           │\n",
      "└──────────┴────────────┴────────────┴────────────────────────┴─────────┴──────────────┴───────────┘\n",
      "\n",
      "=== query_id=4004 ===\n",
      "shape: (15, 7)\n",
      "┌──────────┬────────────┬───────────────────┬──────────────────┬────────┬──────────────┬───────────┐\n",
      "│ query_id ┆ item_id    ┆ query_text        ┆ item_title       ┆ price  ┆ item_contact ┆ pred      │\n",
      "│ ---      ┆ ---        ┆ ---               ┆ ---              ┆ ---    ┆ ---          ┆ ---       │\n",
      "│ i64      ┆ i64        ┆ str               ┆ str              ┆ f32    ┆ f32          ┆ f64       │\n",
      "╞══════════╪════════════╪═══════════════════╪══════════════════╪════════╪══════════════╪═══════════╡\n",
      "│ 4004     ┆ 3110826945 ┆ tom ford помада   ┆ Tom ford помада  ┆ 4900.0 ┆ 0.0          ┆ 0.393499  │\n",
      "│          ┆            ┆ новая             ┆ матовая новая …  ┆        ┆              ┆           │\n",
      "│ 4004     ┆ 3859733806 ┆ tom ford помада   ┆ Tom ford помада  ┆ 2000.0 ┆ 0.0          ┆ 0.089379  │\n",
      "│          ┆            ┆ новая             ┆ для губ, 16 Sc…  ┆        ┆              ┆           │\n",
      "│ 4004     ┆ 7274961955 ┆ tom ford помада   ┆ Tom ford помада  ┆ 1000.0 ┆ 0.0          ┆ 0.06752   │\n",
      "│          ┆            ┆ новая             ┆ 21               ┆        ┆              ┆           │\n",
      "│ 4004     ┆ 7538791225 ┆ tom ford помада   ┆ Спаркл для губ   ┆ 1550.0 ┆ 0.0          ┆ 0.053124  │\n",
      "│          ┆            ┆ новая             ┆ Tom Ford         ┆        ┆              ┆           │\n",
      "│ 4004     ┆ 7629467248 ┆ tom ford помада   ┆ Tom ford помада  ┆ 1648.0 ┆ 0.0          ┆ 0.016694  │\n",
      "│          ┆            ┆ новая             ┆ оригинал         ┆        ┆              ┆           │\n",
      "│ …        ┆ …          ┆ …                 ┆ …                ┆ …      ┆ …            ┆ …         │\n",
      "│ 4004     ┆ 7436436597 ┆ tom ford помада   ┆ Tom Ford Lip     ┆ 2900.0 ┆ 0.0          ┆ -0.189876 │\n",
      "│          ┆            ┆ новая             ┆ Color            ┆        ┆              ┆           │\n",
      "│ 4004     ┆ 4645367775 ┆ tom ford помада   ┆ Tom ford помада  ┆ 750.0  ┆ 0.0          ┆ -0.207807 │\n",
      "│          ┆            ┆ новая             ┆ в белом нарядн…  ┆        ┆              ┆           │\n",
      "│ 4004     ┆ 4120745339 ┆ tom ford помада   ┆ Помада Tom Ford  ┆ 2500.0 ┆ 0.0          ┆ -0.213097 │\n",
      "│          ┆            ┆ новая             ┆                  ┆        ┆              ┆           │\n",
      "│ 4004     ┆ 4535423377 ┆ tom ford помада   ┆ Tom ford помада  ┆ 2200.0 ┆ 0.0          ┆ -0.213805 │\n",
      "│          ┆            ┆ новая             ┆                  ┆        ┆              ┆           │\n",
      "│ 4004     ┆ 7386533213 ┆ tom ford помада   ┆ Помада TOM ford- ┆ 2200.0 ┆ 0.0          ┆ -0.221218 │\n",
      "│          ┆            ┆ новая             ┆ оригинал тон1…   ┆        ┆              ┆           │\n",
      "└──────────┴────────────┴───────────────────┴──────────────────┴────────┴──────────────┴───────────┘\n",
      "\n",
      "=== query_id=4358 ===\n",
      "shape: (15, 7)\n",
      "┌──────────┬────────────┬───────────────┬───────────────────────┬────────┬──────────────┬──────────┐\n",
      "│ query_id ┆ item_id    ┆ query_text    ┆ item_title            ┆ price  ┆ item_contact ┆ pred     │\n",
      "│ ---      ┆ ---        ┆ ---           ┆ ---                   ┆ ---    ┆ ---          ┆ ---      │\n",
      "│ i64      ┆ i64        ┆ str           ┆ str                   ┆ f32    ┆ f32          ┆ f64      │\n",
      "╞══════════╪════════════╪═══════════════╪═══════════════════════╪════════╪══════════════╪══════════╡\n",
      "│ 4358     ┆ 4157386764 ┆ ремонт iphone ┆ Ремонт iPhone         ┆ 0.0    ┆ 0.0          ┆ 1.378657 │\n",
      "│ 4358     ┆ 4639989192 ┆ ремонт iphone ┆ Ремонт iPhone         ┆ 500.0  ┆ 0.0          ┆ 0.510362 │\n",
      "│ 4358     ┆ 1565822393 ┆ ремонт iphone ┆ Ремонт Телефонов,     ┆ 499.0  ┆ 0.0          ┆ 0.473836 │\n",
      "│          ┆            ┆               ┆ Компьютеров,…         ┆        ┆              ┆          │\n",
      "│ 4358     ┆ 7229643819 ┆ ремонт iphone ┆ Ремонт iPhone в Пензе ┆ 0.0    ┆ 0.0          ┆ 0.470518 │\n",
      "│ 4358     ┆ 2470123901 ┆ ремонт iphone ┆ Замена аккумлятора,   ┆ 240.0  ┆ 0.0          ┆ 0.370035 │\n",
      "│          ┆            ┆               ┆ дисплея iP…           ┆        ┆              ┆          │\n",
      "│ …        ┆ …          ┆ …             ┆ …                     ┆ …      ┆ …            ┆ …        │\n",
      "│ 4358     ┆ 4707661426 ┆ ремонт iphone ┆ Разблокировка iPhone  ┆ 500.0  ┆ 0.0          ┆ 0.055685 │\n",
      "│          ┆            ┆               ┆ после Мош…            ┆        ┆              ┆          │\n",
      "│ 4358     ┆ 4639772775 ┆ ремонт iphone ┆ Ремонт Apple (iPhone, ┆ 500.0  ┆ 0.0          ┆ 0.042224 │\n",
      "│          ┆            ┆               ┆ MacBook,…             ┆        ┆              ┆          │\n",
      "│ 4358     ┆ 7400863528 ┆ ремонт iphone ┆ Ремонт adndroid,      ┆ 1000.0 ┆ 0.0          ┆ 0.041333 │\n",
      "│          ┆            ┆               ┆ iPhone смартф…        ┆        ┆              ┆          │\n",
      "│ 4358     ┆ 1938132314 ┆ ремонт iphone ┆ Ремонт техники        ┆ 333.0  ┆ 1.0          ┆ 0.026432 │\n",
      "│          ┆            ┆               ┆ (телефонов, ком…      ┆        ┆              ┆          │\n",
      "│ 4358     ┆ 2953200863 ┆ ремонт iphone ┆ Установка Сбербанк,   ┆ 300.0  ┆ 0.0          ┆ 0.017511 │\n",
      "│          ┆            ┆               ┆ Тинькофф, …           ┆        ┆              ┆          │\n",
      "└──────────┴────────────┴───────────────┴───────────────────────┴────────┴──────────────┴──────────┘\n",
      "\n",
      "=== query_id=4608 ===\n",
      "shape: (14, 7)\n",
      "┌──────────┬────────────┬─────────────┬────────────────────────┬────────┬──────────────┬───────────┐\n",
      "│ query_id ┆ item_id    ┆ query_text  ┆ item_title             ┆ price  ┆ item_contact ┆ pred      │\n",
      "│ ---      ┆ ---        ┆ ---         ┆ ---                    ┆ ---    ┆ ---          ┆ ---       │\n",
      "│ i64      ┆ i64        ┆ str         ┆ str                    ┆ f32    ┆ f32          ┆ f64       │\n",
      "╞══════════╪════════════╪═════════════╪════════════════════════╪════════╪══════════════╪═══════════╡\n",
      "│ 4608     ┆ 7556415324 ┆ зонт fulton ┆ Зонт Fulton полный     ┆ 1100.0 ┆ 0.0          ┆ 0.392576  │\n",
      "│          ┆            ┆             ┆ автомат                ┆        ┆              ┆           │\n",
      "│ 4608     ┆ 3371220034 ┆ зонт fulton ┆ Мужской зонт Zest      ┆ 1200.0 ┆ 0.0          ┆ 0.170477  │\n",
      "│          ┆            ┆             ┆ полный автом…          ┆        ┆              ┆           │\n",
      "│ 4608     ┆ 4268882768 ┆ зонт fulton ┆ Зонт Fulton            ┆ 2000.0 ┆ 0.0          ┆ 0.075058  │\n",
      "│ 4608     ┆ 3551442904 ┆ зонт fulton ┆ Классный огромный зонт ┆ 8400.0 ┆ 0.0          ┆ 0.023504  │\n",
      "│          ┆            ┆             ┆ jumbo. …               ┆        ┆              ┆           │\n",
      "│ 4608     ┆ 4810124721 ┆ зонт fulton ┆ Зонт-трость женский    ┆ 2150.0 ┆ 0.0          ┆ -0.040344 │\n",
      "│          ┆            ┆             ┆ Fulton бро…            ┆        ┆              ┆           │\n",
      "│ …        ┆ …          ┆ …           ┆ …                      ┆ …      ┆ …            ┆ …         │\n",
      "│ 4608     ┆ 7345961851 ┆ зонт fulton ┆ Зонт автомат Fulton    ┆ 5999.0 ┆ 0.0          ┆ -0.225808 │\n",
      "│          ┆            ┆             ┆ Tornado и …            ┆        ┆              ┆           │\n",
      "│ 4608     ┆ 4213141107 ┆ зонт fulton ┆ Зонт Fulton купол      ┆ 549.0  ┆ 1.0          ┆ -0.242001 │\n",
      "│ 4608     ┆ 7463712816 ┆ зонт fulton ┆ Мужской зонт Fulton    ┆ 6043.0 ┆ 0.0          ┆ -0.269245 │\n",
      "│          ┆            ┆             ┆ Titan с дв…            ┆        ┆              ┆           │\n",
      "│ 4608     ┆ 3946364616 ┆ зонт fulton ┆ Зонт трость Fulton     ┆ 3200.0 ┆ 0.0          ┆ -0.30257  │\n",
      "│ 4608     ┆ 7454546433 ┆ зонт fulton ┆ Зонт трость Fulton     ┆ 9600.0 ┆ 0.0          ┆ -0.54453  │\n",
      "└──────────┴────────────┴─────────────┴────────────────────────┴────────┴──────────────┴───────────┘\n",
      "\n",
      "=== query_id=5223 ===\n",
      "shape: (15, 7)\n",
      "┌──────────┬────────────┬─────────────────┬──────────────────┬──────────┬──────────────┬───────────┐\n",
      "│ query_id ┆ item_id    ┆ query_text      ┆ item_title       ┆ price    ┆ item_contact ┆ pred      │\n",
      "│ ---      ┆ ---        ┆ ---             ┆ ---              ┆ ---      ┆ ---          ┆ ---       │\n",
      "│ i64      ┆ i64        ┆ str             ┆ str              ┆ f32      ┆ f32          ┆ f64       │\n",
      "╞══════════╪════════════╪═════════════════╪══════════════════╪══════════╪══════════════╪═══════════╡\n",
      "│ 5223     ┆ 7587426089 ┆ работа водитель ┆ Личный           ┆ 80000.0  ┆ 0.0          ┆ 0.06074   │\n",
      "│          ┆            ┆                 ┆ персональный     ┆          ┆              ┆           │\n",
      "│          ┆            ┆                 ┆ водитель         ┆          ┆              ┆           │\n",
      "│ 5223     ┆ 7606076739 ┆ работа водитель ┆ Личный           ┆ 119532.0 ┆ 0.0          ┆ 0.045406  │\n",
      "│          ┆            ┆                 ┆ персональный     ┆          ┆              ┆           │\n",
      "│          ┆            ┆                 ┆ водитель р…      ┆          ┆              ┆           │\n",
      "│ 5223     ┆ 7550836247 ┆ работа водитель ┆ Семейный         ┆ 100000.0 ┆ 0.0          ┆ -0.020924 │\n",
      "│          ┆            ┆                 ┆ водитель         ┆          ┆              ┆           │\n",
      "│ 5223     ┆ 7566785984 ┆ работа водитель ┆ Водитель         ┆ 90000.0  ┆ 0.0          ┆ -0.098437 │\n",
      "│          ┆            ┆                 ┆ персональный     ┆          ┆              ┆           │\n",
      "│ 5223     ┆ 4574005773 ┆ работа водитель ┆ Личный водитель  ┆ 100000.0 ┆ 0.0          ┆ -0.14414  │\n",
      "│          ┆            ┆                 ┆ для семьи        ┆          ┆              ┆           │\n",
      "│ …        ┆ …          ┆ …               ┆ …                ┆ …        ┆ …            ┆ …         │\n",
      "│ 5223     ┆ 4870098767 ┆ работа водитель ┆ Водитель на      ┆ 100000.0 ┆ 0.0          ┆ -0.308797 │\n",
      "│          ┆            ┆                 ┆ легковой авто    ┆          ┆              ┆           │\n",
      "│          ┆            ┆                 ┆ теле…            ┆          ┆              ┆           │\n",
      "│ 5223     ┆ 7497294910 ┆ работа водитель ┆ Персональный     ┆ 97700.0  ┆ 0.0          ┆ -0.309433 │\n",
      "│          ┆            ┆                 ┆ водитель график  ┆          ┆              ┆           │\n",
      "│          ┆            ┆                 ┆ 5…               ┆          ┆              ┆           │\n",
      "│ 5223     ┆ 7567697408 ┆ работа водитель ┆ Водитель на      ┆ 8000.0   ┆ 0.0          ┆ -0.316219 │\n",
      "│          ┆            ┆                 ┆ машине от        ┆          ┆              ┆           │\n",
      "│          ┆            ┆                 ┆ компании…        ┆          ┆              ┆           │\n",
      "│ 5223     ┆ 7539747700 ┆ работа водитель ┆ Водитель. Выдаем ┆ 7000.0   ┆ 0.0          ┆ -0.319238 │\n",
      "│          ┆            ┆                 ┆ новые авто/До…   ┆          ┆              ┆           │\n",
      "│ 5223     ┆ 4400661543 ┆ работа водитель ┆ Водитель курьер  ┆ 200000.0 ┆ 0.0          ┆ -0.351863 │\n",
      "│          ┆            ┆                 ┆ на автомобиле …  ┆          ┆              ┆           │\n",
      "└──────────┴────────────┴─────────────────┴──────────────────┴──────────┴──────────────┴───────────┘\n",
      "\n",
      "=== query_id=5508 ===\n",
      "shape: (15, 7)\n",
      "┌──────────┬────────────┬───────────────────┬──────────────────┬────────┬──────────────┬───────────┐\n",
      "│ query_id ┆ item_id    ┆ query_text        ┆ item_title       ┆ price  ┆ item_contact ┆ pred      │\n",
      "│ ---      ┆ ---        ┆ ---               ┆ ---              ┆ ---    ┆ ---          ┆ ---       │\n",
      "│ i64      ┆ i64        ┆ str               ┆ str              ┆ f32    ┆ f32          ┆ f64       │\n",
      "╞══════════╪════════════╪═══════════════════╪══════════════════╪════════╪══════════════╪═══════════╡\n",
      "│ 5508     ┆ 3249086019 ┆ светодиодная      ┆ Ремонт           ┆ 1500.0 ┆ 0.0          ┆ 0.102871  │\n",
      "│          ┆            ┆ лента поставить   ┆ светодиодных     ┆        ┆              ┆           │\n",
      "│          ┆            ┆                   ┆ люстр, све…      ┆        ┆              ┆           │\n",
      "│ 5508     ┆ 7391871576 ┆ светодиодная      ┆ Кофр съемный для ┆ 4250.0 ┆ 0.0          ┆ -0.138883 │\n",
      "│          ┆            ┆ лента поставить   ┆ мото             ┆        ┆              ┆           │\n",
      "│ 5508     ┆ 1548808682 ┆ светодиодная      ┆ Мастер муж на    ┆ 199.0  ┆ 0.0          ┆ -0.40654  │\n",
      "│          ┆            ┆ лента поставить   ┆ час сборка       ┆        ┆              ┆           │\n",
      "│          ┆            ┆                   ┆ мебел…           ┆        ┆              ┆           │\n",
      "│ 5508     ┆ 7607531124 ┆ светодиодная      ┆ Электрик. Все    ┆ 320.0  ┆ 0.0          ┆ -0.578825 │\n",
      "│          ┆            ┆ лента поставить   ┆ Услуги Электрика ┆        ┆              ┆           │\n",
      "│ 5508     ┆ 1860655789 ┆ светодиодная      ┆ Электрик,        ┆ 0.0    ┆ 0.0          ┆ -0.655764 │\n",
      "│          ┆            ┆ лента поставить   ┆ электромонтажные ┆        ┆              ┆           │\n",
      "│          ┆            ┆                   ┆ раб…             ┆        ┆              ┆           │\n",
      "│ …        ┆ …          ┆ …                 ┆ …                ┆ …      ┆ …            ┆ …         │\n",
      "│ 5508     ┆ 7226618279 ┆ светодиодная      ┆ Ночник           ┆ 350.0  ┆ 0.0          ┆ -0.96454  │\n",
      "│          ┆            ┆ лента поставить   ┆ светильник       ┆        ┆              ┆           │\n",
      "│          ┆            ┆                   ┆ \"Тюльпаны\"       ┆        ┆              ┆           │\n",
      "│ 5508     ┆ 7344231982 ┆ светодиодная      ┆ Сантехник и      ┆ 500.0  ┆ 0.0          ┆ -0.988025 │\n",
      "│          ┆            ┆ лента поставить   ┆ электрик         ┆        ┆              ┆           │\n",
      "│ 5508     ┆ 2556250730 ┆ светодиодная      ┆ Услуги электрика ┆ 250.0  ┆ 1.0          ┆ -1.064744 │\n",
      "│          ┆            ┆ лента поставить   ┆                  ┆        ┆              ┆           │\n",
      "│ 5508     ┆ 4914280358 ┆ светодиодная      ┆ Блютуз колонка   ┆ 9000.0 ┆ 0.0          ┆ -1.155086 │\n",
      "│          ┆            ┆ лента поставить   ┆ Стимпанк. Аренд… ┆        ┆              ┆           │\n",
      "│ 5508     ┆ 4151421777 ┆ светодиодная      ┆ Мастер на час    ┆ 250.0  ┆ 0.0          ┆ -1.584978 │\n",
      "│          ┆            ┆ лента поставить   ┆                  ┆        ┆              ┆           │\n",
      "└──────────┴────────────┴───────────────────┴──────────────────┴────────┴──────────────┴───────────┘\n",
      "\n",
      "=== query_id=5851 ===\n",
      "shape: (15, 7)\n",
      "┌──────────┬────────────┬─────────────┬────────────────────┬────────┬──────────────┬───────────┐\n",
      "│ query_id ┆ item_id    ┆ query_text  ┆ item_title         ┆ price  ┆ item_contact ┆ pred      │\n",
      "│ ---      ┆ ---        ┆ ---         ┆ ---                ┆ ---    ┆ ---          ┆ ---       │\n",
      "│ i64      ┆ i64        ┆ str         ┆ str                ┆ f32    ┆ f32          ┆ f64       │\n",
      "╞══════════╪════════════╪═════════════╪════════════════════╪════════╪══════════════╪═══════════╡\n",
      "│ 5851     ┆ 7242301918 ┆ бугульдейка ┆ 2-к. дом, 48 м²    ┆ 1000.0 ┆ 0.0          ┆ -0.108593 │\n",
      "│ 5851     ┆ 2552205754 ┆ бугульдейка ┆ 2-к. дом, 37 м²    ┆ 1000.0 ┆ 0.0          ┆ -0.225259 │\n",
      "│ 5851     ┆ 4622505486 ┆ бугульдейка ┆ 3-к. дом, 45 м²    ┆ 1000.0 ┆ 0.0          ┆ -0.291813 │\n",
      "│ 5851     ┆ 4391818857 ┆ бугульдейка ┆ 2-к. дом, 42 м²    ┆ 1000.0 ┆ 0.0          ┆ -0.428254 │\n",
      "│ 5851     ┆ 4604548271 ┆ бугульдейка ┆ 3-к. дом, 45 м²    ┆ 1000.0 ┆ 0.0          ┆ -0.463324 │\n",
      "│ …        ┆ …          ┆ …           ┆ …                  ┆ …      ┆ …            ┆ …         │\n",
      "│ 5851     ┆ 7296127955 ┆ бугульдейка ┆ 10-к. и более дом, ┆ 1500.0 ┆ 0.0          ┆ -0.859655 │\n",
      "│          ┆            ┆             ┆ 288 м²             ┆        ┆              ┆           │\n",
      "│ 5851     ┆ 4542788603 ┆ бугульдейка ┆ 3-к. дом, 60 м²    ┆ 1500.0 ┆ 1.0          ┆ -0.883249 │\n",
      "│ 5851     ┆ 2522092638 ┆ бугульдейка ┆ 2-к. дом, 80 м²    ┆ 1600.0 ┆ 0.0          ┆ -0.942617 │\n",
      "│ 5851     ┆ 2420848303 ┆ бугульдейка ┆ 3-к. дом, 100 м²   ┆ 1500.0 ┆ 0.0          ┆ -0.974359 │\n",
      "│ 5851     ┆ 4016477359 ┆ бугульдейка ┆ 2-к. дом, 42 м²    ┆ 1000.0 ┆ 0.0          ┆ -1.037354 │\n",
      "└──────────┴────────────┴─────────────┴────────────────────┴────────┴──────────────┴───────────┘\n"
     ]
    }
   ],
   "execution_count": 61
  },
  {
   "metadata": {
    "ExecuteTime": {
     "end_time": "2025-09-19T19:00:52.825753Z",
     "start_time": "2025-09-19T19:00:52.807527Z"
    }
   },
   "cell_type": "code",
   "source": "",
   "id": "9bfe59eb98a60752",
   "outputs": [],
   "execution_count": null
  }
 ],
 "metadata": {
  "kernelspec": {
   "display_name": "Python 3",
   "language": "python",
   "name": "python3"
  },
  "language_info": {
   "codemirror_mode": {
    "name": "ipython",
    "version": 2
   },
   "file_extension": ".py",
   "mimetype": "text/x-python",
   "name": "python",
   "nbconvert_exporter": "python",
   "pygments_lexer": "ipython2",
   "version": "2.7.6"
  }
 },
 "nbformat": 4,
 "nbformat_minor": 5
}
