{
 "cells": [
  {
   "metadata": {
    "ExecuteTime": {
     "end_time": "2025-09-18T22:10:08.786473Z",
     "start_time": "2025-09-18T22:10:08.779475Z"
    }
   },
   "cell_type": "code",
   "source": [
    "# # BM25 + LightGBMRanker (hold-out, без шардирования) с лемматизацией spaCy\n",
    "#\n",
    "# Быстрый энд-ту-энд ноутбук:\n",
    "# - Polars: ленивое чтение и подготовка уникальных queries/items\n",
    "# - spaCy ru_core_news_sm: токенизация + леммы (можно отключить)\n",
    "# - BM25 по (title + первые N лемм из description)\n",
    "# - Hold-out по query_id (одна валидация)\n",
    "# - LightGBMRanker (LambdaRank), метрика NDCG@10 с decay 0.97^pos"
   ],
   "id": "e9dd969d3170d839",
   "outputs": [],
   "execution_count": 2
  },
  {
   "metadata": {
    "ExecuteTime": {
     "end_time": "2025-09-18T22:11:08.191843Z",
     "start_time": "2025-09-18T22:11:07.249188Z"
    }
   },
   "cell_type": "code",
   "source": [
    "# ## Импорт и настройки\n",
    "\n",
    "import os\n",
    "import time\n",
    "import gc\n",
    "import polars as pl\n",
    "import numpy as np\n",
    "import pandas as pd\n",
    "from tqdm.auto import tqdm\n",
    "from rank_bm25 import BM25Okapi\n",
    "import lightgbm as lgb"
   ],
   "id": "4e0eb84eb5ea9fc9",
   "outputs": [
    {
     "name": "stderr",
     "output_type": "stream",
     "text": [
      "C:\\Users\\idine\\PycharmProjects\\Avito_Test\\.venv\\lib\\site-packages\\tqdm\\auto.py:21: TqdmWarning: IProgress not found. Please update jupyter and ipywidgets. See https://ipywidgets.readthedocs.io/en/stable/user_install.html\n",
      "  from .autonotebook import tqdm as notebook_tqdm\n"
     ]
    }
   ],
   "execution_count": 1
  },
  {
   "metadata": {
    "ExecuteTime": {
     "end_time": "2025-09-18T22:19:22.785799Z",
     "start_time": "2025-09-18T22:19:22.780799Z"
    }
   },
   "cell_type": "code",
   "source": [
    "# Пути к данным\n",
    "BASE_DIR = os.path.dirname(os.getcwd())\n",
    "DATA_DIR = os.path.join(BASE_DIR, \"Data\")\n",
    "TRAIN_PATH = os.path.join(DATA_DIR, \"train-dset.parquet\")\n",
    "TEST_PATH  = os.path.join(DATA_DIR, \"test-dset-small.parquet\")\n",
    "\n",
    "# Параметры пайплайна\n",
    "RANDOM_STATE        = 42\n",
    "EVAL_AT             = 10                 # NDCG@10\n",
    "DESC_CHARS_LIMIT    = 1500               # предварительная обрезка описания по символам\n",
    "DESC_TOKENS_LIMIT   = 80                 # максимум лемм из description для BM25\n",
    "USE_SPACY_LEMMAS    = False              # переключатель: True — spaCy леммы, False — простая токенизация\n",
    "REMOVE_STOPWORDS    = True               # удаление стоп-слов в spaCy-ветке\n",
    "MIN_LEMMA_LEN       = 2                  # отбрасывать короткие токены в spaCy-ветке"
   ],
   "id": "e8d3e8a541c0ab15",
   "outputs": [],
   "execution_count": 13
  },
  {
   "metadata": {
    "ExecuteTime": {
     "end_time": "2025-09-18T22:11:10.589421Z",
     "start_time": "2025-09-18T22:11:10.569422Z"
    }
   },
   "cell_type": "code",
   "source": [
    "# ## Утилиты\n",
    "\n",
    "def ndcg_at_k(y_true: np.ndarray, y_score: np.ndarray, qids: np.ndarray, k: int = 10) -> float:\n",
    "    # decay = 0.97**pos (позиции с нуля), как в описании\n",
    "    order = np.argsort(qids, kind=\"mergesort\")\n",
    "    y_true = y_true[order]; y_score = y_score[order]; qids = qids[order]\n",
    "    uniq, starts = np.unique(qids, return_index=True)\n",
    "    starts = list(starts) + [len(qids)]\n",
    "    w = 0.97 ** np.arange(1000)\n",
    "    total = 0.0; cnt = 0\n",
    "    for i in range(len(uniq)):\n",
    "        s, e = starts[i], starts[i+1]\n",
    "        y = y_true[s:e]; scores = y_score[s:e]\n",
    "        idx = np.argsort(scores)[::-1]; gains = y[idx]\n",
    "        dcg = (gains * w[:len(gains)])[:k].sum()\n",
    "        ideal = np.sort(y)[::-1]; idcg = (ideal * w[:len(ideal)])[:k].sum()\n",
    "        if idcg > 0:\n",
    "            total += dcg / idcg; cnt += 1\n",
    "    return total / max(cnt, 1)\n",
    "\n",
    "def group_sizes(qids: np.ndarray) -> list[int]:\n",
    "    _, counts = np.unique(qids, return_counts=True)\n",
    "    return counts.tolist()\n",
    "\n",
    "def print_step(msg: str):\n",
    "    print(f\"[step] {msg}\")\n"
   ],
   "id": "7c99b2d1fee9a665",
   "outputs": [],
   "execution_count": 3
  },
  {
   "metadata": {
    "ExecuteTime": {
     "end_time": "2025-09-18T22:11:11.129864Z",
     "start_time": "2025-09-18T22:11:11.119864Z"
    }
   },
   "cell_type": "code",
   "source": [
    "# ## Ленивое чтение Parquet и подготовка уникальных сущностей\n",
    "\n",
    "t0 = time.time()\n",
    "train_lf = pl.scan_parquet(TRAIN_PATH)\n",
    "test_lf  = pl.scan_parquet(TEST_PATH)\n",
    "print_step(f\"lazy sources ready in {time.time()-t0:.2f}s\")"
   ],
   "id": "b4ccfe89f29ef4ea",
   "outputs": [
    {
     "name": "stdout",
     "output_type": "stream",
     "text": [
      "[step] lazy sources ready in 0.00s\n"
     ]
    }
   ],
   "execution_count": 4
  },
  {
   "metadata": {
    "ExecuteTime": {
     "end_time": "2025-09-18T22:11:11.642171Z",
     "start_time": "2025-09-18T22:11:11.626165Z"
    }
   },
   "cell_type": "code",
   "source": [
    "# уникальные queries (train+test)\n",
    "queries_lf = (\n",
    "    pl.concat([train_lf.select(\"query_id\", \"query_text\"),\n",
    "               test_lf.select(\"query_id\", \"query_text\")])\n",
    "    .unique(subset=[\"query_id\"])\n",
    ")"
   ],
   "id": "b86dfc326da1dc",
   "outputs": [],
   "execution_count": 5
  },
  {
   "metadata": {
    "ExecuteTime": {
     "end_time": "2025-09-18T22:11:12.804419Z",
     "start_time": "2025-09-18T22:11:12.797765Z"
    }
   },
   "cell_type": "code",
   "source": [
    "# уникальные items (train+test) + обрезка описания по символам\n",
    "items_lf = (\n",
    "    pl.concat([train_lf.select(\"item_id\", \"item_title\", \"item_description\"),\n",
    "               test_lf.select(\"item_id\", \"item_title\", \"item_description\")])\n",
    "    .unique(subset=[\"item_id\"])\n",
    "    .with_columns([\n",
    "        pl.col(\"item_description\").cast(pl.Utf8).fill_null(\"\")\n",
    "          .str.slice(0, DESC_CHARS_LIMIT).alias(\"desc_short\")\n",
    "    ])\n",
    "    .select([\"item_id\", \"item_title\", \"desc_short\"])\n",
    ")"
   ],
   "id": "f1f7d4fb748bdc88",
   "outputs": [],
   "execution_count": 6
  },
  {
   "metadata": {
    "ExecuteTime": {
     "end_time": "2025-09-18T22:11:14.894926Z",
     "start_time": "2025-09-18T22:11:14.733305Z"
    }
   },
   "cell_type": "code",
   "source": [
    "t1 = time.time()\n",
    "queries_df = queries_lf.collect(streaming=True)"
   ],
   "id": "ac3ea33021ece468",
   "outputs": [
    {
     "name": "stderr",
     "output_type": "stream",
     "text": [
      "C:\\Users\\idine\\AppData\\Local\\Temp\\ipykernel_48304\\409547522.py:2: DeprecationWarning: the `streaming` parameter was deprecated in 1.25.0; use `engine` instead.\n",
      "  queries_df = queries_lf.collect(streaming=True)\n"
     ]
    }
   ],
   "execution_count": 7
  },
  {
   "metadata": {
    "ExecuteTime": {
     "end_time": "2025-09-18T22:13:24.786597Z",
     "start_time": "2025-09-18T22:13:06.901211Z"
    }
   },
   "cell_type": "code",
   "source": [
    "items_df   = items_lf.collect(streaming=True)\n",
    "print_step(f\"collect uniques: queries={queries_df.shape}, items={items_df.shape}, time={time.time()-t1:.2f}s\")"
   ],
   "id": "dff346303f60ced5",
   "outputs": [
    {
     "name": "stderr",
     "output_type": "stream",
     "text": [
      "C:\\Users\\idine\\AppData\\Local\\Temp\\ipykernel_48304\\3562209672.py:1: DeprecationWarning: the `streaming` parameter was deprecated in 1.25.0; use `engine` instead.\n",
      "  items_df   = items_lf.collect(streaming=True)\n"
     ]
    },
    {
     "name": "stdout",
     "output_type": "stream",
     "text": [
      "[step] collect uniques: queries=(690695, 2), items=(5986464, 3), time=129.98s\n"
     ]
    }
   ],
   "execution_count": 11
  },
  {
   "metadata": {
    "ExecuteTime": {
     "end_time": "2025-09-18T22:42:37.358510Z",
     "start_time": "2025-09-18T22:42:37.345509Z"
    }
   },
   "cell_type": "code",
   "source": [
    "def norm_expr(col) -> pl.Expr:\n",
    "    e = pl.col(col) if isinstance(col, str) else col\n",
    "    return (\n",
    "        e.cast(pl.Utf8).fill_null(\"\")\n",
    "         .str.to_lowercase()\n",
    "         .str.replace_all(r\"[.,;:!?\\(\\)\\[\\]\\{\\}\\\"'«»“”’/\\\\\\-\\+_=~`|<>^€$#@%&*]+\", \" \")\n",
    "         .str.replace_all(r\"\\s+\", \" \")\n",
    "         .str.strip_chars()\n",
    "    )\n"
   ],
   "id": "8a55d8cb964a27ed",
   "outputs": [],
   "execution_count": 24
  },
  {
   "metadata": {
    "ExecuteTime": {
     "end_time": "2025-09-18T22:42:37.977896Z",
     "start_time": "2025-09-18T22:42:37.911902Z"
    }
   },
   "cell_type": "code",
   "source": [
    "# токены для уникальных запросов и товаров\n",
    "queries_tok = (\n",
    "    queries_df\n",
    "    .with_columns(norm_expr(\"query_text\").str.split(\" \").alias(\"query_tokens\"))\n",
    "    .select([\"query_id\",\"query_tokens\"])\n",
    ")"
   ],
   "id": "ccc8c7d8cb390b7",
   "outputs": [],
   "execution_count": 25
  },
  {
   "metadata": {
    "ExecuteTime": {
     "end_time": "2025-09-18T22:53:38.567989Z",
     "start_time": "2025-09-18T22:53:04.150125Z"
    }
   },
   "cell_type": "code",
   "source": [
    "items_tok = (\n",
    "    items_df\n",
    "    .with_columns([\n",
    "        norm_expr(\"item_title\").str.split(\" \").alias(\"title_tokens\"),\n",
    "        norm_expr(\"desc_short\").str.split(\" \").list.head(DESC_TOKENS_LIMIT).alias(\"desc_tokens\"),\n",
    "    ])\n",
    "    .with_columns([\n",
    "        pl.concat_list([pl.col(\"title_tokens\"), pl.col(\"desc_tokens\")]).alias(\"doc_tokens\")\n",
    "    ])\n",
    "    .select([\"item_id\",\"doc_tokens\"])\n",
    ")"
   ],
   "id": "a97872ccb85b9b5e",
   "outputs": [],
   "execution_count": 28
  },
  {
   "metadata": {
    "ExecuteTime": {
     "end_time": "2025-09-18T22:54:54.812474Z",
     "start_time": "2025-09-18T22:54:54.785475Z"
    }
   },
   "cell_type": "code",
   "source": [
    "# --- присоединяем токены к парам и материализуем ---\n",
    "train_join_lf = (\n",
    "    train_lf\n",
    "    .join(queries_tok.lazy(), on=\"query_id\", how=\"left\")\n",
    "    .join(items_tok.lazy(),   on=\"item_id\",  how=\"left\")\n",
    "    .select([\"query_id\",\"item_id\",\"item_contact\",\"query_tokens\",\"doc_tokens\"])\n",
    ")"
   ],
   "id": "4a6bf8c2025f7967",
   "outputs": [],
   "execution_count": 29
  },
  {
   "metadata": {
    "ExecuteTime": {
     "end_time": "2025-09-18T22:55:01.385200Z",
     "start_time": "2025-09-18T22:55:01.372200Z"
    }
   },
   "cell_type": "code",
   "source": [
    "test_join_lf = (\n",
    "    test_lf\n",
    "    .join(queries_tok.lazy(), on=\"query_id\", how=\"left\")\n",
    "    .join(items_tok.lazy(),   on=\"item_id\",  how=\"left\")\n",
    "    .select([\"query_id\",\"item_id\",\"query_tokens\",\"doc_tokens\"])\n",
    ")"
   ],
   "id": "7daeffd22e53e0f2",
   "outputs": [],
   "execution_count": 30
  },
  {
   "metadata": {
    "ExecuteTime": {
     "start_time": "2025-09-18T22:55:13.648116Z"
    }
   },
   "cell_type": "code",
   "source": [
    "t2 = time.time()\n",
    "train_df = train_join_lf.collect(streaming=True)"
   ],
   "id": "a192fca0801d396f",
   "outputs": [
    {
     "name": "stderr",
     "output_type": "stream",
     "text": [
      "C:\\Users\\idine\\AppData\\Local\\Temp\\ipykernel_48304\\3654168709.py:2: DeprecationWarning: the `streaming` parameter was deprecated in 1.25.0; use `engine` instead.\n",
      "  train_df = train_join_lf.collect(streaming=True)\n"
     ]
    }
   ],
   "execution_count": null
  },
  {
   "metadata": {},
   "cell_type": "code",
   "outputs": [],
   "execution_count": null,
   "source": [
    "test_df  = test_join_lf.collect(streaming=True)\n",
    "print_step(f\"joined: train={train_df.shape}, test={test_df.shape}, time={time.time()-t2:.2f}s\")\n"
   ],
   "id": "cb2e062f89bd245"
  },
  {
   "metadata": {},
   "cell_type": "code",
   "outputs": [],
   "execution_count": null,
   "source": [
    "# --- BM25 по query_id с progress bar ---\n",
    "from tqdm.auto import tqdm\n",
    "from rank_bm25 import BM25Okapi\n",
    "import numpy as np"
   ],
   "id": "f3604a3113998ee2"
  },
  {
   "metadata": {},
   "cell_type": "code",
   "outputs": [],
   "execution_count": null,
   "source": [
    "def bm25_scores_with_progress(df: pl.DataFrame, desc: str) -> pl.DataFrame:\n",
    "    gidx = df.group_by(\"query_id\").groups()\n",
    "    scores = np.zeros(df.height, dtype=np.float32)\n",
    "    for qid, idx_list in tqdm(gidx.iter_rows(), total=gidx.height, desc=desc, leave=True):\n",
    "        idxs = np.asarray(idx_list, dtype=np.int64)\n",
    "        docs = df[\"doc_tokens\"].take(idxs).to_list()\n",
    "        docs = [d if isinstance(d, list) and len(d) > 0 else [\"<empty>\"] for d in docs]\n",
    "        bm25 = BM25Okapi(docs)\n",
    "        q = df[\"query_tokens\"][int(idxs[0])]\n",
    "        if not isinstance(q, list) or len(q) == 0:\n",
    "            q = [\"<empty>\"]\n",
    "        sc = bm25.get_scores(q).astype(np.float32)\n",
    "        scores[idxs] = sc\n",
    "    return df.with_columns(pl.Series(\"bm25_doc\", scores))"
   ],
   "id": "d31ca883becf2eb6"
  },
  {
   "metadata": {},
   "cell_type": "code",
   "outputs": [],
   "execution_count": null,
   "source": "",
   "id": "feb7535056d46cfd"
  }
 ],
 "metadata": {
  "kernelspec": {
   "display_name": "Python 3",
   "language": "python",
   "name": "python3"
  },
  "language_info": {
   "codemirror_mode": {
    "name": "ipython",
    "version": 2
   },
   "file_extension": ".py",
   "mimetype": "text/x-python",
   "name": "python",
   "nbconvert_exporter": "python",
   "pygments_lexer": "ipython2",
   "version": "2.7.6"
  }
 },
 "nbformat": 4,
 "nbformat_minor": 5
}
