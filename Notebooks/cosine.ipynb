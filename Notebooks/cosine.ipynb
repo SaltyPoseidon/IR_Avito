{
 "cells": [
  {
   "cell_type": "code",
   "id": "initial_id",
   "metadata": {
    "collapsed": true,
    "ExecuteTime": {
     "end_time": "2025-09-19T13:22:05.910840Z",
     "start_time": "2025-09-19T13:22:05.903547Z"
    }
   },
   "source": [
    "# # 02 — Косинусное сходство (query ↔ title)\n",
    "# - Источник эмбеддингов: np.memmap float16 (из 01_make_embeddings.ipynb)\n",
    "# - Результат:\n",
    "#     - train_cos.parquet:  [query_id, item_id, cos_q_title]\n",
    "#     - test_cos.parquet:   [query_id, item_id, cos_q_title]\n",
    "# - Прогресс: tqdm"
   ],
   "outputs": [],
   "execution_count": 1
  },
  {
   "metadata": {
    "ExecuteTime": {
     "end_time": "2025-09-19T13:22:12.014356Z",
     "start_time": "2025-09-19T13:22:11.754348Z"
    }
   },
   "cell_type": "code",
   "source": [
    "import os\n",
    "import json\n",
    "from typing import List, Tuple\n",
    "\n",
    "import polars as pl\n",
    "import numpy as np\n",
    "from tqdm.auto import tqdm"
   ],
   "id": "b0f4d4b8cf2e9c1a",
   "outputs": [
    {
     "name": "stderr",
     "output_type": "stream",
     "text": [
      "C:\\Users\\idine\\PycharmProjects\\Avito_Test\\.venv\\lib\\site-packages\\tqdm\\auto.py:21: TqdmWarning: IProgress not found. Please update jupyter and ipywidgets. See https://ipywidgets.readthedocs.io/en/stable/user_install.html\n",
      "  from .autonotebook import tqdm as notebook_tqdm\n"
     ]
    }
   ],
   "execution_count": 2
  },
  {
   "metadata": {
    "ExecuteTime": {
     "end_time": "2025-09-19T13:22:31.764245Z",
     "start_time": "2025-09-19T13:22:31.751222Z"
    }
   },
   "cell_type": "code",
   "source": [
    "BASE_DIR = os.path.dirname(os.getcwd())\n",
    "DATA_DIR = os.path.join(BASE_DIR, \"Data\")\n",
    "TRAIN_PATH = os.path.join(DATA_DIR, \"train-dset.parquet\")\n",
    "TEST_PATH  = os.path.join(DATA_DIR, \"test-dset-small.parquet\")"
   ],
   "id": "4bfdfeb6d26d2e10",
   "outputs": [],
   "execution_count": 3
  },
  {
   "metadata": {
    "ExecuteTime": {
     "end_time": "2025-09-19T13:23:56.179118Z",
     "start_time": "2025-09-19T13:23:56.174836Z"
    }
   },
   "cell_type": "code",
   "source": [
    "EMB_DIR    = os.path.join(DATA_DIR, \"embeddings_memmap\")\n",
    "QUERY_MM   = os.path.join(EMB_DIR, \"query_embeddings.f16.memmap\")\n",
    "ITEM_MM    = os.path.join(EMB_DIR, \"item_embeddings.f16.memmap\")\n",
    "Q_INDEX    = os.path.join(EMB_DIR, \"query_id2idx.json\")\n",
    "I_INDEX    = os.path.join(EMB_DIR, \"item_id2idx.json\")"
   ],
   "id": "d0060f3ff8211b11",
   "outputs": [],
   "execution_count": 4
  },
  {
   "metadata": {
    "ExecuteTime": {
     "end_time": "2025-09-19T13:24:02.809906Z",
     "start_time": "2025-09-19T13:24:02.796371Z"
    }
   },
   "cell_type": "code",
   "source": "EMB_DIM    = 384",
   "id": "b6bd0face64f7107",
   "outputs": [],
   "execution_count": 5
  },
  {
   "metadata": {
    "ExecuteTime": {
     "end_time": "2025-09-19T13:24:09.641295Z",
     "start_time": "2025-09-19T13:24:09.628215Z"
    }
   },
   "cell_type": "code",
   "source": "CHUNK_ROWS = 2_000_000",
   "id": "fc499abb01f4bcfb",
   "outputs": [],
   "execution_count": 6
  },
  {
   "metadata": {
    "ExecuteTime": {
     "end_time": "2025-09-19T13:24:39.123606Z",
     "start_time": "2025-09-19T13:24:39.110094Z"
    }
   },
   "cell_type": "code",
   "source": [
    "# Выходные файлы\n",
    "TRAIN_COS_OUT = \"train_cos.parquet\"\n",
    "TEST_COS_OUT  = \"test_cos.parquet\""
   ],
   "id": "8c7da41c18f254b6",
   "outputs": [],
   "execution_count": 7
  },
  {
   "metadata": {
    "ExecuteTime": {
     "end_time": "2025-09-19T13:24:46.248369Z",
     "start_time": "2025-09-19T13:24:46.236847Z"
    }
   },
   "cell_type": "code",
   "source": [
    "print(f\"[setup] chunk_rows={CHUNK_ROWS}, emb_dim={EMB_DIM}\")\n",
    "print(f\"[setup] embeddings: {QUERY_MM}, {ITEM_MM}\")"
   ],
   "id": "5e67c89c04f94e7f",
   "outputs": [
    {
     "name": "stdout",
     "output_type": "stream",
     "text": [
      "[setup] chunk_rows=2000000, emb_dim=384\n",
      "[setup] embeddings: C:\\Users\\idine\\PycharmProjects\\Avito_Test\\Data\\embeddings_memmap\\query_embeddings.f16.memmap, C:\\Users\\idine\\PycharmProjects\\Avito_Test\\Data\\embeddings_memmap\\item_embeddings.f16.memmap\n"
     ]
    }
   ],
   "execution_count": 8
  },
  {
   "metadata": {
    "ExecuteTime": {
     "end_time": "2025-09-19T13:25:08.093169Z",
     "start_time": "2025-09-19T13:25:03.858969Z"
    }
   },
   "cell_type": "code",
   "source": [
    "# ## 1) Загрузка индексов и memmap\n",
    "\n",
    "# Загружаем словари id → индекс в меммапе\n",
    "with open(Q_INDEX, \"r\", encoding=\"utf-8\") as f:\n",
    "    q_id2idx = json.load(f)  # ключи JSON — строки\n",
    "with open(I_INDEX, \"r\", encoding=\"utf-8\") as f:\n",
    "    i_id2idx = json.load(f)"
   ],
   "id": "ec958d4d38fbb3b3",
   "outputs": [],
   "execution_count": 9
  },
  {
   "metadata": {
    "ExecuteTime": {
     "end_time": "2025-09-19T13:25:16.719742Z",
     "start_time": "2025-09-19T13:25:16.706175Z"
    }
   },
   "cell_type": "code",
   "source": [
    "# Создаём memmap массивы. Размер по первой оси = число ID в словаре.\n",
    "q_count = len(q_id2idx)\n",
    "i_count = len(i_id2idx)"
   ],
   "id": "29dcc3d15c8d1cd8",
   "outputs": [],
   "execution_count": 10
  },
  {
   "metadata": {
    "ExecuteTime": {
     "end_time": "2025-09-19T13:25:26.645340Z",
     "start_time": "2025-09-19T13:25:26.632742Z"
    }
   },
   "cell_type": "code",
   "source": [
    "q_mm = np.memmap(QUERY_MM, dtype=\"float16\", mode=\"r\", shape=(q_count, EMB_DIM))\n",
    "i_mm = np.memmap(ITEM_MM,  dtype=\"float16\", mode=\"r\", shape=(i_count, EMB_DIM))\n",
    "\n",
    "print(f\"[memmap] queries: shape=({q_count},{EMB_DIM}), dtype=float16\")\n",
    "print(f\"[memmap] items:   shape=({i_count},{EMB_DIM}), dtype=float16\")"
   ],
   "id": "1965f45255f124bd",
   "outputs": [
    {
     "name": "stdout",
     "output_type": "stream",
     "text": [
      "[memmap] queries: shape=(690695,384), dtype=float16\n",
      "[memmap] items:   shape=(5986464,384), dtype=float16\n"
     ]
    }
   ],
   "execution_count": 11
  },
  {
   "metadata": {
    "ExecuteTime": {
     "end_time": "2025-09-19T13:25:54.129955Z",
     "start_time": "2025-09-19T13:25:54.116446Z"
    }
   },
   "cell_type": "code",
   "source": [
    "# ## 2) Утилиты: маппинг id→вектора и вычисление косинусов\n",
    "\n",
    "def _lookup_indices(ids: List[int], id2idx: dict) -> np.ndarray:\n",
    "    \"\"\"\n",
    "    Преобразует список числовых id в индексы меммапа.\n",
    "    Если id не найден, кладём -1 — обработаем отдельно.\n",
    "    \"\"\"\n",
    "    # JSON-ключи — строки\n",
    "    out = np.fromiter((id2idx.get(str(x), -1) for x in ids), dtype=np.int64, count=len(ids))\n",
    "    return out\n",
    "\n",
    "def _fetch_vectors(mm: np.memmap, idxs: np.ndarray) -> np.ndarray:\n",
    "    \"\"\"\n",
    "    Достаёт вектора из memmap по индексам. Для idx=-1 возвращает нулевой вектор.\n",
    "    Возвращает float32 матрицу (для точности в dot).\n",
    "    \"\"\"\n",
    "    n = len(idxs)\n",
    "    # Инициализируем нулями (на случай -1)\n",
    "    out = np.zeros((n, mm.shape[1]), dtype=np.float32)\n",
    "    mask = idxs >= 0\n",
    "    if mask.any():\n",
    "        out[mask] = mm[idxs[mask]].astype(np.float32)  # float16 -> float32\n",
    "    return out\n",
    "\n",
    "def cosine_from_normalized(Q: np.ndarray, T: np.ndarray) -> np.ndarray:\n",
    "    \"\"\"\n",
    "    Косинусы для L2-норм. векторов: cos = sum(Q*T, axis=1)\n",
    "    \"\"\"\n",
    "    return (Q * T).sum(axis=1, dtype=np.float32)\n",
    "\n",
    "def compute_chunk_cos(df: pl.DataFrame) -> pl.DataFrame:\n",
    "    \"\"\"\n",
    "    Получает DataFrame с колонками [query_id, item_id] и возвращает тот же + cos_q_title.\n",
    "    \"\"\"\n",
    "    qids = df.get_column(\"query_id\").to_list()\n",
    "    iids = df.get_column(\"item_id\").to_list()\n",
    "\n",
    "    qidx = _lookup_indices(qids, q_id2idx)\n",
    "    iidx = _lookup_indices(iids, i_id2idx)\n",
    "\n",
    "    Q = _fetch_vectors(q_mm, qidx)  # (n, d) float32\n",
    "    T = _fetch_vectors(i_mm, iidx)  # (n, d) float32\n",
    "\n",
    "    cos = cosine_from_normalized(Q, T)  # (n,)\n",
    "    return df.with_columns(pl.Series(\"cos_q_title\", cos))"
   ],
   "id": "d8fb7ec862b366c1",
   "outputs": [],
   "execution_count": 12
  },
  {
   "metadata": {
    "ExecuteTime": {
     "end_time": "2025-09-19T13:26:13.809160Z",
     "start_time": "2025-09-19T13:26:13.795651Z"
    }
   },
   "cell_type": "code",
   "source": [
    "# ## 3) Проход по train/test чанками и сохранение\n",
    "\n",
    "def make_cos_parquet(in_path: str, out_path: str, chunk_rows: int = CHUNK_ROWS) -> str:\n",
    "    \"\"\"\n",
    "    Сканирует parquet (только query_id, item_id), батчит, считает косинусы, складывает в один parquet.\n",
    "    \"\"\"\n",
    "    lf = pl.scan_parquet(in_path).select([\"query_id\", \"item_id\"])\n",
    "    n_rows = lf.select(pl.len()).collect().item()\n",
    "    print(f\"[run] {os.path.basename(in_path)} rows={n_rows}, chunk_rows={chunk_rows}\")\n",
    "\n",
    "    parts: list[pl.DataFrame] = []\n",
    "    processed = 0\n",
    "\n",
    "    with tqdm(total=n_rows, desc=f\"cosine [{os.path.basename(in_path)}]\") as pbar:\n",
    "        for offset in range(0, n_rows, chunk_rows):\n",
    "            length = min(chunk_rows, n_rows - offset)\n",
    "            part = lf.slice(offset, length).collect()  # только 2 колонки\n",
    "            part_out = compute_chunk_cos(part)         # добавили cos_q_title\n",
    "            parts.append(part_out)\n",
    "            processed += length\n",
    "            pbar.update(length)\n",
    "\n",
    "    out_df = pl.concat(parts, how=\"vertical\")\n",
    "    out_df.write_parquet(out_path, compression=\"zstd\")\n",
    "    print(f\"[done] saved {out_path} shape={out_df.shape}\")\n",
    "    return out_path"
   ],
   "id": "62c92b25ace53fb",
   "outputs": [],
   "execution_count": 13
  },
  {
   "metadata": {
    "ExecuteTime": {
     "end_time": "2025-09-19T13:29:05.790571Z",
     "start_time": "2025-09-19T13:26:32.008022Z"
    }
   },
   "cell_type": "code",
   "source": [
    "# ## 4) Запуск\n",
    "\n",
    "_ = make_cos_parquet(TRAIN_PATH, TRAIN_COS_OUT, chunk_rows=CHUNK_ROWS)\n",
    "_ = make_cos_parquet(TEST_PATH, TEST_COS_OUT, chunk_rows=max(200_000, CHUNK_ROWS // 4))"
   ],
   "id": "6b532f2a420fb6fc",
   "outputs": [
    {
     "name": "stdout",
     "output_type": "stream",
     "text": [
      "[run] train-dset.parquet rows=7781790, chunk_rows=2000000\n"
     ]
    },
    {
     "name": "stderr",
     "output_type": "stream",
     "text": [
      "cosine [train-dset.parquet]: 100%|██████████| 7781790/7781790 [02:31<00:00, 51347.29it/s]\n"
     ]
    },
    {
     "name": "stdout",
     "output_type": "stream",
     "text": [
      "[done] saved train_cos.parquet shape=(7781790, 3)\n",
      "[run] test-dset-small.parquet rows=335348, chunk_rows=500000\n"
     ]
    },
    {
     "name": "stderr",
     "output_type": "stream",
     "text": [
      "cosine [test-dset-small.parquet]: 100%|██████████| 335348/335348 [00:01<00:00, 251842.37it/s]"
     ]
    },
    {
     "name": "stdout",
     "output_type": "stream",
     "text": [
      "[done] saved test_cos.parquet shape=(335348, 3)\n"
     ]
    },
    {
     "name": "stderr",
     "output_type": "stream",
     "text": [
      "\n"
     ]
    }
   ],
   "execution_count": 14
  },
  {
   "metadata": {
    "ExecuteTime": {
     "end_time": "2025-09-19T13:40:21.757179Z",
     "start_time": "2025-09-19T13:40:21.714792Z"
    }
   },
   "cell_type": "code",
   "source": [
    "import polars as pl\n",
    "import numpy as np\n",
    "\n",
    "# 1) Загрузим исходные пары и результат\n",
    "train_pairs = pl.scan_parquet(TRAIN_PATH).select([\"query_id\",\"item_id\"]).collect(streaming=True)\n",
    "test_pairs  = pl.scan_parquet(TEST_PATH ).select([\"query_id\",\"item_id\"]).collect(streaming=True)"
   ],
   "id": "bf3e3f186c460018",
   "outputs": [
    {
     "name": "stderr",
     "output_type": "stream",
     "text": [
      "C:\\Users\\idine\\AppData\\Local\\Temp\\ipykernel_8476\\3207270212.py:5: DeprecationWarning: the `streaming` parameter was deprecated in 1.25.0; use `engine` instead.\n",
      "  train_pairs = pl.scan_parquet(TRAIN_PATH).select([\"query_id\",\"item_id\"]).collect(streaming=True)\n",
      "C:\\Users\\idine\\AppData\\Local\\Temp\\ipykernel_8476\\3207270212.py:6: DeprecationWarning: the `streaming` parameter was deprecated in 1.25.0; use `engine` instead.\n",
      "  test_pairs  = pl.scan_parquet(TEST_PATH ).select([\"query_id\",\"item_id\"]).collect(streaming=True)\n"
     ]
    }
   ],
   "execution_count": 15
  },
  {
   "metadata": {
    "ExecuteTime": {
     "end_time": "2025-09-19T13:40:23.013145Z",
     "start_time": "2025-09-19T13:40:22.950160Z"
    }
   },
   "cell_type": "code",
   "source": [
    "train_cos = pl.read_parquet(TRAIN_COS_OUT)\n",
    "test_cos  = pl.read_parquet(TEST_COS_OUT)\n",
    "\n",
    "print(\"[shape] rows (pairs) train orig vs cos:\", train_pairs.height, train_cos.height)\n",
    "print(\"[shape] rows (pairs) test  orig vs cos:\", test_pairs.height,  test_cos.height)"
   ],
   "id": "475c6ec702316f5d",
   "outputs": [
    {
     "name": "stdout",
     "output_type": "stream",
     "text": [
      "[shape] rows (pairs) train orig vs cos: 7781790 7781790\n",
      "[shape] rows (pairs) test  orig vs cos: 335348 335348\n"
     ]
    }
   ],
   "execution_count": 16
  },
  {
   "metadata": {
    "ExecuteTime": {
     "end_time": "2025-09-19T13:40:24.303582Z",
     "start_time": "2025-09-19T13:40:23.575129Z"
    }
   },
   "cell_type": "code",
   "source": [
    "# 2) Проверим на дубликаты в результатах\n",
    "dup_train = (train_cos.group_by([\"query_id\",\"item_id\"])\n",
    "             .agg(pl.len().alias(\"cnt\")).filter(pl.col(\"cnt\")>1))\n",
    "dup_test  = (test_cos.group_by([\"query_id\",\"item_id\"])\n",
    "             .agg(pl.len().alias(\"cnt\")).filter(pl.col(\"cnt\")>1))\n",
    "\n",
    "print(\"[dups] train duplicates:\", dup_train.height)\n",
    "print(\"[dups] test  duplicates:\", dup_test.height)\n"
   ],
   "id": "adb7ca3ee4c9f7d9",
   "outputs": [
    {
     "name": "stdout",
     "output_type": "stream",
     "text": [
      "[dups] train duplicates: 0\n",
      "[dups] test  duplicates: 0\n"
     ]
    }
   ],
   "execution_count": 17
  },
  {
   "metadata": {
    "ExecuteTime": {
     "end_time": "2025-09-19T13:40:25.628543Z",
     "start_time": "2025-09-19T13:40:24.554747Z"
    }
   },
   "cell_type": "code",
   "source": [
    "# 3) Анти-джойны: чего не хватило / лишнее\n",
    "miss_train = train_pairs.join(train_cos, on=[\"query_id\",\"item_id\"], how=\"anti\")\n",
    "miss_test  = test_pairs.join(test_cos,  on=[\"query_id\",\"item_id\"], how=\"anti\")\n",
    "\n",
    "extra_train = train_cos.select([\"query_id\",\"item_id\"]).join(train_pairs, on=[\"query_id\",\"item_id\"], how=\"anti\")\n",
    "extra_test  = test_cos.select([\"query_id\",\"item_id\"]).join(test_pairs,  on=[\"query_id\",\"item_id\"],  how=\"anti\")\n",
    "\n",
    "print(\"[missing] train pairs without cos:\", miss_train.height)\n",
    "print(\"[missing] test  pairs without cos:\", miss_test.height)\n",
    "print(\"[extra]   train cos rows w/o source pair:\", extra_train.height)\n",
    "print(\"[extra]   test  cos rows w/o source pair:\",  extra_test.height)"
   ],
   "id": "9889ecf5ac2a8a37",
   "outputs": [
    {
     "name": "stdout",
     "output_type": "stream",
     "text": [
      "[missing] train pairs without cos: 0\n",
      "[missing] test  pairs without cos: 0\n",
      "[extra]   train cos rows w/o source pair: 0\n",
      "[extra]   test  cos rows w/o source pair: 0\n"
     ]
    }
   ],
   "execution_count": 18
  },
  {
   "metadata": {
    "ExecuteTime": {
     "end_time": "2025-09-19T13:40:25.953496Z",
     "start_time": "2025-09-19T13:40:25.911467Z"
    }
   },
   "cell_type": "code",
   "source": [
    "# 4) NaN / inf / диапазон косинуса\n",
    "def cos_checks(df: pl.DataFrame, name: str):\n",
    "    s = df.get_column(\"cos_q_title\")\n",
    "    nan_cnt = int(s.is_nan().sum())\n",
    "    null_cnt = int(s.is_null().sum())\n",
    "    inf_cnt = int((~s.is_finite()).sum())\n",
    "    min_v = float(s.min())\n",
    "    max_v = float(s.max())\n",
    "    out_of_range = int(((s < -1.0001) | (s > 1.0001)).sum())\n",
    "    print(f\"[cos] {name}: NaN={nan_cnt}, NULL={null_cnt}, non-finite={inf_cnt}, \"\n",
    "          f\"min={min_v:.4f}, max={max_v:.4f}, out_of_range={out_of_range}\")\n",
    "\n",
    "cos_checks(train_cos, \"train\")\n",
    "cos_checks(test_cos,  \"test\")"
   ],
   "id": "34c1f2b54b4ee9c",
   "outputs": [
    {
     "name": "stdout",
     "output_type": "stream",
     "text": [
      "[cos] train: NaN=0, NULL=0, non-finite=0, min=0.6754, max=0.9851, out_of_range=0\n",
      "[cos] test: NaN=0, NULL=0, non-finite=0, min=0.6991, max=0.9792, out_of_range=0\n"
     ]
    }
   ],
   "execution_count": 19
  },
  {
   "metadata": {
    "ExecuteTime": {
     "end_time": "2025-09-19T13:40:26.062128Z",
     "start_time": "2025-09-19T13:40:25.972982Z"
    }
   },
   "cell_type": "code",
   "source": [
    "# 5) Быстрый sanity-check распределения\n",
    "print(train_cos.select([\n",
    "    pl.col(\"cos_q_title\").quantile(0.01).alias(\"p01\"),\n",
    "    pl.col(\"cos_q_title\").quantile(0.50).alias(\"p50\"),\n",
    "    pl.col(\"cos_q_title\").quantile(0.99).alias(\"p99\"),\n",
    "]).with_columns(pl.lit(\"train\").alias(\"set\")))\n",
    "print(test_cos.select([\n",
    "    pl.col(\"cos_q_title\").quantile(0.01).alias(\"p01\"),\n",
    "    pl.col(\"cos_q_title\").quantile(0.50).alias(\"p50\"),\n",
    "    pl.col(\"cos_q_title\").quantile(0.99).alias(\"p99\"),\n",
    "]).with_columns(pl.lit(\"test\").alias(\"set\")))"
   ],
   "id": "d74305c5531f2bc",
   "outputs": [
    {
     "name": "stdout",
     "output_type": "stream",
     "text": [
      "shape: (1, 4)\n",
      "┌─────────┬──────────┬──────────┬───────┐\n",
      "│ p01     ┆ p50      ┆ p99      ┆ set   │\n",
      "│ ---     ┆ ---      ┆ ---      ┆ ---   │\n",
      "│ f32     ┆ f32      ┆ f32      ┆ str   │\n",
      "╞═════════╪══════════╪══════════╪═══════╡\n",
      "│ 0.76231 ┆ 0.871206 ┆ 0.949097 ┆ train │\n",
      "└─────────┴──────────┴──────────┴───────┘\n",
      "shape: (1, 4)\n",
      "┌──────────┬──────────┬──────────┬──────┐\n",
      "│ p01      ┆ p50      ┆ p99      ┆ set  │\n",
      "│ ---      ┆ ---      ┆ ---      ┆ ---  │\n",
      "│ f32      ┆ f32      ┆ f32      ┆ str  │\n",
      "╞══════════╪══════════╪══════════╪══════╡\n",
      "│ 0.766594 ┆ 0.870807 ┆ 0.948584 ┆ test │\n",
      "└──────────┴──────────┴──────────┴──────┘\n"
     ]
    }
   ],
   "execution_count": 20
  },
  {
   "metadata": {
    "ExecuteTime": {
     "end_time": "2025-09-19T13:40:27.028441Z",
     "start_time": "2025-09-19T13:40:26.769424Z"
    }
   },
   "cell_type": "code",
   "source": [
    "# 6) (опц.) Проверим, что все уникальные id покрыты\n",
    "def coverage(orig: pl.DataFrame, cos: pl.DataFrame, name: str):\n",
    "    uq_q_orig = int(orig.select(pl.col(\"query_id\").n_unique()).item())\n",
    "    uq_i_orig = int(orig.select(pl.col(\"item_id\").n_unique()).item())\n",
    "    uq_q_cos  = int(cos.select(pl.col(\"query_id\").n_unique()).item())\n",
    "    uq_i_cos  = int(cos.select(pl.col(\"item_id\").n_unique()).item())\n",
    "    print(f\"[uniq] {name}: queries orig/cos = {uq_q_orig}/{uq_q_cos}, items orig/cos = {uq_i_orig}/{uq_i_cos}\")\n",
    "\n",
    "coverage(train_pairs, train_cos, \"train\")\n",
    "coverage(test_pairs,  test_cos,  \"test\")"
   ],
   "id": "674a24411e80b7aa",
   "outputs": [
    {
     "name": "stdout",
     "output_type": "stream",
     "text": [
      "[uniq] train: queries orig/cos = 678190/678190, items orig/cos = 5773058/5773058\n",
      "[uniq] test: queries orig/cos = 12505/12505, items orig/cos = 321625/321625\n"
     ]
    }
   ],
   "execution_count": 21
  },
  {
   "metadata": {
    "ExecuteTime": {
     "end_time": "2025-09-19T13:40:31.615435Z",
     "start_time": "2025-09-19T13:40:31.600925Z"
    }
   },
   "cell_type": "code",
   "source": [
    "# 7) Покажем примеры, если что-то потерялось\n",
    "if miss_train.height > 0:\n",
    "    print(\"[sample missing train]:\")\n",
    "    print(miss_train.head(5))\n",
    "if miss_test.height > 0:\n",
    "    print(\"[sample missing test]:\")\n",
    "    print(miss_test.head(5))\n",
    "if dup_train.height > 0:\n",
    "    print(\"[sample duplicate train]:\")\n",
    "    print(dup_train.head(5))\n",
    "if dup_test.height > 0:\n",
    "    print(\"[sample duplicate test]:\")\n",
    "    print(dup_test.head(5))"
   ],
   "id": "c3c972c9e6554c8c",
   "outputs": [],
   "execution_count": 22
  },
  {
   "metadata": {},
   "cell_type": "code",
   "outputs": [],
   "execution_count": null,
   "source": "",
   "id": "6b95eadbdc1ed6d2"
  }
 ],
 "metadata": {
  "kernelspec": {
   "display_name": "Python 3",
   "language": "python",
   "name": "python3"
  },
  "language_info": {
   "codemirror_mode": {
    "name": "ipython",
    "version": 2
   },
   "file_extension": ".py",
   "mimetype": "text/x-python",
   "name": "python",
   "nbconvert_exporter": "python",
   "pygments_lexer": "ipython2",
   "version": "2.7.6"
  }
 },
 "nbformat": 4,
 "nbformat_minor": 5
}
