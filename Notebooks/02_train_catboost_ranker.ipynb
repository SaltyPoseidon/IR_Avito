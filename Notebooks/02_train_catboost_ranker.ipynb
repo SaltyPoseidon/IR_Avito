{
 "cells": [
  {
   "cell_type": "code",
   "id": "initial_id",
   "metadata": {
    "collapsed": true,
    "ExecuteTime": {
     "end_time": "2025-09-19T20:05:22.290366Z",
     "start_time": "2025-09-19T20:05:21.098010Z"
    }
   },
   "source": [
    "# CatBoost Ranker (YetiRankPairwise) — CV, GPU, прогресс, OOF/Test сохранение\n",
    "\n",
    "import os\n",
    "import numpy as np\n",
    "import polars as pl\n",
    "from typing import List\n",
    "from tqdm.auto import tqdm\n",
    "\n",
    "from catboost import CatBoostRanker, Pool\n",
    "from sklearn.model_selection import GroupKFold\n"
   ],
   "outputs": [
    {
     "name": "stderr",
     "output_type": "stream",
     "text": [
      "C:\\Users\\idine\\PycharmProjects\\Avito_Test\\.venv\\lib\\site-packages\\tqdm\\auto.py:21: TqdmWarning: IProgress not found. Please update jupyter and ipywidgets. See https://ipywidgets.readthedocs.io/en/stable/user_install.html\n",
      "  from .autonotebook import tqdm as notebook_tqdm\n"
     ]
    }
   ],
   "execution_count": 1
  },
  {
   "metadata": {
    "ExecuteTime": {
     "end_time": "2025-09-19T20:05:22.306386Z",
     "start_time": "2025-09-19T20:05:22.294365Z"
    }
   },
   "cell_type": "code",
   "source": [
    "SEED = 42\n",
    "np.random.seed(SEED)\n",
    "\n",
    "BASE_DIR = os.path.dirname(os.getcwd())\n",
    "DATA_DIR = os.path.join(BASE_DIR, \"Data\")\n",
    "TRAIN_FEATS_PATH = os.path.join(DATA_DIR, \"train_feats.parquet\")\n",
    "TEST_FEATS_PATH  = os.path.join(DATA_DIR, \"test_feats.parquet\")\n"
   ],
   "id": "33eb91d0732b8109",
   "outputs": [],
   "execution_count": 2
  },
  {
   "metadata": {
    "ExecuteTime": {
     "end_time": "2025-09-19T20:05:22.321572Z",
     "start_time": "2025-09-19T20:05:22.309883Z"
    }
   },
   "cell_type": "code",
   "source": [
    "OUT_DIR = \"out_cat\"\n",
    "os.makedirs(OUT_DIR, exist_ok=True)\n",
    "\n",
    "TARGET = \"item_contact\"\n",
    "GROUP  = \"query_id\"\n",
    "ID_COLS = [\"query_id\", \"item_id\"]\n"
   ],
   "id": "2d92b41bc7068587",
   "outputs": [],
   "execution_count": 3
  },
  {
   "metadata": {
    "ExecuteTime": {
     "end_time": "2025-09-19T20:05:22.336822Z",
     "start_time": "2025-09-19T20:05:22.325565Z"
    }
   },
   "cell_type": "code",
   "source": [
    "assert os.path.exists(TRAIN_FEATS_PATH), TRAIN_FEATS_PATH\n",
    "assert os.path.exists(TEST_FEATS_PATH),  TEST_FEATS_PATH"
   ],
   "id": "c060241af207fbba",
   "outputs": [],
   "execution_count": 4
  },
  {
   "metadata": {
    "ExecuteTime": {
     "end_time": "2025-09-19T20:05:25.226118Z",
     "start_time": "2025-09-19T20:05:22.356298Z"
    }
   },
   "cell_type": "code",
   "source": [
    "train_feats = pl.read_parquet(TRAIN_FEATS_PATH)\n",
    "test_feats  = pl.read_parquet(TEST_FEATS_PATH)"
   ],
   "id": "299aacb02a97de49",
   "outputs": [],
   "execution_count": 5
  },
  {
   "metadata": {
    "ExecuteTime": {
     "end_time": "2025-09-19T20:05:25.302676Z",
     "start_time": "2025-09-19T20:05:25.293189Z"
    }
   },
   "cell_type": "code",
   "source": [
    "print(\"[load] train_feats:\", train_feats.shape)\n",
    "print(\"[load] test_feats :\", test_feats.shape)\n"
   ],
   "id": "451608bf07dfdc7a",
   "outputs": [
    {
     "name": "stdout",
     "output_type": "stream",
     "text": [
      "[load] train_feats: (7781790, 60)\n",
      "[load] test_feats : (335348, 59)\n"
     ]
    }
   ],
   "execution_count": 6
  },
  {
   "metadata": {
    "ExecuteTime": {
     "end_time": "2025-09-19T20:05:25.318250Z",
     "start_time": "2025-09-19T20:05:25.309373Z"
    }
   },
   "cell_type": "code",
   "source": [
    "# 2) Фичи — тот же набор, что у тебя (подхватываем только существующие)\n",
    "\n",
    "FEATURES = [\n",
    "    # эмбеддинги\n",
    "    \"cos_q_title\",\n",
    "\n",
    "    # тексты\n",
    "    \"query_len\",\"title_len\",\"abs_len_diff\",\n",
    "    \"ratio_overlap_title\",\n",
    "    \"title_contains_query\",\"has_query_text\",\"has_title\",\n",
    "\n",
    "    # категории/локации\n",
    "    \"same_cat\",\"same_mcat\",\"same_loc\",\"same_cat_loc\",\"triple_match\",\n",
    "    \"freq_item_cat\",\"freq_item_mcat\",\"freq_item_loc\",\n",
    "\n",
    "    # цена\n",
    "    \"price_clip\",\"price_log1p\",\"price_rank_in_query\",\"price_z_in_query\",\n",
    "    \"price_is_zero\",\"price_vs_median_query\",\n",
    "\n",
    "    # поведенческие\n",
    "    \"conv_known\",\"conv_filled\",\"conv_z_in_query\",\"conv_rank_in_query\",\n",
    "\n",
    "    # групповые\n",
    "    \"n_items_in_query\",\n",
    "\n",
    "    # интеракции\n",
    "    \"same_cat__cos\",\"same_loc__cos\",\"conv__cos\",\"conv__same_loc\",\"price_rank__same_loc\",\n",
    "]\n"
   ],
   "id": "7699ea7964f1385",
   "outputs": [],
   "execution_count": 7
  },
  {
   "metadata": {
    "ExecuteTime": {
     "end_time": "2025-09-19T20:05:25.333624Z",
     "start_time": "2025-09-19T20:05:25.323460Z"
    }
   },
   "cell_type": "code",
   "source": [
    "FEATURES = [c for c in FEATURES if c in train_feats.columns]\n",
    "FEATURES = list(dict.fromkeys(FEATURES))\n",
    "print(f\"[features] using {len(FEATURES)} columns\")"
   ],
   "id": "ed95f360fa591a33",
   "outputs": [
    {
     "name": "stdout",
     "output_type": "stream",
     "text": [
      "[features] using 32 columns\n"
     ]
    }
   ],
   "execution_count": 8
  },
  {
   "metadata": {
    "ExecuteTime": {
     "end_time": "2025-09-19T20:05:25.349370Z",
     "start_time": "2025-09-19T20:05:25.343874Z"
    }
   },
   "cell_type": "code",
   "source": [
    "SAFE_EXCLUDE = {TARGET, GROUP, *ID_COLS}\n",
    "\n",
    "def sanitize_features(df: pl.DataFrame, features: list[str]) -> pl.DataFrame:\n",
    "    # санитизируем только фичи, без таргета/группы/идентификаторов\n",
    "    cols = [c for c in features if c in df.columns and c not in SAFE_EXCLUDE]\n",
    "\n",
    "    exprs = []\n",
    "    for c in cols:\n",
    "        dt = df.schema[c]\n",
    "        if dt in (pl.Float32, pl.Float64):\n",
    "            exprs.append(\n",
    "                pl.when(pl.col(c).is_finite()).then(pl.col(c)).otherwise(0.0)\n",
    "                  .fill_null(0.0).cast(pl.Float32).alias(c)\n",
    "            )\n",
    "        elif dt == pl.Boolean:\n",
    "            exprs.append(pl.col(c).cast(pl.Int8).fill_null(0).alias(c))\n",
    "        elif dt.is_integer():\n",
    "            exprs.append(pl.col(c).fill_null(0).alias(c))\n",
    "        else:\n",
    "            exprs.append(pl.col(c).cast(pl.Float32).fill_null(0.0).alias(c))\n",
    "    return df.with_columns(exprs)"
   ],
   "id": "aab35781117266ca",
   "outputs": [],
   "execution_count": 9
  },
  {
   "metadata": {
    "ExecuteTime": {
     "end_time": "2025-09-19T20:05:25.442997Z",
     "start_time": "2025-09-19T20:05:25.352588Z"
    }
   },
   "cell_type": "code",
   "source": [
    "# 1) санитизируем только FEATURES\n",
    "train_feats = sanitize_features(train_feats, FEATURES)\n",
    "test_feats  = sanitize_features(test_feats,  FEATURES)\n",
    "\n",
    "# 2) служебные колонки – только fill_null, без кастов/alias, и строго один раз\n",
    "if TARGET in train_feats.columns:\n",
    "    train_feats = train_feats.with_columns(pl.col(TARGET).fill_null(0))\n",
    "if GROUP in train_feats.columns:\n",
    "    train_feats = train_feats.with_columns(pl.col(GROUP).fill_null(0))\n",
    "\n",
    "for c in ID_COLS:\n",
    "    if c in train_feats.columns:\n",
    "        train_feats = train_feats.with_columns(pl.col(c).fill_null(0))\n",
    "    if c in test_feats.columns:\n",
    "        test_feats = test_feats.with_columns(pl.col(c).fill_null(0))\n"
   ],
   "id": "719d4d004866c4a0",
   "outputs": [],
   "execution_count": 10
  },
  {
   "metadata": {
    "ExecuteTime": {
     "end_time": "2025-09-19T20:05:25.522404Z",
     "start_time": "2025-09-19T20:05:25.446998Z"
    }
   },
   "cell_type": "code",
   "source": [
    "# 1) санитизируем только FEATURES\n",
    "train_feats = sanitize_features(train_feats, FEATURES)\n",
    "test_feats  = sanitize_features(test_feats,  FEATURES)\n",
    "\n",
    "# 2) служебные колонки – только fill_null, без кастов/alias, и строго один раз\n",
    "if TARGET in train_feats.columns:\n",
    "    train_feats = train_feats.with_columns(pl.col(TARGET).fill_null(0))\n",
    "if GROUP in train_feats.columns:\n",
    "    train_feats = train_feats.with_columns(pl.col(GROUP).fill_null(0))\n",
    "\n",
    "for c in ID_COLS:\n",
    "    if c in train_feats.columns:\n",
    "        train_feats = train_feats.with_columns(pl.col(c).fill_null(0))\n",
    "    if c in test_feats.columns:\n",
    "        test_feats = test_feats.with_columns(pl.col(c).fill_null(0))\n"
   ],
   "id": "4e08fee6ae6f6889",
   "outputs": [],
   "execution_count": 11
  },
  {
   "metadata": {
    "ExecuteTime": {
     "end_time": "2025-09-19T20:05:25.538417Z",
     "start_time": "2025-09-19T20:05:25.526911Z"
    }
   },
   "cell_type": "code",
   "source": [
    "bad = [c for c in FEATURES if c in {TARGET, GROUP, *ID_COLS}]\n",
    "if bad:\n",
    "    print(\"[warn] service columns accidentally in FEATURES:\", bad)\n"
   ],
   "id": "a59adab602c9247b",
   "outputs": [],
   "execution_count": 12
  },
  {
   "metadata": {
    "ExecuteTime": {
     "end_time": "2025-09-19T20:05:25.553431Z",
     "start_time": "2025-09-19T20:05:25.541925Z"
    }
   },
   "cell_type": "code",
   "source": [
    "def prepare_matrix(df: pl.DataFrame, features: List[str]) -> np.ndarray:\n",
    "    return df.select([pl.col(c).cast(pl.Float32) for c in features]).to_numpy()"
   ],
   "id": "275eec458f363c25",
   "outputs": [],
   "execution_count": 13
  },
  {
   "metadata": {
    "ExecuteTime": {
     "end_time": "2025-09-19T20:05:25.770059Z",
     "start_time": "2025-09-19T20:05:25.557430Z"
    }
   },
   "cell_type": "code",
   "source": [
    "X = prepare_matrix(train_feats, FEATURES)\n",
    "y = train_feats[TARGET].to_numpy()\n",
    "g = train_feats[GROUP].to_numpy()\n",
    "X_test = prepare_matrix(test_feats, FEATURES)"
   ],
   "id": "3fd56e6fc8517a26",
   "outputs": [],
   "execution_count": 14
  },
  {
   "metadata": {
    "ExecuteTime": {
     "end_time": "2025-09-19T20:05:25.786074Z",
     "start_time": "2025-09-19T20:05:25.776567Z"
    }
   },
   "cell_type": "code",
   "source": "print(\"[matrix] X:\", X.shape, \"y:\", y.shape, \"X_test:\", X_test.shape)",
   "id": "c569fe92009f5d95",
   "outputs": [
    {
     "name": "stdout",
     "output_type": "stream",
     "text": [
      "[matrix] X: (7781790, 32) y: (7781790,) X_test: (335348, 32)\n"
     ]
    }
   ],
   "execution_count": 15
  },
  {
   "metadata": {
    "ExecuteTime": {
     "end_time": "2025-09-19T20:05:27.198820Z",
     "start_time": "2025-09-19T20:05:25.807370Z"
    }
   },
   "cell_type": "code",
   "source": [
    "# 4) CV сплит по query_id (GroupKFold)\n",
    "\n",
    "N_FOLDS = 5\n",
    "gkf = GroupKFold(n_splits=N_FOLDS)\n",
    "folds = [(tr_idx, va_idx) for tr_idx, va_idx in gkf.split(X, y, groups=g)]"
   ],
   "id": "f09043fbbc119d25",
   "outputs": [],
   "execution_count": 16
  },
  {
   "metadata": {
    "ExecuteTime": {
     "start_time": "2025-09-19T20:05:27.217943Z"
    }
   },
   "cell_type": "code",
   "source": [
    "# быстрые параметры\n",
    "cat_params_fast = dict(\n",
    "    loss_function=\"YetiRankPairwise\",\n",
    "    task_type=\"GPU\", devices=\"0\",\n",
    "    iterations=1200,               # короче\n",
    "    learning_rate=0.12,            # быстрее сходимость\n",
    "    depth=6,\n",
    "    l2_leaf_reg=6.0,\n",
    "    random_seed=SEED,\n",
    "    verbose=False,                  # без CPU-метрик\n",
    ")\n",
    "\n",
    "oof_cat = np.zeros(len(y), dtype=np.float32)\n",
    "test_pred_cat = np.zeros(len(X_test), dtype=np.float32)\n",
    "\n",
    "for fold,(tr_idx,va_idx) in enumerate(folds,1):\n",
    "    tr_sorted = tr_idx[np.argsort(g[tr_idx], kind=\"mergesort\")]\n",
    "    va_sorted = va_idx[np.argsort(g[va_idx], kind=\"mergesort\")]\n",
    "\n",
    "    pool_tr = Pool(X[tr_sorted], y[tr_sorted], group_id=g[tr_sorted], feature_names=FEATURES)\n",
    "    # без eval_set — сильно быстрее\n",
    "    model_cat = CatBoostRanker(**cat_params_fast)\n",
    "    model_cat.fit(pool_tr)\n",
    "\n",
    "    # OOF предсказания\n",
    "    pool_va = Pool(X[va_sorted], group_id=g[va_sorted], feature_names=FEATURES)\n",
    "    oof_cat[va_sorted] = model_cat.predict(pool_va)\n",
    "\n",
    "    # test (можно без сортировки, но на всякий — быстро отсортируем/вернём порядок)\n",
    "    order_test = np.argsort(test_feats[GROUP].to_numpy(), kind=\"mergesort\")\n",
    "    inv = np.empty_like(order_test); inv[order_test] = np.arange(len(order_test))\n",
    "    test_pool_sorted = Pool(X_test[order_test],\n",
    "                            group_id=test_feats[GROUP].to_numpy()[order_test],\n",
    "                            feature_names=FEATURES)\n",
    "    pred_sorted = model_cat.predict(test_pool_sorted)\n",
    "    test_pred_cat += pred_sorted[inv] / N_FOLDS\n"
   ],
   "id": "983053f14123c3c3",
   "outputs": [
    {
     "name": "stderr",
     "output_type": "stream",
     "text": [
      "Default metric period is 5 because PFound is/are not implemented for GPU\n",
      "Metric PFound is not implemented on GPU. Will use CPU for metric computation, this could significantly affect learning time\n",
      "Metric PFound is not implemented on GPU. Will use CPU for metric computation, this could significantly affect learning time\n"
     ]
    }
   ],
   "execution_count": null
  },
  {
   "metadata": {},
   "cell_type": "code",
   "outputs": [],
   "execution_count": null,
   "source": [
    "# 7) Сохранение артефактов для мета-модели\n",
    "\n",
    "oof_path = os.path.join(OUT_DIR, \"oof_cat.parquet\")\n",
    "test_path = os.path.join(OUT_DIR, \"test_pred_cat.parquet\")\n",
    "\n",
    "pl.DataFrame({\n",
    "    \"query_id\": train_feats[\"query_id\"],\n",
    "    \"item_id\": train_feats[\"item_id\"],\n",
    "    \"oof_cat\": oof_cat,\n",
    "}).write_parquet(oof_path)\n",
    "\n",
    "pl.DataFrame({\n",
    "    \"query_id\": test_feats[\"query_id\"],\n",
    "    \"item_id\": test_feats[\"item_id\"],\n",
    "    \"pred_cat\": test_pred_cat,\n",
    "}).write_parquet(test_path)\n",
    "\n",
    "print(\"[save]\", oof_path)\n",
    "print(\"[save]\", test_path)\n",
    "\n",
    "# 8) (опционально) Сабмит из CatBoost (если нужен сразу)\n",
    "\n",
    "DO_SUBMIT = True\n",
    "if DO_SUBMIT:\n",
    "    sub = (\n",
    "        test_feats.select(ID_COLS)\n",
    "        .with_columns(pl.Series(\"pred\", test_pred_cat))\n",
    "        .sort([\"query_id\", \"pred\"], descending=[False, True])\n",
    "        .select(ID_COLS)\n",
    "    )\n",
    "    sub_path = \"solution_catboost.csv\"\n",
    "    sub.write_csv(sub_path, include_header=True)\n",
    "    print(\"[save] submission ->\", sub_path)"
   ],
   "id": "42ab34e553e4c999"
  }
 ],
 "metadata": {
  "kernelspec": {
   "display_name": "Python 3",
   "language": "python",
   "name": "python3"
  },
  "language_info": {
   "codemirror_mode": {
    "name": "ipython",
    "version": 2
   },
   "file_extension": ".py",
   "mimetype": "text/x-python",
   "name": "python",
   "nbconvert_exporter": "python",
   "pygments_lexer": "ipython2",
   "version": "2.7.6"
  }
 },
 "nbformat": 4,
 "nbformat_minor": 5
}
