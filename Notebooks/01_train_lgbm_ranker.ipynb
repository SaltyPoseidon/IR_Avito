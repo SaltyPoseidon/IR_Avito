{
 "cells": [
  {
   "cell_type": "code",
   "id": "initial_id",
   "metadata": {
    "collapsed": true,
    "ExecuteTime": {
     "end_time": "2025-09-19T19:16:05.217112Z",
     "start_time": "2025-09-19T19:16:03.818311Z"
    }
   },
   "source": [
    "import os, json, polars as pl, numpy as np, lightgbm as lgb\n",
    "from sklearn.model_selection import GroupKFold\n",
    "from typing import List\n",
    "from tqdm.auto import tqdm\n",
    "from lightgbm.callback import CallbackEnv"
   ],
   "outputs": [
    {
     "name": "stderr",
     "output_type": "stream",
     "text": [
      "C:\\Users\\idine\\PycharmProjects\\Avito_Test\\.venv\\lib\\site-packages\\tqdm\\auto.py:21: TqdmWarning: IProgress not found. Please update jupyter and ipywidgets. See https://ipywidgets.readthedocs.io/en/stable/user_install.html\n",
      "  from .autonotebook import tqdm as notebook_tqdm\n"
     ]
    }
   ],
   "execution_count": 1
  },
  {
   "metadata": {
    "ExecuteTime": {
     "end_time": "2025-09-19T19:16:05.232288Z",
     "start_time": "2025-09-19T19:16:05.227628Z"
    }
   },
   "cell_type": "code",
   "source": [
    "SEED = 42\n",
    "np.random.seed(SEED)\n",
    "\n",
    "BASE_DIR = os.path.dirname(os.getcwd())\n",
    "DATA_DIR = os.path.join(BASE_DIR, \"Data\")\n",
    "TRAIN_FEATS_PATH = os.path.join(DATA_DIR, \"train_feats2.parquet\")\n",
    "TEST_FEATS_PATH  = os.path.join(DATA_DIR, \"test_feats2.parquet\")\n",
    "\n",
    "OUT_DIR = \"out_lgbm\"; os.makedirs(OUT_DIR, exist_ok=True)\n",
    "TARGET = \"item_contact\"; GROUP = \"query_id\"; ID_COLS = [\"query_id\",\"item_id\"]"
   ],
   "id": "4c41b409b3bb1d00",
   "outputs": [],
   "execution_count": 2
  },
  {
   "metadata": {
    "ExecuteTime": {
     "end_time": "2025-09-19T19:16:08.209289Z",
     "start_time": "2025-09-19T19:16:05.237145Z"
    }
   },
   "cell_type": "code",
   "source": [
    "assert os.path.exists(TRAIN_FEATS_PATH);\n",
    "assert os.path.exists(TEST_FEATS_PATH)\n",
    "train_feats = pl.read_parquet(TRAIN_FEATS_PATH)\n",
    "test_feats = pl.read_parquet(TEST_FEATS_PATH)\n",
    "print(\"[load] train_feats:\", train_feats.shape, \"| test_feats:\", test_feats.shape)"
   ],
   "id": "1768e2143a6e75e1",
   "outputs": [
    {
     "name": "stdout",
     "output_type": "stream",
     "text": [
      "[load] train_feats: (7781790, 72) | test_feats: (335348, 71)\n"
     ]
    }
   ],
   "execution_count": 3
  },
  {
   "metadata": {
    "ExecuteTime": {
     "end_time": "2025-09-19T19:16:08.288051Z",
     "start_time": "2025-09-19T19:16:08.278537Z"
    }
   },
   "cell_type": "code",
   "source": [
    "# ## 2) Описание набора фичей и колонок\n",
    "\n",
    "FEATURES = [\n",
    "    # эмбеддинги\n",
    "    \"cos_q_title\",\n",
    "\n",
    "    # тексты\n",
    "    \"query_len\", \"title_len\", \"abs_len_diff\",\n",
    "    \"overlap_q_title\", \"jaccard_q_title\", \"dice_q_title\", \"ratio_overlap_title\",\n",
    "    \"title_contains_query\", \"has_query_text\", \"has_title\",\n",
    "\n",
    "    # категории/локации\n",
    "    \"same_cat\", \"same_mcat\", \"same_loc\", \"same_cat_loc\", \"triple_match\",\n",
    "    \"freq_item_cat\", \"freq_item_mcat\", \"freq_item_loc\", \"is_query_mcat_missing\",\n",
    "\n",
    "    # цена\n",
    "    \"price_clip\", \"price_log1p\", \"price_rank_in_query\", \"price_z_in_query\", \"price_is_zero\", \"price_vs_median_query\",\n",
    "\n",
    "    # поведенческие\n",
    "    \"conv_known\", \"conv_filled\", \"conv_z_in_query\", \"conv_rank_in_query\",\n",
    "\n",
    "    # групповые\n",
    "    \"n_items_in_query\", \"max_cos_in_query\", \"cos_minus_max\",\n",
    "\n",
    "    # интеракции\n",
    "    \"same_cat__cos\", \"same_loc__cos\", \"conv__cos\", \"conv__same_loc\", \"price_rank__same_loc\",\n",
    "]"
   ],
   "id": "5a398620077ed420",
   "outputs": [],
   "execution_count": 4
  },
  {
   "metadata": {
    "ExecuteTime": {
     "end_time": "2025-09-19T19:16:08.303591Z",
     "start_time": "2025-09-19T19:16:08.292071Z"
    }
   },
   "cell_type": "code",
   "source": [
    "def sanitize_features(df: pl.DataFrame, features: list[str]) -> pl.DataFrame:\n",
    "    fixes = []\n",
    "    for c in features:\n",
    "        if c not in df.columns: continue\n",
    "        dt = df.schema[c]\n",
    "        if dt in (pl.Float32, pl.Float64):\n",
    "            fixes.append(\n",
    "                pl.when(pl.col(c).is_finite()).then(pl.col(c)).otherwise(0.0).fill_null(0.0).cast(pl.Float32).alias(c))\n",
    "        elif dt == pl.Boolean:\n",
    "            fixes.append(pl.col(c).cast(pl.Int8).fill_null(0).alias(c))\n",
    "        elif dt.is_integer():\n",
    "            fixes.append(pl.col(c).fill_null(0).alias(c))\n",
    "        else:\n",
    "            fixes.append(pl.col(c).cast(pl.Float32).fill_null(0.0).alias(c))\n",
    "    return df.with_columns(fixes)\n"
   ],
   "id": "791b8aee866bbc5f",
   "outputs": [],
   "execution_count": 5
  },
  {
   "metadata": {
    "ExecuteTime": {
     "end_time": "2025-09-19T19:16:08.318745Z",
     "start_time": "2025-09-19T19:16:08.308198Z"
    }
   },
   "cell_type": "code",
   "source": [
    "def prepare_matrix(df: pl.DataFrame, features: List[str]) -> np.ndarray:\n",
    "    return df.select([pl.col(c).cast(pl.Float32) for c in features]).fill_null(0.0).to_numpy()"
   ],
   "id": "b68a60810b5dde59",
   "outputs": [],
   "execution_count": 6
  },
  {
   "metadata": {
    "ExecuteTime": {
     "end_time": "2025-09-19T19:16:08.427482Z",
     "start_time": "2025-09-19T19:16:08.324138Z"
    }
   },
   "cell_type": "code",
   "source": [
    "train_feats = sanitize_features(train_feats, FEATURES + [TARGET, GROUP])\n",
    "test_feats  = sanitize_features(test_feats,  FEATURES + ID_COLS)\n"
   ],
   "id": "e4c6ee37548ae6c1",
   "outputs": [],
   "execution_count": 7
  },
  {
   "metadata": {
    "ExecuteTime": {
     "end_time": "2025-09-19T19:16:08.678659Z",
     "start_time": "2025-09-19T19:16:08.438033Z"
    }
   },
   "cell_type": "code",
   "source": [
    "y = train_feats[TARGET].to_numpy()\n",
    "groups_vec = train_feats[GROUP].to_numpy()\n",
    "X = prepare_matrix(train_feats, FEATURES)\n",
    "X_test = prepare_matrix(test_feats, FEATURES)\n",
    "print(\"[matrix] X:\", X.shape, \"y:\", y.shape, \"X_test:\", X_test.shape)"
   ],
   "id": "fc74316144da6330",
   "outputs": [
    {
     "name": "stdout",
     "output_type": "stream",
     "text": [
      "[matrix] X: (7781790, 38) y: (7781790,) X_test: (335348, 38)\n"
     ]
    }
   ],
   "execution_count": 8
  },
  {
   "metadata": {
    "ExecuteTime": {
     "end_time": "2025-09-19T19:16:10.110607Z",
     "start_time": "2025-09-19T19:16:08.683807Z"
    }
   },
   "cell_type": "code",
   "source": [
    "N_FOLDS = 5\n",
    "gkf = GroupKFold(n_splits=N_FOLDS)\n",
    "folds = [(tr_idx, va_idx) for tr_idx, va_idx in gkf.split(X, y, groups=groups_vec)]"
   ],
   "id": "626b160393e93f63",
   "outputs": [],
   "execution_count": 9
  },
  {
   "metadata": {
    "ExecuteTime": {
     "end_time": "2025-09-19T19:16:10.158168Z",
     "start_time": "2025-09-19T19:16:10.145657Z"
    }
   },
   "cell_type": "code",
   "source": [
    "def group_sizes_from_sorted_ids(ids: np.ndarray) -> np.ndarray:\n",
    "    _, counts = np.unique(ids, return_counts=True); return counts\n",
    "\n",
    "class TQDMCallback:\n",
    "    def __init__(self, total_rounds: int, desc: str=\"boosting\"): self.t=total_rounds; self.desc=desc; self.p=None\n",
    "    def __call__(self, env: CallbackEnv):\n",
    "        if self.p is None:\n",
    "            end=getattr(env,\"end_iteration\",self.t); beg=getattr(env,\"begin_iteration\",0)\n",
    "            from tqdm.auto import tqdm as _tqdm; self.p=_tqdm(total=end-beg, desc=self.desc, leave=False)\n",
    "        self.p.update(1)\n",
    "        if env.iteration+1>=self.t or (env.iteration+1)>=getattr(env,\"end_iteration\",self.t): self.p.close(); self.p=None\n",
    "\n",
    "def calc_dcg_at_k(v: np.ndarray, k: int = 10) -> float:\n",
    "    w = 0.97 ** np.arange(len(v)); return (v * w)[:k].sum()\n",
    "def calc_ndcg_at_k(labels: np.ndarray, preds: np.ndarray, groups: np.ndarray, k: int = 10) -> float:\n",
    "    order = np.argsort(groups, kind=\"mergesort\"); labels, preds, groups = labels[order], preds[order], groups[order]\n",
    "    _, counts = np.unique(groups, return_counts=True); s=0; lst=[]\n",
    "    for c in counts:\n",
    "        sl = slice(s, s+c); l, p = labels[sl], preds[sl]; idx = np.argsort(-p, kind=\"mergesort\")\n",
    "        idcg = calc_dcg_at_k(np.sort(l)[::-1], k) + 1e-12; lst.append(calc_dcg_at_k(l[idx], k) / idcg); s += c\n",
    "    return float(np.mean(lst))"
   ],
   "id": "cce8617f92510155",
   "outputs": [],
   "execution_count": 10
  },
  {
   "metadata": {
    "ExecuteTime": {
     "end_time": "2025-09-19T19:16:10.174191Z",
     "start_time": "2025-09-19T19:16:10.161676Z"
    }
   },
   "cell_type": "code",
   "source": [
    "params = dict(objective=\"lambdarank\", metric=\"ndcg\", ndcg_eval_at=[10],\n",
    "              learning_rate=0.01, num_leaves=63, min_data_in_leaf=200,\n",
    "              feature_fraction=0.85, bagging_fraction=0.8, bagging_freq=1,\n",
    "              lambda_l2=1.0, verbose=-1, seed=SEED, num_threads=0, device=\"gpu\")\n",
    "\n",
    "num_boost_round=1200; early_stopping_rounds=80"
   ],
   "id": "681a2c0c83945657",
   "outputs": [],
   "execution_count": 11
  },
  {
   "metadata": {
    "ExecuteTime": {
     "end_time": "2025-09-19T19:36:12.535670Z",
     "start_time": "2025-09-19T19:16:10.185708Z"
    }
   },
   "cell_type": "code",
   "source": [
    "oof_lgb = np.zeros(len(y), dtype=np.float32)\n",
    "test_pred_lgb = np.zeros(len(X_test), dtype=np.float32)\n",
    "\n",
    "for fold, (tr_idx, va_idx) in enumerate(folds, 1):\n",
    "    tr_s = tr_idx[np.argsort(groups_vec[tr_idx], kind=\"mergesort\")]\n",
    "    va_s = va_idx[np.argsort(groups_vec[va_idx], kind=\"mergesort\")]\n",
    "    dtr = lgb.Dataset(X[tr_s], label=y[tr_s], group=group_sizes_from_sorted_ids(groups_vec[tr_s]), feature_name=FEATURES)\n",
    "    dva = lgb.Dataset(X[va_s], label=y[va_s], group=group_sizes_from_sorted_ids(groups_vec[va_s]), feature_name=FEATURES)\n",
    "    try:\n",
    "        model = lgb.train(params, dtr, valid_sets=[dva], num_boost_round=num_boost_round,\n",
    "                          callbacks=[TQDMCallback(num_boost_round, f\"LGB fold {fold}\"),\n",
    "                                     lgb.early_stopping(early_stopping_rounds, verbose=False),\n",
    "                                     lgb.log_evaluation(100)])\n",
    "    except lgb.basic.LightGBMError:\n",
    "        params[\"device\"]=\"cpu\"\n",
    "        model = lgb.train(params, dtr, valid_sets=[dva], num_boost_round=num_boost_round,\n",
    "                          callbacks=[TQDMCallback(num_boost_round, f\"LGB fold {fold} (cpu)\"),\n",
    "                                     lgb.early_stopping(early_stopping_rounds, verbose=False),\n",
    "                                     lgb.log_evaluation(100)])\n",
    "    oof_lgb[va_s] = model.predict(X[va_s], num_iteration=model.best_iteration)\n",
    "    test_pred_lgb += model.predict(X_test, num_iteration=model.best_iteration) / N_FOLDS\n",
    "    print(f\"fold {fold}: ndcg@10={calc_ndcg_at_k(y[va_s], oof_lgb[va_s], groups_vec[va_s]):.5f}\")\n",
    "\n",
    "print(\"[LGBM] CV ndcg@10:\", calc_ndcg_at_k(y, oof_lgb, groups_vec))\n"
   ],
   "id": "ad51680f7c43ed6b",
   "outputs": [
    {
     "name": "stderr",
     "output_type": "stream",
     "text": [
      "LGB fold 1:   8%|▊         | 100/1200 [00:27<05:29,  3.34it/s]"
     ]
    },
    {
     "name": "stdout",
     "output_type": "stream",
     "text": [
      "[100]\tvalid_0's ndcg@10: 0.877316\n"
     ]
    },
    {
     "name": "stderr",
     "output_type": "stream",
     "text": [
      "LGB fold 1:  17%|█▋        | 200/1200 [00:54<04:24,  3.78it/s]"
     ]
    },
    {
     "name": "stdout",
     "output_type": "stream",
     "text": [
      "[200]\tvalid_0's ndcg@10: 0.879173\n"
     ]
    },
    {
     "name": "stderr",
     "output_type": "stream",
     "text": [
      "LGB fold 1:  25%|██▌       | 300/1200 [01:20<03:43,  4.03it/s]"
     ]
    },
    {
     "name": "stdout",
     "output_type": "stream",
     "text": [
      "[300]\tvalid_0's ndcg@10: 0.880244\n"
     ]
    },
    {
     "name": "stderr",
     "output_type": "stream",
     "text": [
      "LGB fold 1:  33%|███▎      | 400/1200 [01:45<03:12,  4.15it/s]"
     ]
    },
    {
     "name": "stdout",
     "output_type": "stream",
     "text": [
      "[400]\tvalid_0's ndcg@10: 0.880986\n"
     ]
    },
    {
     "name": "stderr",
     "output_type": "stream",
     "text": [
      "LGB fold 1:  42%|████▏     | 501/1200 [02:07<02:19,  5.02it/s]"
     ]
    },
    {
     "name": "stdout",
     "output_type": "stream",
     "text": [
      "[500]\tvalid_0's ndcg@10: 0.881471\n"
     ]
    },
    {
     "name": "stderr",
     "output_type": "stream",
     "text": [
      "LGB fold 1:  50%|█████     | 601/1200 [02:27<01:56,  5.13it/s]"
     ]
    },
    {
     "name": "stdout",
     "output_type": "stream",
     "text": [
      "[600]\tvalid_0's ndcg@10: 0.881653\n"
     ]
    },
    {
     "name": "stderr",
     "output_type": "stream",
     "text": [
      "LGB fold 1:  58%|█████▊    | 700/1200 [02:45<01:33,  5.35it/s]"
     ]
    },
    {
     "name": "stdout",
     "output_type": "stream",
     "text": [
      "[700]\tvalid_0's ndcg@10: 0.881872\n"
     ]
    },
    {
     "name": "stderr",
     "output_type": "stream",
     "text": [
      "LGB fold 1:  67%|██████▋   | 801/1200 [03:02<01:04,  6.16it/s]"
     ]
    },
    {
     "name": "stdout",
     "output_type": "stream",
     "text": [
      "[800]\tvalid_0's ndcg@10: 0.88193\n"
     ]
    },
    {
     "name": "stderr",
     "output_type": "stream",
     "text": [
      "LGB fold 1:  75%|███████▌  | 901/1200 [03:18<00:44,  6.66it/s]"
     ]
    },
    {
     "name": "stdout",
     "output_type": "stream",
     "text": [
      "[900]\tvalid_0's ndcg@10: 0.882075\n"
     ]
    },
    {
     "name": "stderr",
     "output_type": "stream",
     "text": [
      "LGB fold 1:  83%|████████▎ | 1001/1200 [03:34<00:30,  6.52it/s]"
     ]
    },
    {
     "name": "stdout",
     "output_type": "stream",
     "text": [
      "[1000]\tvalid_0's ndcg@10: 0.882177\n"
     ]
    },
    {
     "name": "stderr",
     "output_type": "stream",
     "text": [
      "LGB fold 1:  92%|█████████▏| 1101/1200 [03:49<00:15,  6.51it/s]"
     ]
    },
    {
     "name": "stdout",
     "output_type": "stream",
     "text": [
      "[1100]\tvalid_0's ndcg@10: 0.882165\n"
     ]
    },
    {
     "name": "stderr",
     "output_type": "stream",
     "text": [
      "                                                               \r"
     ]
    },
    {
     "name": "stdout",
     "output_type": "stream",
     "text": [
      "[1200]\tvalid_0's ndcg@10: 0.882232\n",
      "fold 1: ndcg@10=0.31033\n"
     ]
    },
    {
     "name": "stderr",
     "output_type": "stream",
     "text": [
      "LGB fold 2:   8%|▊         | 100/1200 [00:25<04:59,  3.68it/s]"
     ]
    },
    {
     "name": "stdout",
     "output_type": "stream",
     "text": [
      "[100]\tvalid_0's ndcg@10: 0.878148\n"
     ]
    },
    {
     "name": "stderr",
     "output_type": "stream",
     "text": [
      "LGB fold 2:  17%|█▋        | 200/1200 [00:51<04:16,  3.89it/s]"
     ]
    },
    {
     "name": "stdout",
     "output_type": "stream",
     "text": [
      "[200]\tvalid_0's ndcg@10: 0.879468\n"
     ]
    },
    {
     "name": "stderr",
     "output_type": "stream",
     "text": [
      "LGB fold 2:  25%|██▌       | 300/1200 [01:17<04:03,  3.69it/s]"
     ]
    },
    {
     "name": "stdout",
     "output_type": "stream",
     "text": [
      "[300]\tvalid_0's ndcg@10: 0.881206\n"
     ]
    },
    {
     "name": "stderr",
     "output_type": "stream",
     "text": [
      "LGB fold 2:  33%|███▎      | 400/1200 [01:42<02:51,  4.67it/s]"
     ]
    },
    {
     "name": "stdout",
     "output_type": "stream",
     "text": [
      "[400]\tvalid_0's ndcg@10: 0.88182\n"
     ]
    },
    {
     "name": "stderr",
     "output_type": "stream",
     "text": [
      "LGB fold 2:  42%|████▏     | 501/1200 [02:04<02:23,  4.86it/s]"
     ]
    },
    {
     "name": "stdout",
     "output_type": "stream",
     "text": [
      "[500]\tvalid_0's ndcg@10: 0.882315\n"
     ]
    },
    {
     "name": "stderr",
     "output_type": "stream",
     "text": [
      "LGB fold 2:  50%|█████     | 600/1200 [02:24<01:49,  5.47it/s]"
     ]
    },
    {
     "name": "stdout",
     "output_type": "stream",
     "text": [
      "[600]\tvalid_0's ndcg@10: 0.88249\n"
     ]
    },
    {
     "name": "stderr",
     "output_type": "stream",
     "text": [
      "LGB fold 2:  58%|█████▊    | 700/1200 [02:42<01:42,  4.90it/s]"
     ]
    },
    {
     "name": "stdout",
     "output_type": "stream",
     "text": [
      "[700]\tvalid_0's ndcg@10: 0.882648\n"
     ]
    },
    {
     "name": "stderr",
     "output_type": "stream",
     "text": [
      "LGB fold 2:  67%|██████▋   | 801/1200 [02:59<01:09,  5.74it/s]"
     ]
    },
    {
     "name": "stdout",
     "output_type": "stream",
     "text": [
      "[800]\tvalid_0's ndcg@10: 0.882822\n"
     ]
    },
    {
     "name": "stderr",
     "output_type": "stream",
     "text": [
      "LGB fold 2:  75%|███████▌  | 901/1200 [03:16<00:50,  5.98it/s]"
     ]
    },
    {
     "name": "stdout",
     "output_type": "stream",
     "text": [
      "[900]\tvalid_0's ndcg@10: 0.88294\n"
     ]
    },
    {
     "name": "stderr",
     "output_type": "stream",
     "text": [
      "                                                              \r"
     ]
    },
    {
     "name": "stdout",
     "output_type": "stream",
     "text": [
      "fold 2: ndcg@10=0.30830\n"
     ]
    },
    {
     "name": "stderr",
     "output_type": "stream",
     "text": [
      "LGB fold 3:   8%|▊         | 100/1200 [00:25<04:42,  3.90it/s]"
     ]
    },
    {
     "name": "stdout",
     "output_type": "stream",
     "text": [
      "[100]\tvalid_0's ndcg@10: 0.877894\n"
     ]
    },
    {
     "name": "stderr",
     "output_type": "stream",
     "text": [
      "LGB fold 3:  17%|█▋        | 200/1200 [00:51<04:15,  3.91it/s]"
     ]
    },
    {
     "name": "stdout",
     "output_type": "stream",
     "text": [
      "[200]\tvalid_0's ndcg@10: 0.879697\n"
     ]
    },
    {
     "name": "stderr",
     "output_type": "stream",
     "text": [
      "LGB fold 3:  25%|██▌       | 300/1200 [01:16<03:35,  4.18it/s]"
     ]
    },
    {
     "name": "stdout",
     "output_type": "stream",
     "text": [
      "[300]\tvalid_0's ndcg@10: 0.881041\n"
     ]
    },
    {
     "name": "stderr",
     "output_type": "stream",
     "text": [
      "LGB fold 3:  33%|███▎      | 400/1200 [01:41<03:06,  4.28it/s]"
     ]
    },
    {
     "name": "stdout",
     "output_type": "stream",
     "text": [
      "[400]\tvalid_0's ndcg@10: 0.881799\n"
     ]
    },
    {
     "name": "stderr",
     "output_type": "stream",
     "text": [
      "LGB fold 3:  42%|████▏     | 501/1200 [02:02<02:05,  5.56it/s]"
     ]
    },
    {
     "name": "stdout",
     "output_type": "stream",
     "text": [
      "[500]\tvalid_0's ndcg@10: 0.882284\n"
     ]
    },
    {
     "name": "stderr",
     "output_type": "stream",
     "text": [
      "LGB fold 3:  50%|█████     | 601/1200 [02:21<01:53,  5.28it/s]"
     ]
    },
    {
     "name": "stdout",
     "output_type": "stream",
     "text": [
      "[600]\tvalid_0's ndcg@10: 0.882569\n"
     ]
    },
    {
     "name": "stderr",
     "output_type": "stream",
     "text": [
      "LGB fold 3:  58%|█████▊    | 700/1200 [02:39<01:35,  5.22it/s]"
     ]
    },
    {
     "name": "stdout",
     "output_type": "stream",
     "text": [
      "[700]\tvalid_0's ndcg@10: 0.882692\n"
     ]
    },
    {
     "name": "stderr",
     "output_type": "stream",
     "text": [
      "LGB fold 3:  67%|██████▋   | 801/1200 [02:57<01:07,  5.92it/s]"
     ]
    },
    {
     "name": "stdout",
     "output_type": "stream",
     "text": [
      "[800]\tvalid_0's ndcg@10: 0.882891\n"
     ]
    },
    {
     "name": "stderr",
     "output_type": "stream",
     "text": [
      "LGB fold 3:  75%|███████▌  | 901/1200 [03:13<00:50,  5.98it/s]"
     ]
    },
    {
     "name": "stdout",
     "output_type": "stream",
     "text": [
      "[900]\tvalid_0's ndcg@10: 0.88291\n"
     ]
    },
    {
     "name": "stderr",
     "output_type": "stream",
     "text": [
      "                                                              \r"
     ]
    },
    {
     "name": "stdout",
     "output_type": "stream",
     "text": [
      "fold 3: ndcg@10=0.31035\n"
     ]
    },
    {
     "name": "stderr",
     "output_type": "stream",
     "text": [
      "LGB fold 4:   8%|▊         | 100/1200 [00:25<04:46,  3.83it/s]"
     ]
    },
    {
     "name": "stdout",
     "output_type": "stream",
     "text": [
      "[100]\tvalid_0's ndcg@10: 0.878356\n"
     ]
    },
    {
     "name": "stderr",
     "output_type": "stream",
     "text": [
      "LGB fold 4:  17%|█▋        | 200/1200 [00:53<04:32,  3.67it/s]"
     ]
    },
    {
     "name": "stdout",
     "output_type": "stream",
     "text": [
      "[200]\tvalid_0's ndcg@10: 0.879526\n"
     ]
    },
    {
     "name": "stderr",
     "output_type": "stream",
     "text": [
      "LGB fold 4:  25%|██▌       | 300/1200 [01:20<03:31,  4.25it/s]"
     ]
    },
    {
     "name": "stdout",
     "output_type": "stream",
     "text": [
      "[300]\tvalid_0's ndcg@10: 0.880878\n"
     ]
    },
    {
     "name": "stderr",
     "output_type": "stream",
     "text": [
      "LGB fold 4:  33%|███▎      | 400/1200 [01:43<03:05,  4.31it/s]"
     ]
    },
    {
     "name": "stdout",
     "output_type": "stream",
     "text": [
      "[400]\tvalid_0's ndcg@10: 0.881661\n"
     ]
    },
    {
     "name": "stderr",
     "output_type": "stream",
     "text": [
      "LGB fold 4:  42%|████▏     | 500/1200 [02:04<02:30,  4.66it/s]"
     ]
    },
    {
     "name": "stdout",
     "output_type": "stream",
     "text": [
      "[500]\tvalid_0's ndcg@10: 0.881975\n"
     ]
    },
    {
     "name": "stderr",
     "output_type": "stream",
     "text": [
      "LGB fold 4:  50%|█████     | 601/1200 [02:23<01:51,  5.37it/s]"
     ]
    },
    {
     "name": "stdout",
     "output_type": "stream",
     "text": [
      "[600]\tvalid_0's ndcg@10: 0.882174\n"
     ]
    },
    {
     "name": "stderr",
     "output_type": "stream",
     "text": [
      "LGB fold 4:  58%|█████▊    | 701/1200 [02:41<01:34,  5.29it/s]"
     ]
    },
    {
     "name": "stdout",
     "output_type": "stream",
     "text": [
      "[700]\tvalid_0's ndcg@10: 0.882351\n"
     ]
    },
    {
     "name": "stderr",
     "output_type": "stream",
     "text": [
      "LGB fold 4:  67%|██████▋   | 801/1200 [02:58<01:10,  5.67it/s]"
     ]
    },
    {
     "name": "stdout",
     "output_type": "stream",
     "text": [
      "[800]\tvalid_0's ndcg@10: 0.882457\n"
     ]
    },
    {
     "name": "stderr",
     "output_type": "stream",
     "text": [
      "LGB fold 4:  75%|███████▌  | 901/1200 [03:14<00:51,  5.79it/s]"
     ]
    },
    {
     "name": "stdout",
     "output_type": "stream",
     "text": [
      "[900]\tvalid_0's ndcg@10: 0.882575\n"
     ]
    },
    {
     "name": "stderr",
     "output_type": "stream",
     "text": [
      "LGB fold 4:  83%|████████▎ | 1001/1200 [03:30<00:29,  6.63it/s]"
     ]
    },
    {
     "name": "stdout",
     "output_type": "stream",
     "text": [
      "[1000]\tvalid_0's ndcg@10: 0.882742\n"
     ]
    },
    {
     "name": "stderr",
     "output_type": "stream",
     "text": [
      "LGB fold 4:  92%|█████████▏| 1101/1200 [03:46<00:13,  7.16it/s]"
     ]
    },
    {
     "name": "stdout",
     "output_type": "stream",
     "text": [
      "[1100]\tvalid_0's ndcg@10: 0.882772\n"
     ]
    },
    {
     "name": "stderr",
     "output_type": "stream",
     "text": [
      "                                                               \r"
     ]
    },
    {
     "name": "stdout",
     "output_type": "stream",
     "text": [
      "[1200]\tvalid_0's ndcg@10: 0.882885\n",
      "fold 4: ndcg@10=0.30966\n"
     ]
    },
    {
     "name": "stderr",
     "output_type": "stream",
     "text": [
      "LGB fold 5:   8%|▊         | 100/1200 [00:25<04:35,  3.99it/s]"
     ]
    },
    {
     "name": "stdout",
     "output_type": "stream",
     "text": [
      "[100]\tvalid_0's ndcg@10: 0.877957\n"
     ]
    },
    {
     "name": "stderr",
     "output_type": "stream",
     "text": [
      "LGB fold 5:  17%|█▋        | 200/1200 [00:50<04:07,  4.04it/s]"
     ]
    },
    {
     "name": "stdout",
     "output_type": "stream",
     "text": [
      "[200]\tvalid_0's ndcg@10: 0.880332\n"
     ]
    },
    {
     "name": "stderr",
     "output_type": "stream",
     "text": [
      "LGB fold 5:  25%|██▌       | 300/1200 [01:14<03:29,  4.30it/s]"
     ]
    },
    {
     "name": "stdout",
     "output_type": "stream",
     "text": [
      "[300]\tvalid_0's ndcg@10: 0.881367\n"
     ]
    },
    {
     "name": "stderr",
     "output_type": "stream",
     "text": [
      "LGB fold 5:  33%|███▎      | 400/1200 [01:37<03:06,  4.28it/s]"
     ]
    },
    {
     "name": "stdout",
     "output_type": "stream",
     "text": [
      "[400]\tvalid_0's ndcg@10: 0.881892\n"
     ]
    },
    {
     "name": "stderr",
     "output_type": "stream",
     "text": [
      "LGB fold 5:  42%|████▏     | 500/1200 [01:59<02:23,  4.87it/s]"
     ]
    },
    {
     "name": "stdout",
     "output_type": "stream",
     "text": [
      "[500]\tvalid_0's ndcg@10: 0.882514\n"
     ]
    },
    {
     "name": "stderr",
     "output_type": "stream",
     "text": [
      "LGB fold 5:  50%|█████     | 601/1200 [02:19<01:39,  6.01it/s]"
     ]
    },
    {
     "name": "stdout",
     "output_type": "stream",
     "text": [
      "[600]\tvalid_0's ndcg@10: 0.883005\n"
     ]
    },
    {
     "name": "stderr",
     "output_type": "stream",
     "text": [
      "LGB fold 5:  58%|█████▊    | 701/1200 [02:36<01:36,  5.16it/s]"
     ]
    },
    {
     "name": "stdout",
     "output_type": "stream",
     "text": [
      "[700]\tvalid_0's ndcg@10: 0.883133\n"
     ]
    },
    {
     "name": "stderr",
     "output_type": "stream",
     "text": [
      "LGB fold 5:  67%|██████▋   | 801/1200 [02:54<01:02,  6.41it/s]"
     ]
    },
    {
     "name": "stdout",
     "output_type": "stream",
     "text": [
      "[800]\tvalid_0's ndcg@10: 0.883353\n"
     ]
    },
    {
     "name": "stderr",
     "output_type": "stream",
     "text": [
      "LGB fold 5:  75%|███████▌  | 901/1200 [03:11<00:49,  5.99it/s]"
     ]
    },
    {
     "name": "stdout",
     "output_type": "stream",
     "text": [
      "[900]\tvalid_0's ndcg@10: 0.883413\n"
     ]
    },
    {
     "name": "stderr",
     "output_type": "stream",
     "text": [
      "LGB fold 5:  83%|████████▎ | 1001/1200 [03:27<00:33,  5.89it/s]"
     ]
    },
    {
     "name": "stdout",
     "output_type": "stream",
     "text": [
      "[1000]\tvalid_0's ndcg@10: 0.883479\n"
     ]
    },
    {
     "name": "stderr",
     "output_type": "stream",
     "text": [
      "LGB fold 5:  92%|█████████▏| 1101/1200 [03:42<00:16,  5.94it/s]"
     ]
    },
    {
     "name": "stdout",
     "output_type": "stream",
     "text": [
      "[1100]\tvalid_0's ndcg@10: 0.883619\n"
     ]
    },
    {
     "name": "stderr",
     "output_type": "stream",
     "text": [
      "                                                               \r"
     ]
    },
    {
     "name": "stdout",
     "output_type": "stream",
     "text": [
      "[1200]\tvalid_0's ndcg@10: 0.883694\n",
      "fold 5: ndcg@10=0.31020\n",
      "[LGBM] CV ndcg@10: 0.30976922610916974\n"
     ]
    }
   ],
   "execution_count": 12
  },
  {
   "metadata": {
    "ExecuteTime": {
     "end_time": "2025-09-19T19:36:13.308117Z",
     "start_time": "2025-09-19T19:36:12.677960Z"
    }
   },
   "cell_type": "code",
   "source": [
    "pl.DataFrame(\n",
    "    {\"query_id\": train_feats[\"query_id\"], \"item_id\": train_feats[\"item_id\"], \"oof_lgb\": oof_lgb}).write_parquet(\n",
    "    os.path.join(OUT_DIR, \"oof_lgb.parquet\"))\n",
    "pl.DataFrame(\n",
    "    {\"query_id\": test_feats[\"query_id\"], \"item_id\": test_feats[\"item_id\"], \"pred_lgb\": test_pred_lgb}).write_parquet(\n",
    "    os.path.join(OUT_DIR, \"test_pred_lgb.parquet\"))\n",
    "print(\"[save] out_lgbm/oof_lgb.parquet & out_lgbm/test_pred_lgb.parquet\")"
   ],
   "id": "1fbfca0ece1f5b15",
   "outputs": [
    {
     "name": "stdout",
     "output_type": "stream",
     "text": [
      "[save] out_lgbm/oof_lgb.parquet & out_lgbm/test_pred_lgb.parquet\n"
     ]
    }
   ],
   "execution_count": 13
  }
 ],
 "metadata": {
  "kernelspec": {
   "display_name": "Python 3",
   "language": "python",
   "name": "python3"
  },
  "language_info": {
   "codemirror_mode": {
    "name": "ipython",
    "version": 2
   },
   "file_extension": ".py",
   "mimetype": "text/x-python",
   "name": "python",
   "nbconvert_exporter": "python",
   "pygments_lexer": "ipython2",
   "version": "2.7.6"
  }
 },
 "nbformat": 4,
 "nbformat_minor": 5
}
