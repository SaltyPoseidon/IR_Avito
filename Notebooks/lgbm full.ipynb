{
 "cells": [
  {
   "cell_type": "code",
   "id": "initial_id",
   "metadata": {
    "collapsed": true,
    "ExecuteTime": {
     "end_time": "2025-09-19T20:35:15.997777Z",
     "start_time": "2025-09-19T20:35:14.330743Z"
    }
   },
   "source": [
    "# LGBM refit-only submit (no OOF)\n",
    "#-----------------------------------------------\n",
    "import os, polars as pl, numpy as np, lightgbm as lgb\n",
    "from typing import List\n",
    "from tqdm.auto import tqdm\n",
    "from lightgbm.callback import CallbackEnv"
   ],
   "outputs": [
    {
     "name": "stderr",
     "output_type": "stream",
     "text": [
      "C:\\Users\\idine\\PycharmProjects\\Avito_Test\\.venv\\lib\\site-packages\\tqdm\\auto.py:21: TqdmWarning: IProgress not found. Please update jupyter and ipywidgets. See https://ipywidgets.readthedocs.io/en/stable/user_install.html\n",
      "  from .autonotebook import tqdm as notebook_tqdm\n"
     ]
    }
   ],
   "execution_count": 1
  },
  {
   "metadata": {
    "ExecuteTime": {
     "end_time": "2025-09-19T20:35:16.028818Z",
     "start_time": "2025-09-19T20:35:16.011795Z"
    }
   },
   "cell_type": "code",
   "source": [
    "SEED = 42\n",
    "np.random.seed(SEED)\n",
    "\n",
    "BASE_DIR = os.path.dirname(os.getcwd())\n",
    "DATA_DIR = os.path.join(BASE_DIR, \"Data\")\n",
    "TRAIN_FEATS_PATH = os.path.join(DATA_DIR, \"train_feats2.parquet\")\n",
    "TEST_FEATS_PATH  = os.path.join(DATA_DIR, \"test_feats2.parquet\")"
   ],
   "id": "221e7fa18b08f744",
   "outputs": [],
   "execution_count": 2
  },
  {
   "metadata": {
    "ExecuteTime": {
     "end_time": "2025-09-19T20:35:20.051659Z",
     "start_time": "2025-09-19T20:35:20.032071Z"
    }
   },
   "cell_type": "code",
   "source": [
    "\n",
    "SUB_REFIT = \"solution_lgbm_refit.csv\"\n",
    "\n",
    "TARGET = \"item_contact\"\n",
    "GROUP  = \"query_id\"\n",
    "ID_COLS = [\"query_id\",\"item_id\"]\n"
   ],
   "id": "2bef50c5999effa0",
   "outputs": [],
   "execution_count": 3
  },
  {
   "metadata": {
    "ExecuteTime": {
     "end_time": "2025-09-19T20:35:29.455252Z",
     "start_time": "2025-09-19T20:35:24.690374Z"
    }
   },
   "cell_type": "code",
   "source": [
    "# === load ===\n",
    "assert os.path.exists(TRAIN_FEATS_PATH); assert os.path.exists(TEST_FEATS_PATH)\n",
    "train_feats = pl.read_parquet(TRAIN_FEATS_PATH)\n",
    "test_feats  = pl.read_parquet(TEST_FEATS_PATH)\n",
    "print(\"[load] train_feats:\", train_feats.shape, \"| test_feats:\", test_feats.shape)"
   ],
   "id": "f6cc2a492ca63e4b",
   "outputs": [
    {
     "name": "stdout",
     "output_type": "stream",
     "text": [
      "[load] train_feats: (7781790, 72) | test_feats: (335348, 71)\n"
     ]
    }
   ],
   "execution_count": 4
  },
  {
   "metadata": {
    "ExecuteTime": {
     "end_time": "2025-09-19T20:35:31.302093Z",
     "start_time": "2025-09-19T20:35:31.291154Z"
    }
   },
   "cell_type": "code",
   "source": [
    "# === features (ваш список) ===\n",
    "FEATURES = [\n",
    "    \"cos_q_title\",\n",
    "    \"query_len\",\"title_len\",\"abs_len_diff\",\n",
    "    \"overlap_q_title\",\"jaccard_q_title\",\"dice_q_title\",\"ratio_overlap_title\",\n",
    "    \"title_contains_query\",\"has_query_text\",\"has_title\",\n",
    "    \"same_cat\",\"same_mcat\",\"same_loc\",\"same_cat_loc\",\"triple_match\",\n",
    "    \"freq_item_cat\",\"freq_item_mcat\",\"freq_item_loc\",\"is_query_mcat_missing\",\n",
    "    \"price_clip\",\"price_log1p\",\"price_rank_in_query\",\"price_z_in_query\",\"price_is_zero\",\"price_vs_median_query\",\n",
    "    \"conv_known\",\"conv_filled\",\"conv_z_in_query\",\"conv_rank_in_query\",\n",
    "    \"n_items_in_query\",\"max_cos_in_query\",\"cos_minus_max\",\n",
    "    \"same_cat__cos\",\"same_loc__cos\",\"conv__cos\",\"conv__same_loc\",\"price_rank__same_loc\",\n",
    "]\n",
    "FEATURES = [c for c in FEATURES if c in train_feats.columns]"
   ],
   "id": "9914c028d0212be0",
   "outputs": [],
   "execution_count": 5
  },
  {
   "metadata": {
    "ExecuteTime": {
     "end_time": "2025-09-19T20:35:36.561086Z",
     "start_time": "2025-09-19T20:35:36.556882Z"
    }
   },
   "cell_type": "code",
   "source": [
    "\n",
    "# === sanitize & prepare ===\n",
    "def sanitize_features(df: pl.DataFrame, features: list[str]) -> pl.DataFrame:\n",
    "    exprs=[]\n",
    "    for c in features:\n",
    "        if c not in df.columns: continue\n",
    "        dt=df.schema[c]\n",
    "        if dt in (pl.Float32, pl.Float64):\n",
    "            exprs.append(pl.when(pl.col(c).is_finite()).then(pl.col(c)).otherwise(0.0).fill_null(0.0).cast(pl.Float32).alias(c))\n",
    "        elif dt==pl.Boolean:\n",
    "            exprs.append(pl.col(c).cast(pl.Int8).fill_null(0).alias(c))\n",
    "        elif dt.is_integer():\n",
    "            exprs.append(pl.col(c).fill_null(0).alias(c))\n",
    "        else:\n",
    "            exprs.append(pl.col(c).cast(pl.Float32).fill_null(0.0).alias(c))\n",
    "    return df.with_columns(exprs)"
   ],
   "id": "179aef0a3437bab4",
   "outputs": [],
   "execution_count": 6
  },
  {
   "metadata": {
    "ExecuteTime": {
     "end_time": "2025-09-19T20:35:41.781481Z",
     "start_time": "2025-09-19T20:35:41.774731Z"
    }
   },
   "cell_type": "code",
   "source": [
    "\n",
    "def prepare_matrix(df: pl.DataFrame, features: List[str]) -> np.ndarray:\n",
    "    return df.select([pl.col(c).cast(pl.Float32) for c in features]).to_numpy()"
   ],
   "id": "8d719c7d5151ae22",
   "outputs": [],
   "execution_count": 7
  },
  {
   "metadata": {
    "ExecuteTime": {
     "end_time": "2025-09-19T20:35:48.524479Z",
     "start_time": "2025-09-19T20:35:47.818776Z"
    }
   },
   "cell_type": "code",
   "source": [
    "train_feats = sanitize_features(train_feats, FEATURES)\n",
    "test_feats  = sanitize_features(test_feats,  FEATURES)\n",
    "\n",
    "y = train_feats[TARGET].to_numpy()\n",
    "g = train_feats[GROUP].to_numpy()\n",
    "X = prepare_matrix(train_feats, FEATURES)\n",
    "X_test = prepare_matrix(test_feats, FEATURES)"
   ],
   "id": "961033a4e12a32b0",
   "outputs": [],
   "execution_count": 8
  },
  {
   "metadata": {
    "ExecuteTime": {
     "end_time": "2025-09-19T20:35:55.598476Z",
     "start_time": "2025-09-19T20:35:54.741710Z"
    }
   },
   "cell_type": "code",
   "source": [
    "print(\"[matrix] X:\", X.shape, \"y:\", y.shape, \"X_test:\", X_test.shape)\n",
    "\n",
    "# === group sizes for refit (нужен сортированный по query_id порядок) ===\n",
    "ord_idx = np.argsort(g, kind=\"mergesort\")\n",
    "X_all, y_all, g_all = X[ord_idx], y[ord_idx], g[ord_idx]\n",
    "_, group_sizes = np.unique(g_all, return_counts=True)"
   ],
   "id": "3683e3b58a929e36",
   "outputs": [
    {
     "name": "stdout",
     "output_type": "stream",
     "text": [
      "[matrix] X: (7781790, 38) y: (7781790,) X_test: (335348, 38)\n"
     ]
    }
   ],
   "execution_count": 9
  },
  {
   "metadata": {
    "ExecuteTime": {
     "end_time": "2025-09-19T20:36:10.373075Z",
     "start_time": "2025-09-19T20:36:10.363566Z"
    }
   },
   "cell_type": "code",
   "source": "dall = lgb.Dataset(X_all, label=y_all, group=group_sizes, feature_name=FEATURES)",
   "id": "bd76441da41ac128",
   "outputs": [],
   "execution_count": 10
  },
  {
   "metadata": {
    "ExecuteTime": {
     "end_time": "2025-09-19T20:36:26.890225Z",
     "start_time": "2025-09-19T20:36:26.872715Z"
    }
   },
   "cell_type": "code",
   "source": [
    "# === быстрые/стабильные гиперы\n",
    "params = dict(\n",
    "    objective=\"lambdarank\",\n",
    "    metric=\"ndcg\",\n",
    "    ndcg_eval_at=[10],\n",
    "    learning_rate=0.08,     # можно 0.05–0.10\n",
    "    num_leaves=63,\n",
    "    min_data_in_leaf=200,\n",
    "    feature_fraction=0.85,\n",
    "    bagging_fraction=0.8,\n",
    "    bagging_freq=1,\n",
    "    lambda_l2=1.0,\n",
    "    verbose=-1,\n",
    "    seed=SEED,\n",
    "    num_threads=0,\n",
    "    device=\"gpu\",\n",
    ")"
   ],
   "id": "787f90e5b5d05a63",
   "outputs": [],
   "execution_count": 12
  },
  {
   "metadata": {
    "ExecuteTime": {
     "end_time": "2025-09-19T20:36:27.198731Z",
     "start_time": "2025-09-19T20:36:27.184406Z"
    }
   },
   "cell_type": "code",
   "source": "num_boost_round = 900",
   "id": "f016418c12d6b7b4",
   "outputs": [],
   "execution_count": 13
  },
  {
   "metadata": {
    "ExecuteTime": {
     "end_time": "2025-09-19T20:39:10.929662Z",
     "start_time": "2025-09-19T20:36:33.067411Z"
    }
   },
   "cell_type": "code",
   "source": [
    "# === обучаем один финальный бустер на всем train ===\n",
    "print(\"[fit] refit on full train...\")\n",
    "model = lgb.train(params, dall, num_boost_round=num_boost_round)"
   ],
   "id": "b56dcb1f8cd6ad13",
   "outputs": [
    {
     "name": "stdout",
     "output_type": "stream",
     "text": [
      "[fit] refit on full train...\n"
     ]
    }
   ],
   "execution_count": 14
  },
  {
   "metadata": {
    "ExecuteTime": {
     "end_time": "2025-09-19T20:39:12.103943Z",
     "start_time": "2025-09-19T20:39:10.985736Z"
    }
   },
   "cell_type": "code",
   "source": [
    "# === предсказания на тест ===\n",
    "test_pred = model.predict(X_test)"
   ],
   "id": "e4a5bbf5893e759",
   "outputs": [],
   "execution_count": 15
  },
  {
   "metadata": {
    "ExecuteTime": {
     "end_time": "2025-09-19T20:39:12.180067Z",
     "start_time": "2025-09-19T20:39:12.137957Z"
    }
   },
   "cell_type": "code",
   "source": [
    "# === сабмит ===\n",
    "sub = (\n",
    "    test_feats.select(ID_COLS)\n",
    "    .with_columns(pl.Series(\"pred\", test_pred))\n",
    "    .sort([\"query_id\",\"pred\"], descending=[False, True])\n",
    "    .select(ID_COLS)\n",
    ")\n",
    "sub.write_csv(SUB_REFIT, include_header=True)\n",
    "print(f\"[save] {SUB_REFIT}  rows={sub.height}\")"
   ],
   "id": "b36eb59a0667f0de",
   "outputs": [
    {
     "name": "stdout",
     "output_type": "stream",
     "text": [
      "[save] solution_lgbm_refit.csv  rows=335348\n"
     ]
    }
   ],
   "execution_count": 16
  },
  {
   "metadata": {},
   "cell_type": "code",
   "outputs": [],
   "execution_count": null,
   "source": [
    "# === (опционально) второй сабмит — Z-нормировка скоров по запросу ===\n",
    "do_z = True\n",
    "if do_z:\n",
    "    df_pred = test_feats.select(ID_COLS).with_columns(pl.Series(\"pred\", test_pred))\n",
    "    df_pred = df_pred.with_columns([\n",
    "        pl.col(\"pred\").mean().over(\"query_id\").alias(\"__m\"),\n",
    "        pl.col(\"pred\").std(ddof=0).fill_null(0.0).over(\"query_id\").alias(\"__s\"),\n",
    "    ]).with_columns([\n",
    "        ((pl.col(\"pred\") - pl.col(\"__m\")) / (pl.col(\"__s\")+1e-6)).alias(\"pred_z_in_query\")\n",
    "    ]).drop([\"__m\",\"__s\"])\n",
    "\n",
    "    sub_z = (\n",
    "        df_pred.sort([\"query_id\",\"pred_z_in_query\"], descending=[False, True])\n",
    "               .select(ID_COLS)\n",
    "    )\n",
    "    sub_z.write_csv(\"solution_lgbm_refit_z.csv\", include_header=True)\n",
    "    print(\"[save] solution_lgbm_refit_z.csv  rows=\", sub_z.height)"
   ],
   "id": "d768bb465ce11264"
  }
 ],
 "metadata": {
  "kernelspec": {
   "display_name": "Python 3",
   "language": "python",
   "name": "python3"
  },
  "language_info": {
   "codemirror_mode": {
    "name": "ipython",
    "version": 2
   },
   "file_extension": ".py",
   "mimetype": "text/x-python",
   "name": "python",
   "nbconvert_exporter": "python",
   "pygments_lexer": "ipython2",
   "version": "2.7.6"
  }
 },
 "nbformat": 4,
 "nbformat_minor": 5
}
