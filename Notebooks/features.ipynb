{
 "cells": [
  {
   "cell_type": "code",
   "execution_count": 1,
   "id": "initial_id",
   "metadata": {
    "ExecuteTime": {
     "end_time": "2025-09-19T17:20:40.148137Z",
     "start_time": "2025-09-19T17:20:39.824980Z"
    },
    "collapsed": true,
    "jupyter": {
     "outputs_hidden": true
    }
   },
   "outputs": [],
   "source": [
    "import os\n",
    "import polars as pl\n",
    "import numpy as np"
   ]
  },
  {
   "cell_type": "code",
   "execution_count": 2,
   "id": "86618741f0d413f3",
   "metadata": {
    "ExecuteTime": {
     "end_time": "2025-09-19T17:20:40.164157Z",
     "start_time": "2025-09-19T17:20:40.154648Z"
    }
   },
   "outputs": [],
   "source": [
    "BASE_DIR = os.path.dirname(os.getcwd())\n",
    "DATA_DIR = os.path.join(BASE_DIR, \"Data\")\n",
    "TRAIN_PATH = os.path.join(DATA_DIR, \"train-dset.parquet\")\n",
    "TEST_PATH  = os.path.join(DATA_DIR, \"test-dset-small.parquet\")\n",
    "\n",
    "TRAIN_COS = os.path.join(DATA_DIR, \"train_cos.parquet\")\n",
    "TEST_COS  = os.path.join(DATA_DIR, \"test_cos.parquet\")"
   ]
  },
  {
   "cell_type": "code",
   "execution_count": 3,
   "id": "e912e16a6a472e9",
   "metadata": {
    "ExecuteTime": {
     "end_time": "2025-09-19T17:20:40.179775Z",
     "start_time": "2025-09-19T17:20:40.168157Z"
    }
   },
   "outputs": [],
   "source": [
    "def tokenize(col: str) -> pl.Expr:\n",
    "    # простая нормализация: lower, убрать небукв/цифр, свести повторные пробелы, split\n",
    "    return (\n",
    "        pl.col(col).cast(pl.Utf8).fill_null(\"\")\n",
    "        .str.to_lowercase()\n",
    "        .str.replace_all(r\"ё\", \"е\")\n",
    "        .str.replace_all(r\"[^0-9\\p{L}]+\", \" \")\n",
    "        .str.strip_chars()\n",
    "        .str.split(\" \")\n",
    "        .list.eval(pl.element().filter(pl.element() != \"\"))\n",
    "    )"
   ]
  },
  {
   "cell_type": "code",
   "execution_count": 4,
   "id": "39982c7df025d85c",
   "metadata": {
    "ExecuteTime": {
     "end_time": "2025-09-19T17:20:40.210737Z",
     "start_time": "2025-09-19T17:20:40.184776Z"
    }
   },
   "outputs": [],
   "source": [
    "def add_text_feats(df: pl.DataFrame) -> pl.DataFrame:\n",
    "    df = df.with_columns([\n",
    "        tokenize(\"query_text\").alias(\"query_tokens\"),\n",
    "        tokenize(\"item_title\").alias(\"title_tokens\"),\n",
    "    ])\n",
    "    df = df.with_columns([\n",
    "        pl.col(\"query_tokens\").list.len().alias(\"query_len\"),\n",
    "        pl.col(\"title_tokens\").list.len().alias(\"title_len\"),\n",
    "    ])\n",
    "    # пересечения и нормализованные меры\n",
    "    df = df.with_columns([\n",
    "        pl.col(\"query_tokens\").list.set_intersection(pl.col(\"title_tokens\")).list.len().alias(\"overlap_q_title\"),\n",
    "    ])\n",
    "    df = df.with_columns([\n",
    "        (pl.col(\"overlap_q_title\") / (pl.col(\"query_len\")+pl.col(\"title_len\")-pl.col(\"overlap_q_title\")+1e-6)).alias(\"jaccard_q_title\"),\n",
    "        (2*pl.col(\"overlap_q_title\") / (pl.col(\"query_len\")+pl.col(\"title_len\")+1e-6)).alias(\"dice_q_title\"),\n",
    "        (pl.col(\"overlap_q_title\") / (pl.col(\"query_len\")+1)).alias(\"ratio_overlap_title\"),\n",
    "        (pl.col(\"title_len\") - pl.col(\"query_len\")).abs().alias(\"abs_len_diff\"),\n",
    "    ])\n",
    "    # строгая проверка вхождения строки\n",
    "    norm_q = (\n",
    "        pl.col(\"query_text\").cast(pl.Utf8).fill_null(\"\").str.to_lowercase()\n",
    "        .str.replace_all(r\"ё\",\"е\").str.replace_all(r\"[^0-9\\p{L}]+\",\" \").str.strip_chars()\n",
    "    )\n",
    "    norm_t = (\n",
    "        pl.col(\"item_title\").cast(pl.Utf8).fill_null(\"\").str.to_lowercase()\n",
    "        .str.replace_all(r\"ё\",\"е\").str.replace_all(r\"[^0-9\\p{L}]+\",\" \").str.strip_chars()\n",
    "    )\n",
    "    df = df.with_columns([\n",
    "        norm_q.alias(\"__qnorm\"), norm_t.alias(\"__tnorm\"),\n",
    "        (pl.col(\"query_text\").fill_null(\"\") != \"\").alias(\"has_query_text\"),\n",
    "        (pl.col(\"item_title\").fill_null(\"\") != \"\").alias(\"has_title\"),\n",
    "    ]).with_columns([\n",
    "        pl.col(\"__tnorm\").str.contains(pl.col(\"__qnorm\")).fill_null(False).alias(\"title_contains_query\")\n",
    "    ]).drop([\"__qnorm\",\"__tnorm\"])\n",
    "    return df"
   ]
  },
  {
   "cell_type": "code",
   "execution_count": 5,
   "id": "f1e46c989aff42d9",
   "metadata": {
    "ExecuteTime": {
     "end_time": "2025-09-19T17:20:40.226246Z",
     "start_time": "2025-09-19T17:20:40.214736Z"
    }
   },
   "outputs": [],
   "source": [
    "def build_global_freqs(train_lf: pl.LazyFrame, test_lf: pl.LazyFrame) -> dict[str, pl.DataFrame]:\n",
    "    both = pl.concat([train_lf, test_lf])\n",
    "    # частоты по item_* (глобальные)\n",
    "    freq_cat  = both.select(\"item_cat_id\").group_by(\"item_cat_id\").agg(pl.len().alias(\"freq_item_cat\"))\n",
    "    freq_mcat = both.select(\"item_mcat_id\").group_by(\"item_mcat_id\").agg(pl.len().alias(\"freq_item_mcat\"))\n",
    "    freq_loc  = both.select(\"item_loc\").group_by(\"item_loc\").agg(pl.len().alias(\"freq_item_loc\"))\n",
    "    return {\"cat\": freq_cat.collect(streaming=True),\n",
    "            \"mcat\": freq_mcat.collect(streaming=True),\n",
    "            \"loc\": freq_loc.collect(streaming=True)}"
   ]
  },
  {
   "cell_type": "code",
   "execution_count": 6,
   "id": "84ab406e6905387d",
   "metadata": {
    "ExecuteTime": {
     "end_time": "2025-09-19T17:20:40.242278Z",
     "start_time": "2025-09-19T17:20:40.231510Z"
    }
   },
   "outputs": [],
   "source": [
    "def add_basic_feats(df: pl.DataFrame, cos_df: pl.DataFrame, freqs: dict[str, pl.DataFrame]) -> pl.DataFrame:\n",
    "    # косинус\n",
    "    df = df.join(cos_df, on=[\"query_id\",\"item_id\"], how=\"left\")\n",
    "\n",
    "    # совпадения категорий/локаций\n",
    "    df = df.with_columns([\n",
    "        (pl.col(\"query_cat\")==pl.col(\"item_cat_id\")).cast(pl.Int8).alias(\"same_cat\"),\n",
    "        (pl.col(\"query_mcat\")==pl.col(\"item_mcat_id\")).cast(pl.Int8).alias(\"same_mcat\"),\n",
    "        (pl.col(\"query_loc\")==pl.col(\"item_loc\")).cast(pl.Int8).alias(\"same_loc\"),\n",
    "    ])\n",
    "    df = df.with_columns([\n",
    "        (pl.col(\"same_cat\") & pl.col(\"same_mcat\") & pl.col(\"same_loc\")).cast(pl.Int8).alias(\"triple_match\"),\n",
    "        (pl.col(\"same_cat\") & pl.col(\"same_loc\")).cast(pl.Int8).alias(\"same_cat_loc\"),\n",
    "        (pl.col(\"query_mcat\").is_null()).cast(pl.Int8).alias(\"is_query_mcat_missing\"),\n",
    "    ])\n",
    "\n",
    "    # частоты (джойним глобальные)\n",
    "    df = df.join(freqs[\"cat\"],  on=\"item_cat_id\",  how=\"left\")\n",
    "    df = df.join(freqs[\"mcat\"], on=\"item_mcat_id\", how=\"left\")\n",
    "    df = df.join(freqs[\"loc\"],  on=\"item_loc\",     how=\"left\")\n",
    "    for c in [\"freq_item_cat\",\"freq_item_mcat\",\"freq_item_loc\"]:\n",
    "        if c in df.columns:\n",
    "            df = df.with_columns(pl.col(c).fill_null(0).cast(pl.Int32))\n",
    "\n",
    "    # цена: клип/лог/ранги/з-скор внутри запроса/медиана\n",
    "    p99 = float(df.select(pl.col(\"price\").quantile(0.99)).item())\n",
    "    df = df.with_columns([\n",
    "        pl.col(\"price\").clip(0, p99).alias(\"price_clip\"),\n",
    "        pl.col(\"price\").clip(0, p99).log1p().alias(\"price_log1p\"),\n",
    "        (pl.col(\"price\")==0).cast(pl.Int8).alias(\"price_is_zero\"),\n",
    "    ])\n",
    "    # пер-запросные агрегаты по цене\n",
    "    q_price_aggs = df.group_by(\"query_id\").agg([\n",
    "        pl.col(\"price_clip\").median().alias(\"q_price_median\"),\n",
    "        pl.col(\"price_clip\").mean().alias(\"q_price_mean\"),\n",
    "        pl.col(\"price_clip\").std(ddof=0).fill_null(0.0).alias(\"q_price_std\"),\n",
    "        pl.len().alias(\"n_items_in_query\"),\n",
    "        pl.col(\"cos_q_title\").max().alias(\"max_cos_in_query\"),\n",
    "    ])\n",
    "    df = df.join(q_price_aggs, on=\"query_id\", how=\"left\")\n",
    "    df = df.with_columns([\n",
    "        (pl.col(\"price_clip\") / (pl.col(\"q_price_median\")+1)).alias(\"price_vs_median_query\"),\n",
    "        ((pl.col(\"price_clip\") - pl.col(\"q_price_mean\"))/(pl.col(\"q_price_std\")+1e-6)).alias(\"price_z_in_query\"),\n",
    "        pl.col(\"price_clip\").rank(\"ordinal\").over(\"query_id\").alias(\"price_rank_in_query\"),\n",
    "        (pl.col(\"cos_q_title\") - pl.col(\"max_cos_in_query\")).alias(\"cos_minus_max\"),\n",
    "    ])\n",
    "\n",
    "    # поведенческие: conv -1 → NaN → заполнения/ранги/з-скор\n",
    "    df = df.with_columns([\n",
    "        (pl.col(\"item_query_click_conv\") != -1).alias(\"conv_known\"),\n",
    "        pl.when(pl.col(\"item_query_click_conv\")==-1).then(None).otherwise(pl.col(\"item_query_click_conv\")).alias(\"conv_raw\")\n",
    "    ])\n",
    "    q_conv_aggs = df.group_by(\"query_id\").agg([\n",
    "        pl.col(\"conv_raw\").mean().alias(\"q_conv_mean\"),\n",
    "        pl.col(\"conv_raw\").std(ddof=0).fill_null(0.0).alias(\"q_conv_std\"),\n",
    "    ])\n",
    "    df = df.join(q_conv_aggs, on=\"query_id\", how=\"left\")\n",
    "    df = df.with_columns([\n",
    "        pl.col(\"conv_raw\").fill_null(0.0).alias(\"conv_filled\"),\n",
    "        ((pl.col(\"conv_raw\") - pl.col(\"q_conv_mean\"))/(pl.col(\"q_conv_std\")+1e-6)).alias(\"conv_z_in_query\"),\n",
    "        pl.col(\"conv_raw\").fill_null(-1.0).rank(\"ordinal\").over(\"query_id\").alias(\"conv_rank_in_query\"),\n",
    "    ])\n",
    "\n",
    "    # интеракции\n",
    "    df = df.with_columns([\n",
    "        (pl.col(\"same_cat\") * pl.col(\"cos_q_title\")).alias(\"same_cat__cos\"),\n",
    "        (pl.col(\"same_loc\") * pl.col(\"cos_q_title\")).alias(\"same_loc__cos\"),\n",
    "        (pl.col(\"conv_filled\") * pl.col(\"cos_q_title\")).alias(\"conv__cos\"),\n",
    "        (pl.col(\"conv_filled\") * pl.col(\"same_loc\")).alias(\"conv__same_loc\"),\n",
    "        (pl.col(\"price_rank_in_query\") * pl.col(\"same_loc\")).alias(\"price_rank__same_loc\"),\n",
    "    ])\n",
    "\n",
    "    return df"
   ]
  },
  {
   "cell_type": "code",
   "execution_count": 7,
   "id": "f23d95701f65a4ac",
   "metadata": {
    "ExecuteTime": {
     "end_time": "2025-09-19T17:20:40.257796Z",
     "start_time": "2025-09-19T17:20:40.246279Z"
    }
   },
   "outputs": [],
   "source": [
    "# ---------- сборка train/test ----------\n",
    "\n",
    "train_lf = pl.scan_parquet(TRAIN_PATH)\n",
    "test_lf  = pl.scan_parquet(TEST_PATH)"
   ]
  },
  {
   "cell_type": "code",
   "execution_count": 8,
   "id": "2278237e11e3dc8a",
   "metadata": {
    "ExecuteTime": {
     "end_time": "2025-09-19T17:20:40.351674Z",
     "start_time": "2025-09-19T17:20:40.264302Z"
    }
   },
   "outputs": [
    {
     "name": "stderr",
     "output_type": "stream",
     "text": [
      "C:\\Users\\idine\\AppData\\Local\\Temp\\ipykernel_52368\\1592653758.py:7: DeprecationWarning: the `streaming` parameter was deprecated in 1.25.0; use `engine` instead.\n",
      "  return {\"cat\": freq_cat.collect(streaming=True),\n",
      "C:\\Users\\idine\\AppData\\Local\\Temp\\ipykernel_52368\\1592653758.py:8: DeprecationWarning: the `streaming` parameter was deprecated in 1.25.0; use `engine` instead.\n",
      "  \"mcat\": freq_mcat.collect(streaming=True),\n",
      "C:\\Users\\idine\\AppData\\Local\\Temp\\ipykernel_52368\\1592653758.py:9: DeprecationWarning: the `streaming` parameter was deprecated in 1.25.0; use `engine` instead.\n",
      "  \"loc\": freq_loc.collect(streaming=True)}\n"
     ]
    }
   ],
   "source": [
    "freqs = build_global_freqs(\n",
    "    train_lf.select([\"item_cat_id\",\"item_mcat_id\",\"item_loc\"]),\n",
    "    test_lf.select([\"item_cat_id\",\"item_mcat_id\",\"item_loc\"])\n",
    ")"
   ]
  },
  {
   "cell_type": "code",
   "execution_count": 9,
   "id": "3f10c2c6b0781291",
   "metadata": {
    "ExecuteTime": {
     "end_time": "2025-09-19T17:20:40.831679Z",
     "start_time": "2025-09-19T17:20:40.370909Z"
    }
   },
   "outputs": [
    {
     "name": "stderr",
     "output_type": "stream",
     "text": [
      "C:\\Users\\idine\\AppData\\Local\\Temp\\ipykernel_52368\\3863196330.py:1: DeprecationWarning: the `streaming` parameter was deprecated in 1.25.0; use `engine` instead.\n",
      "  test_base  = test_lf.collect(streaming=True)\n"
     ]
    }
   ],
   "source": [
    "test_base  = test_lf.collect(streaming=True)"
   ]
  },
  {
   "cell_type": "code",
   "execution_count": 10,
   "id": "1c551fda81963b32",
   "metadata": {
    "ExecuteTime": {
     "end_time": "2025-09-19T17:20:44.770358Z",
     "start_time": "2025-09-19T17:20:40.836681Z"
    }
   },
   "outputs": [
    {
     "name": "stderr",
     "output_type": "stream",
     "text": [
      "C:\\Users\\idine\\AppData\\Local\\Temp\\ipykernel_52368\\705027795.py:1: DeprecationWarning: the `streaming` parameter was deprecated in 1.25.0; use `engine` instead.\n",
      "  train_base = train_lf.collect(streaming=True)\n"
     ]
    }
   ],
   "source": [
    "train_base = train_lf.collect(streaming=True)"
   ]
  },
  {
   "cell_type": "code",
   "execution_count": 11,
   "id": "ca7d3f30ff585210",
   "metadata": {
    "ExecuteTime": {
     "end_time": "2025-09-19T17:20:45.030228Z",
     "start_time": "2025-09-19T17:20:44.834540Z"
    }
   },
   "outputs": [],
   "source": [
    "# текстовые фичи\n",
    "test_txt  = add_text_feats(test_base)"
   ]
  },
  {
   "cell_type": "code",
   "execution_count": 12,
   "id": "a88df18526c1b7ab",
   "metadata": {
    "ExecuteTime": {
     "end_time": "2025-09-19T17:20:49.045313Z",
     "start_time": "2025-09-19T17:20:45.035229Z"
    }
   },
   "outputs": [],
   "source": [
    "train_txt = add_text_feats(train_base)"
   ]
  },
  {
   "cell_type": "code",
   "execution_count": 13,
   "id": "b8370a428841b037",
   "metadata": {
    "ExecuteTime": {
     "end_time": "2025-09-19T17:20:49.153013Z",
     "start_time": "2025-09-19T17:20:49.063343Z"
    }
   },
   "outputs": [],
   "source": [
    "# косинусы\n",
    "train_cos = pl.read_parquet(TRAIN_COS)\n",
    "test_cos  = pl.read_parquet(TEST_COS)"
   ]
  },
  {
   "cell_type": "code",
   "execution_count": 14,
   "id": "534b7ed4a14d5f0f",
   "metadata": {
    "ExecuteTime": {
     "end_time": "2025-09-19T17:20:51.505776Z",
     "start_time": "2025-09-19T17:20:49.157013Z"
    }
   },
   "outputs": [],
   "source": [
    "# базовые + цена/поведение/интеракции/группы\n",
    "train_feats = add_basic_feats(train_txt, train_cos, freqs)\n",
    "test_feats  = add_basic_feats(test_txt,  test_cos,  freqs)"
   ]
  },
  {
   "cell_type": "code",
   "execution_count": 15,
   "id": "a941a9344b1dc2cb",
   "metadata": {
    "ExecuteTime": {
     "end_time": "2025-09-19T17:20:51.537900Z",
     "start_time": "2025-09-19T17:20:51.525816Z"
    }
   },
   "outputs": [
    {
     "name": "stdout",
     "output_type": "stream",
     "text": [
      "[train_feats] (7781790, 60)\n",
      "[test_feats ] (335348, 59)\n"
     ]
    }
   ],
   "source": [
    "print(\"[train_feats]\", train_feats.shape)\n",
    "print(\"[test_feats ]\", test_feats.shape)"
   ]
  },
  {
   "cell_type": "code",
   "execution_count": 16,
   "id": "1fdf746416f933c2",
   "metadata": {
    "ExecuteTime": {
     "end_time": "2025-09-19T17:20:51.553350Z",
     "start_time": "2025-09-19T17:20:51.548340Z"
    }
   },
   "outputs": [],
   "source": [
    "# train_feats.write_parquet(\"train_feats.parquet\", compression=\"zstd\")\n",
    "# test_feats.write_parquet(\"test_feats.parquet\", compression=\"zstd\")\n"
   ]
  },
  {
   "cell_type": "code",
   "execution_count": 17,
   "id": "269eeb0f32be6f31",
   "metadata": {
    "ExecuteTime": {
     "end_time": "2025-09-19T17:20:54.455866Z",
     "start_time": "2025-09-19T17:20:51.564861Z"
    }
   },
   "outputs": [],
   "source": [
    "# 1) COS: per-query mean/std через оконные функции\n",
    "for name in [\"train_feats\", \"test_feats\"]:\n",
    "    df = locals()[name]\n",
    "    df = df.with_columns([\n",
    "        pl.col(\"cos_q_title\").mean().over(\"query_id\").alias(\"q_cos_mean\"),\n",
    "        pl.col(\"cos_q_title\").std(ddof=0).fill_null(0.0).over(\"query_id\").alias(\"q_cos_std\"),\n",
    "    ])\n",
    "    # top-3 среднее: сортируем по cos убыв. внутри query, берём head(3).mean()\n",
    "    q_top3 = (\n",
    "        df.sort([\"query_id\",\"cos_q_title\"], descending=[False, True])\n",
    "          .group_by(\"query_id\")\n",
    "          .agg(pl.col(\"cos_q_title\").head(3).mean().alias(\"q_cos_top3_mean\"))\n",
    "    )\n",
    "    df = df.join(q_top3, on=\"query_id\", how=\"left\")\n",
    "    # производные cos-фичи (отдельным проходом)\n",
    "    df = df.with_columns([\n",
    "        ((pl.col(\"cos_q_title\") - pl.col(\"q_cos_mean\"))/(pl.col(\"q_cos_std\")+1e-6)).alias(\"cos_z_in_query\"),\n",
    "        pl.col(\"cos_q_title\").rank(method=\"ordinal\").over(\"query_id\").alias(\"cos_rank_in_query\"),\n",
    "        (pl.col(\"cos_q_title\") - pl.col(\"q_cos_top3_mean\")).alias(\"cos_gap_top3\"),\n",
    "    ])\n",
    "    # интеракции (после появления cos_z_in_query/Rank)\n",
    "    df = df.with_columns([\n",
    "        (pl.col(\"same_loc\").cast(pl.Float32) * pl.col(\"cos_q_title\")).alias(\"same_loc__cos\"),   # переопределение ок\n",
    "        (pl.col(\"same_cat\").cast(pl.Float32) * pl.col(\"cos_q_title\")).alias(\"same_cat__cos\"),   # переопределение ок\n",
    "        (pl.col(\"same_loc\").cast(pl.Float32) * pl.col(\"cos_z_in_query\")).alias(\"cosz__same_loc\"),\n",
    "        (pl.col(\"same_cat\").cast(pl.Float32) * pl.col(\"cos_rank_in_query\").cast(pl.Float32)).alias(\"cosrank__same_cat\"),\n",
    "    ])\n",
    "    locals()[name] = df"
   ]
  },
  {
   "cell_type": "code",
   "execution_count": 18,
   "id": "47a07b14b30b1025",
   "metadata": {
    "ExecuteTime": {
     "end_time": "2025-09-19T17:20:54.906331Z",
     "start_time": "2025-09-19T17:20:54.473883Z"
    }
   },
   "outputs": [],
   "source": [
    "# 2) PRICE: percent-rank по запросу и грубые бины (0..4)\n",
    "for name in [\"train_feats\", \"test_feats\"]:\n",
    "    df = locals()[name]\n",
    "\n",
    "    # шаг 1: служебные колонки ранга и размера пула\n",
    "    df = df.with_columns([\n",
    "        pl.col(\"price_clip\").rank(method=\"ordinal\").over(\"query_id\").alias(\"__r\"),\n",
    "        pl.len().over(\"query_id\").alias(\"__n\"),\n",
    "    ])\n",
    "\n",
    "    # шаг 2: сам percent-rank\n",
    "    df = df.with_columns([\n",
    "        (pl.col(\"__r\") / pl.col(\"__n\")).alias(\"price_percent_rank_in_query\"),\n",
    "    ])\n",
    "\n",
    "    # шаг 3: бины на основе percent-rank\n",
    "    df = df.with_columns([\n",
    "        (pl.col(\"price_percent_rank_in_query\") * 5)\n",
    "            .floor()\n",
    "            .clip(0, 4)\n",
    "            .cast(pl.Int8)\n",
    "            .alias(\"price_bucket5_in_query\"),\n",
    "    ])\n",
    "\n",
    "    # шаг 4: убрать служебные\n",
    "    df = df.drop([\"__r\", \"__n\"])\n",
    "\n",
    "    locals()[name] = df\n"
   ]
  },
  {
   "cell_type": "code",
   "execution_count": 19,
   "id": "dcba66fa6af14c5f",
   "metadata": {
    "ExecuteTime": {
     "end_time": "2025-09-19T17:22:28.710648Z",
     "start_time": "2025-09-19T17:22:02.528543Z"
    }
   },
   "outputs": [],
   "source": [
    "# 3) DESC: супер-быстрые прокси без токенизации/пересечений\n",
    "for name in [\"train_feats\", \"test_feats\"]:\n",
    "    df = locals()[name]\n",
    "\n",
    "    # Добавляем только если колонок ещё нет (чтобы код можно было запускать повторно)\n",
    "    need_desc = (\"item_description\" in df.columns) and (\"desc_char_len\" not in df.columns)\n",
    "\n",
    "    if need_desc:\n",
    "        df = df.with_columns([\n",
    "            # длина описания в символах (очень дёшево)\n",
    "            pl.col(\"item_description\").cast(pl.Utf8).fill_null(\"\").str.len_chars().alias(\"desc_char_len\"),\n",
    "            # бинарка: есть ли описание\n",
    "            (pl.col(\"item_description\").cast(pl.Utf8).fill_null(\"\") != \"\").cast(pl.Int8).alias(\"has_desc\"),\n",
    "        ])\n",
    "\n",
    "    locals()[name] = df\n"
   ]
  },
  {
   "cell_type": "code",
   "execution_count": 21,
   "id": "81953146fe16697",
   "metadata": {
    "ExecuteTime": {
     "end_time": "2025-09-19T17:23:05.484973Z",
     "start_time": "2025-09-19T17:23:05.427786Z"
    }
   },
   "outputs": [],
   "source": [
    "# 4) CONV: аккуратный клип p99 по train и применяем к обоим\n",
    "if \"conv_filled\" in train_feats.columns:\n",
    "    p99_conv = float(train_feats.select(pl.col(\"conv_filled\")).quantile(0.99).fill_null(0.0).item())\n",
    "    train_feats = train_feats.with_columns(pl.col(\"conv_filled\").clip(0, p99_conv).alias(\"conv_filled\"))\n",
    "    test_feats  = test_feats.with_columns(pl.col(\"conv_filled\").clip(0, p99_conv).alias(\"conv_filled\"))\n"
   ]
  },
  {
   "cell_type": "code",
   "execution_count": 22,
   "id": "d622a274d162286d",
   "metadata": {
    "ExecuteTime": {
     "end_time": "2025-09-19T17:24:11.466474Z",
     "start_time": "2025-09-19T17:23:18.127752Z"
    }
   },
   "outputs": [],
   "source": [
    "# 5) Сохраняем обновлённые parquet\n",
    "train_feats.write_parquet(\"train_feats2.parquet\", compression=\"zstd\")\n",
    "test_feats.write_parquet(\"test_feats2.parquet\", compression=\"zstd\")\n"
   ]
  },
  {
   "cell_type": "code",
   "execution_count": null,
   "id": "fa92d476488a78a3",
   "metadata": {},
   "outputs": [],
   "source": []
  }
 ],
 "metadata": {
  "kernelspec": {
   "display_name": "Python 3 (ipykernel)",
   "language": "python",
   "name": "python3"
  },
  "language_info": {
   "codemirror_mode": {
    "name": "ipython",
    "version": 3
   },
   "file_extension": ".py",
   "mimetype": "text/x-python",
   "name": "python",
   "nbconvert_exporter": "python",
   "pygments_lexer": "ipython3",
   "version": "3.10.11"
  }
 },
 "nbformat": 4,
 "nbformat_minor": 5
}
