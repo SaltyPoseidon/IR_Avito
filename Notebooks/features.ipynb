{
 "cells": [
  {
   "cell_type": "code",
   "id": "initial_id",
   "metadata": {
    "collapsed": true,
    "ExecuteTime": {
     "end_time": "2025-09-19T14:24:13.076468Z",
     "start_time": "2025-09-19T14:24:12.354305Z"
    }
   },
   "source": [
    "import os\n",
    "import polars as pl\n",
    "import numpy as np"
   ],
   "outputs": [],
   "execution_count": 1
  },
  {
   "metadata": {
    "ExecuteTime": {
     "end_time": "2025-09-19T14:25:12.740482Z",
     "start_time": "2025-09-19T14:25:12.734456Z"
    }
   },
   "cell_type": "code",
   "source": [
    "BASE_DIR = os.path.dirname(os.getcwd())\n",
    "DATA_DIR = os.path.join(BASE_DIR, \"Data\")\n",
    "TRAIN_PATH = os.path.join(DATA_DIR, \"train-dset.parquet\")\n",
    "TEST_PATH  = os.path.join(DATA_DIR, \"test-dset-small.parquet\")\n",
    "\n",
    "TRAIN_COS = os.path.join(DATA_DIR, \"train_cos.parquet\")\n",
    "TEST_COS  = os.path.join(DATA_DIR, \"test_cos.parquet\")"
   ],
   "id": "86618741f0d413f3",
   "outputs": [],
   "execution_count": 2
  },
  {
   "metadata": {
    "ExecuteTime": {
     "end_time": "2025-09-19T14:25:24.610041Z",
     "start_time": "2025-09-19T14:25:24.596019Z"
    }
   },
   "cell_type": "code",
   "source": [
    "def tokenize(col: str) -> pl.Expr:\n",
    "    # простая нормализация: lower, убрать небукв/цифр, свести повторные пробелы, split\n",
    "    return (\n",
    "        pl.col(col).cast(pl.Utf8).fill_null(\"\")\n",
    "        .str.to_lowercase()\n",
    "        .str.replace_all(r\"ё\", \"е\")\n",
    "        .str.replace_all(r\"[^0-9\\p{L}]+\", \" \")\n",
    "        .str.strip_chars()\n",
    "        .str.split(\" \")\n",
    "        .list.eval(pl.element().filter(pl.element() != \"\"))\n",
    "    )"
   ],
   "id": "e912e16a6a472e9",
   "outputs": [],
   "execution_count": 3
  },
  {
   "metadata": {
    "ExecuteTime": {
     "end_time": "2025-09-19T14:25:33.338265Z",
     "start_time": "2025-09-19T14:25:33.325009Z"
    }
   },
   "cell_type": "code",
   "source": [
    "def add_text_feats(df: pl.DataFrame) -> pl.DataFrame:\n",
    "    df = df.with_columns([\n",
    "        tokenize(\"query_text\").alias(\"query_tokens\"),\n",
    "        tokenize(\"item_title\").alias(\"title_tokens\"),\n",
    "    ])\n",
    "    df = df.with_columns([\n",
    "        pl.col(\"query_tokens\").list.len().alias(\"query_len\"),\n",
    "        pl.col(\"title_tokens\").list.len().alias(\"title_len\"),\n",
    "    ])\n",
    "    # пересечения и нормализованные меры\n",
    "    df = df.with_columns([\n",
    "        pl.col(\"query_tokens\").list.set_intersection(pl.col(\"title_tokens\")).list.len().alias(\"overlap_q_title\"),\n",
    "    ])\n",
    "    df = df.with_columns([\n",
    "        (pl.col(\"overlap_q_title\") / (pl.col(\"query_len\")+pl.col(\"title_len\")-pl.col(\"overlap_q_title\")+1e-6)).alias(\"jaccard_q_title\"),\n",
    "        (2*pl.col(\"overlap_q_title\") / (pl.col(\"query_len\")+pl.col(\"title_len\")+1e-6)).alias(\"dice_q_title\"),\n",
    "        (pl.col(\"overlap_q_title\") / (pl.col(\"query_len\")+1)).alias(\"ratio_overlap_title\"),\n",
    "        (pl.col(\"title_len\") - pl.col(\"query_len\")).abs().alias(\"abs_len_diff\"),\n",
    "    ])\n",
    "    # строгая проверка вхождения строки\n",
    "    norm_q = (\n",
    "        pl.col(\"query_text\").cast(pl.Utf8).fill_null(\"\").str.to_lowercase()\n",
    "        .str.replace_all(r\"ё\",\"е\").str.replace_all(r\"[^0-9\\p{L}]+\",\" \").str.strip_chars()\n",
    "    )\n",
    "    norm_t = (\n",
    "        pl.col(\"item_title\").cast(pl.Utf8).fill_null(\"\").str.to_lowercase()\n",
    "        .str.replace_all(r\"ё\",\"е\").str.replace_all(r\"[^0-9\\p{L}]+\",\" \").str.strip_chars()\n",
    "    )\n",
    "    df = df.with_columns([\n",
    "        norm_q.alias(\"__qnorm\"), norm_t.alias(\"__tnorm\"),\n",
    "        (pl.col(\"query_text\").fill_null(\"\") != \"\").alias(\"has_query_text\"),\n",
    "        (pl.col(\"item_title\").fill_null(\"\") != \"\").alias(\"has_title\"),\n",
    "    ]).with_columns([\n",
    "        pl.col(\"__tnorm\").str.contains(pl.col(\"__qnorm\")).fill_null(False).alias(\"title_contains_query\")\n",
    "    ]).drop([\"__qnorm\",\"__tnorm\"])\n",
    "    return df"
   ],
   "id": "39982c7df025d85c",
   "outputs": [],
   "execution_count": 4
  },
  {
   "metadata": {
    "ExecuteTime": {
     "end_time": "2025-09-19T14:25:39.171332Z",
     "start_time": "2025-09-19T14:25:39.158811Z"
    }
   },
   "cell_type": "code",
   "source": [
    "def build_global_freqs(train_lf: pl.LazyFrame, test_lf: pl.LazyFrame) -> dict[str, pl.DataFrame]:\n",
    "    both = pl.concat([train_lf, test_lf])\n",
    "    # частоты по item_* (глобальные)\n",
    "    freq_cat  = both.select(\"item_cat_id\").group_by(\"item_cat_id\").agg(pl.len().alias(\"freq_item_cat\"))\n",
    "    freq_mcat = both.select(\"item_mcat_id\").group_by(\"item_mcat_id\").agg(pl.len().alias(\"freq_item_mcat\"))\n",
    "    freq_loc  = both.select(\"item_loc\").group_by(\"item_loc\").agg(pl.len().alias(\"freq_item_loc\"))\n",
    "    return {\"cat\": freq_cat.collect(streaming=True),\n",
    "            \"mcat\": freq_mcat.collect(streaming=True),\n",
    "            \"loc\": freq_loc.collect(streaming=True)}"
   ],
   "id": "f1e46c989aff42d9",
   "outputs": [],
   "execution_count": 5
  },
  {
   "metadata": {
    "ExecuteTime": {
     "end_time": "2025-09-19T14:29:42.147601Z",
     "start_time": "2025-09-19T14:29:42.126566Z"
    }
   },
   "cell_type": "code",
   "source": [
    "def add_basic_feats(df: pl.DataFrame, cos_df: pl.DataFrame, freqs: dict[str, pl.DataFrame]) -> pl.DataFrame:\n",
    "    # косинус\n",
    "    df = df.join(cos_df, on=[\"query_id\",\"item_id\"], how=\"left\")\n",
    "\n",
    "    # совпадения категорий/локаций\n",
    "    df = df.with_columns([\n",
    "        (pl.col(\"query_cat\")==pl.col(\"item_cat_id\")).cast(pl.Int8).alias(\"same_cat\"),\n",
    "        (pl.col(\"query_mcat\")==pl.col(\"item_mcat_id\")).cast(pl.Int8).alias(\"same_mcat\"),\n",
    "        (pl.col(\"query_loc\")==pl.col(\"item_loc\")).cast(pl.Int8).alias(\"same_loc\"),\n",
    "    ])\n",
    "    df = df.with_columns([\n",
    "        (pl.col(\"same_cat\") & pl.col(\"same_mcat\") & pl.col(\"same_loc\")).cast(pl.Int8).alias(\"triple_match\"),\n",
    "        (pl.col(\"same_cat\") & pl.col(\"same_loc\")).cast(pl.Int8).alias(\"same_cat_loc\"),\n",
    "        (pl.col(\"query_mcat\").is_null()).cast(pl.Int8).alias(\"is_query_mcat_missing\"),\n",
    "    ])\n",
    "\n",
    "    # частоты (джойним глобальные)\n",
    "    df = df.join(freqs[\"cat\"],  on=\"item_cat_id\",  how=\"left\")\n",
    "    df = df.join(freqs[\"mcat\"], on=\"item_mcat_id\", how=\"left\")\n",
    "    df = df.join(freqs[\"loc\"],  on=\"item_loc\",     how=\"left\")\n",
    "    for c in [\"freq_item_cat\",\"freq_item_mcat\",\"freq_item_loc\"]:\n",
    "        if c in df.columns:\n",
    "            df = df.with_columns(pl.col(c).fill_null(0).cast(pl.Int32))\n",
    "\n",
    "    # цена: клип/лог/ранги/з-скор внутри запроса/медиана\n",
    "    p99 = float(df.select(pl.col(\"price\").quantile(0.99)).item())\n",
    "    df = df.with_columns([\n",
    "        pl.col(\"price\").clip(0, p99).alias(\"price_clip\"),\n",
    "        pl.col(\"price\").clip(0, p99).log1p().alias(\"price_log1p\"),\n",
    "        (pl.col(\"price\")==0).cast(pl.Int8).alias(\"price_is_zero\"),\n",
    "    ])\n",
    "    # пер-запросные агрегаты по цене\n",
    "    q_price_aggs = df.group_by(\"query_id\").agg([\n",
    "        pl.col(\"price_clip\").median().alias(\"q_price_median\"),\n",
    "        pl.col(\"price_clip\").mean().alias(\"q_price_mean\"),\n",
    "        pl.col(\"price_clip\").std(ddof=0).fill_null(0.0).alias(\"q_price_std\"),\n",
    "        pl.len().alias(\"n_items_in_query\"),\n",
    "        pl.col(\"cos_q_title\").max().alias(\"max_cos_in_query\"),\n",
    "    ])\n",
    "    df = df.join(q_price_aggs, on=\"query_id\", how=\"left\")\n",
    "    df = df.with_columns([\n",
    "        (pl.col(\"price_clip\") / (pl.col(\"q_price_median\")+1)).alias(\"price_vs_median_query\"),\n",
    "        ((pl.col(\"price_clip\") - pl.col(\"q_price_mean\"))/(pl.col(\"q_price_std\")+1e-6)).alias(\"price_z_in_query\"),\n",
    "        pl.col(\"price_clip\").rank(\"ordinal\").over(\"query_id\").alias(\"price_rank_in_query\"),\n",
    "        (pl.col(\"cos_q_title\") - pl.col(\"max_cos_in_query\")).alias(\"cos_minus_max\"),\n",
    "    ])\n",
    "\n",
    "    # поведенческие: conv -1 → NaN → заполнения/ранги/з-скор\n",
    "    df = df.with_columns([\n",
    "        (pl.col(\"item_query_click_conv\") != -1).alias(\"conv_known\"),\n",
    "        pl.when(pl.col(\"item_query_click_conv\")==-1).then(None).otherwise(pl.col(\"item_query_click_conv\")).alias(\"conv_raw\")\n",
    "    ])\n",
    "    q_conv_aggs = df.group_by(\"query_id\").agg([\n",
    "        pl.col(\"conv_raw\").mean().alias(\"q_conv_mean\"),\n",
    "        pl.col(\"conv_raw\").std(ddof=0).fill_null(0.0).alias(\"q_conv_std\"),\n",
    "    ])\n",
    "    df = df.join(q_conv_aggs, on=\"query_id\", how=\"left\")\n",
    "    df = df.with_columns([\n",
    "        pl.col(\"conv_raw\").fill_null(0.0).alias(\"conv_filled\"),\n",
    "        ((pl.col(\"conv_raw\") - pl.col(\"q_conv_mean\"))/(pl.col(\"q_conv_std\")+1e-6)).alias(\"conv_z_in_query\"),\n",
    "        pl.col(\"conv_raw\").fill_null(-1.0).rank(\"ordinal\").over(\"query_id\").alias(\"conv_rank_in_query\"),\n",
    "    ])\n",
    "\n",
    "    # интеракции\n",
    "    df = df.with_columns([\n",
    "        (pl.col(\"same_cat\") * pl.col(\"cos_q_title\")).alias(\"same_cat__cos\"),\n",
    "        (pl.col(\"same_loc\") * pl.col(\"cos_q_title\")).alias(\"same_loc__cos\"),\n",
    "        (pl.col(\"conv_filled\") * pl.col(\"cos_q_title\")).alias(\"conv__cos\"),\n",
    "        (pl.col(\"conv_filled\") * pl.col(\"same_loc\")).alias(\"conv__same_loc\"),\n",
    "        (pl.col(\"price_rank_in_query\") * pl.col(\"same_loc\")).alias(\"price_rank__same_loc\"),\n",
    "    ])\n",
    "\n",
    "    return df"
   ],
   "id": "84ab406e6905387d",
   "outputs": [],
   "execution_count": 15
  },
  {
   "metadata": {
    "ExecuteTime": {
     "end_time": "2025-09-19T14:25:56.337837Z",
     "start_time": "2025-09-19T14:25:56.325811Z"
    }
   },
   "cell_type": "code",
   "source": [
    "# ---------- сборка train/test ----------\n",
    "\n",
    "train_lf = pl.scan_parquet(TRAIN_PATH)\n",
    "test_lf  = pl.scan_parquet(TEST_PATH)"
   ],
   "id": "f23d95701f65a4ac",
   "outputs": [],
   "execution_count": 7
  },
  {
   "metadata": {
    "ExecuteTime": {
     "end_time": "2025-09-19T14:26:01.843078Z",
     "start_time": "2025-09-19T14:26:01.736838Z"
    }
   },
   "cell_type": "code",
   "source": [
    "freqs = build_global_freqs(\n",
    "    train_lf.select([\"item_cat_id\",\"item_mcat_id\",\"item_loc\"]),\n",
    "    test_lf.select([\"item_cat_id\",\"item_mcat_id\",\"item_loc\"])\n",
    ")"
   ],
   "id": "2278237e11e3dc8a",
   "outputs": [
    {
     "name": "stderr",
     "output_type": "stream",
     "text": [
      "C:\\Users\\idine\\AppData\\Local\\Temp\\ipykernel_49932\\1592653758.py:7: DeprecationWarning: the `streaming` parameter was deprecated in 1.25.0; use `engine` instead.\n",
      "  return {\"cat\": freq_cat.collect(streaming=True),\n",
      "C:\\Users\\idine\\AppData\\Local\\Temp\\ipykernel_49932\\1592653758.py:8: DeprecationWarning: the `streaming` parameter was deprecated in 1.25.0; use `engine` instead.\n",
      "  \"mcat\": freq_mcat.collect(streaming=True),\n",
      "C:\\Users\\idine\\AppData\\Local\\Temp\\ipykernel_49932\\1592653758.py:9: DeprecationWarning: the `streaming` parameter was deprecated in 1.25.0; use `engine` instead.\n",
      "  \"loc\": freq_loc.collect(streaming=True)}\n"
     ]
    }
   ],
   "execution_count": 8
  },
  {
   "metadata": {
    "ExecuteTime": {
     "end_time": "2025-09-19T14:26:25.102569Z",
     "start_time": "2025-09-19T14:26:24.608800Z"
    }
   },
   "cell_type": "code",
   "source": "test_base  = test_lf.collect(streaming=True)",
   "id": "3f10c2c6b0781291",
   "outputs": [
    {
     "name": "stderr",
     "output_type": "stream",
     "text": [
      "C:\\Users\\idine\\AppData\\Local\\Temp\\ipykernel_49932\\3863196330.py:1: DeprecationWarning: the `streaming` parameter was deprecated in 1.25.0; use `engine` instead.\n",
      "  test_base  = test_lf.collect(streaming=True)\n"
     ]
    }
   ],
   "execution_count": 9
  },
  {
   "metadata": {
    "ExecuteTime": {
     "end_time": "2025-09-19T14:26:37.283936Z",
     "start_time": "2025-09-19T14:26:31.936712Z"
    }
   },
   "cell_type": "code",
   "source": "train_base = train_lf.collect(streaming=True)",
   "id": "1c551fda81963b32",
   "outputs": [
    {
     "name": "stderr",
     "output_type": "stream",
     "text": [
      "C:\\Users\\idine\\AppData\\Local\\Temp\\ipykernel_49932\\705027795.py:1: DeprecationWarning: the `streaming` parameter was deprecated in 1.25.0; use `engine` instead.\n",
      "  train_base = train_lf.collect(streaming=True)\n"
     ]
    }
   ],
   "execution_count": 10
  },
  {
   "metadata": {
    "ExecuteTime": {
     "end_time": "2025-09-19T14:26:54.265589Z",
     "start_time": "2025-09-19T14:26:53.973178Z"
    }
   },
   "cell_type": "code",
   "source": [
    "# текстовые фичи\n",
    "test_txt  = add_text_feats(test_base)"
   ],
   "id": "ca7d3f30ff585210",
   "outputs": [],
   "execution_count": 11
  },
  {
   "metadata": {
    "ExecuteTime": {
     "end_time": "2025-09-19T14:27:00.830821Z",
     "start_time": "2025-09-19T14:26:54.778768Z"
    }
   },
   "cell_type": "code",
   "source": "train_txt = add_text_feats(train_base)",
   "id": "a88df18526c1b7ab",
   "outputs": [],
   "execution_count": 12
  },
  {
   "metadata": {
    "ExecuteTime": {
     "end_time": "2025-09-19T14:27:10.149565Z",
     "start_time": "2025-09-19T14:27:10.058235Z"
    }
   },
   "cell_type": "code",
   "source": [
    "# косинусы\n",
    "train_cos = pl.read_parquet(TRAIN_COS)\n",
    "test_cos  = pl.read_parquet(TEST_COS)"
   ],
   "id": "b8370a428841b037",
   "outputs": [],
   "execution_count": 13
  },
  {
   "metadata": {
    "ExecuteTime": {
     "end_time": "2025-09-19T14:29:51.334939Z",
     "start_time": "2025-09-19T14:29:45.875449Z"
    }
   },
   "cell_type": "code",
   "source": [
    "# базовые + цена/поведение/интеракции/группы\n",
    "train_feats = add_basic_feats(train_txt, train_cos, freqs)\n",
    "test_feats  = add_basic_feats(test_txt,  test_cos,  freqs)"
   ],
   "id": "534b7ed4a14d5f0f",
   "outputs": [],
   "execution_count": 16
  },
  {
   "metadata": {
    "ExecuteTime": {
     "end_time": "2025-09-19T14:30:10.254173Z",
     "start_time": "2025-09-19T14:30:10.240655Z"
    }
   },
   "cell_type": "code",
   "source": [
    "print(\"[train_feats]\", train_feats.shape)\n",
    "print(\"[test_feats ]\", test_feats.shape)"
   ],
   "id": "a941a9344b1dc2cb",
   "outputs": [
    {
     "name": "stdout",
     "output_type": "stream",
     "text": [
      "[train_feats] (7781790, 60)\n",
      "[test_feats ] (335348, 59)\n"
     ]
    }
   ],
   "execution_count": 17
  },
  {
   "metadata": {
    "ExecuteTime": {
     "end_time": "2025-09-19T14:38:03.204843Z",
     "start_time": "2025-09-19T14:37:16.500905Z"
    }
   },
   "cell_type": "code",
   "source": [
    "train_feats.write_parquet(\"train_feats.parquet\", compression=\"zstd\")\n",
    "test_feats.write_parquet(\"test_feats.parquet\", compression=\"zstd\")\n"
   ],
   "id": "1fdf746416f933c2",
   "outputs": [],
   "execution_count": 18
  },
  {
   "metadata": {},
   "cell_type": "code",
   "outputs": [],
   "execution_count": null,
   "source": "",
   "id": "269eeb0f32be6f31"
  }
 ],
 "metadata": {
  "kernelspec": {
   "display_name": "Python 3",
   "language": "python",
   "name": "python3"
  },
  "language_info": {
   "codemirror_mode": {
    "name": "ipython",
    "version": 2
   },
   "file_extension": ".py",
   "mimetype": "text/x-python",
   "name": "python",
   "nbconvert_exporter": "python",
   "pygments_lexer": "ipython2",
   "version": "2.7.6"
  }
 },
 "nbformat": 4,
 "nbformat_minor": 5
}
