{
 "cells": [
  {
   "cell_type": "code",
   "id": "initial_id",
   "metadata": {
    "collapsed": true,
    "ExecuteTime": {
     "end_time": "2025-09-19T14:46:22.027385Z",
     "start_time": "2025-09-19T14:46:22.016152Z"
    }
   },
   "source": "# # 03 — Обучение LightGBM реранкера (lambdarank, ndcg@10)",
   "outputs": [],
   "execution_count": 1
  },
  {
   "metadata": {
    "ExecuteTime": {
     "end_time": "2025-09-19T14:46:35.624143Z",
     "start_time": "2025-09-19T14:46:27.371375Z"
    }
   },
   "cell_type": "code",
   "source": [
    "import os\n",
    "import json\n",
    "import polars as pl\n",
    "import numpy as np\n",
    "import lightgbm as lgb\n",
    "from sklearn.model_selection import GroupKFold\n",
    "from typing import List\n",
    "\n",
    "SEED = 42\n",
    "np.random.seed(SEED)"
   ],
   "id": "6379520a967fef43",
   "outputs": [],
   "execution_count": 2
  },
  {
   "metadata": {
    "ExecuteTime": {
     "end_time": "2025-09-19T14:49:36.091527Z",
     "start_time": "2025-09-19T14:49:36.085522Z"
    }
   },
   "cell_type": "code",
   "source": [
    "# ----- Пути -----\n",
    "\n",
    "BASE_DIR = os.path.dirname(os.getcwd())\n",
    "DATA_DIR = os.path.join(BASE_DIR, \"Data\")\n",
    "TRAIN_PATH = os.path.join(DATA_DIR, \"train-dset.parquet\")\n",
    "TEST_PATH  = os.path.join(DATA_DIR, \"test-dset-small.parquet\")\n",
    "\n",
    "TRAIN_COS = os.path.join(DATA_DIR, \"train_cos.parquet\")\n",
    "TEST_COS  = os.path.join(DATA_DIR, \"test_cos.parquet\")\n",
    "\n",
    "TRAIN_FEATS_PATH = os.path.join(DATA_DIR, \"train_feats.parquet\")\n",
    "TEST_FEATS_PATH  = os.path.join(DATA_DIR, \"test_feats.parquet\")\n",
    "\n",
    "SUBMISSION_PATH  = \"../solution.csv\"\n",
    "MODEL_TXT_PATH   = \"lgbm_ranker.txt\"\n",
    "MODEL_PKL_PATH   = \"lgbm_ranker.pkl\""
   ],
   "id": "606ff1bdcf0fc1cd",
   "outputs": [],
   "execution_count": 4
  },
  {
   "metadata": {
    "ExecuteTime": {
     "end_time": "2025-09-19T14:49:37.480923Z",
     "start_time": "2025-09-19T14:49:37.474923Z"
    }
   },
   "cell_type": "code",
   "source": [
    "# ## 1) Загрузка и базовые проверки\n",
    "\n",
    "assert os.path.exists(TRAIN_FEATS_PATH), f\"Не найден {TRAIN_FEATS_PATH}\"\n",
    "assert os.path.exists(TEST_FEATS_PATH), f\"Не найден {TEST_FEATS_PATH}\""
   ],
   "id": "3483c2c9809006d6",
   "outputs": [],
   "execution_count": 5
  },
  {
   "metadata": {
    "ExecuteTime": {
     "end_time": "2025-09-19T14:50:03.079536Z",
     "start_time": "2025-09-19T14:49:46.497481Z"
    }
   },
   "cell_type": "code",
   "source": [
    "train_feats = pl.read_parquet(TRAIN_FEATS_PATH)\n",
    "test_feats  = pl.read_parquet(TEST_FEATS_PATH)"
   ],
   "id": "fd71801613ff5e4d",
   "outputs": [],
   "execution_count": 6
  },
  {
   "metadata": {
    "ExecuteTime": {
     "end_time": "2025-09-19T14:50:26.128467Z",
     "start_time": "2025-09-19T14:50:26.114955Z"
    }
   },
   "cell_type": "code",
   "source": [
    "print(\"[load] train_feats:\", train_feats.shape)\n",
    "print(\"[load] test_feats :\", test_feats.shape)"
   ],
   "id": "598958b0b0c264d8",
   "outputs": [
    {
     "name": "stdout",
     "output_type": "stream",
     "text": [
      "[load] train_feats: (7781790, 60)\n",
      "[load] test_feats : (335348, 59)\n"
     ]
    }
   ],
   "execution_count": 7
  },
  {
   "metadata": {
    "ExecuteTime": {
     "end_time": "2025-09-19T14:50:40.839998Z",
     "start_time": "2025-09-19T14:50:40.827484Z"
    }
   },
   "cell_type": "code",
   "source": [
    "# ## 2) Описание набора фичей и колонок\n",
    "\n",
    "FEATURES = [\n",
    "    # эмбеддинги\n",
    "    \"cos_q_title\",\n",
    "\n",
    "    # тексты\n",
    "    \"query_len\", \"title_len\", \"abs_len_diff\",\n",
    "    \"overlap_q_title\", \"jaccard_q_title\", \"dice_q_title\", \"ratio_overlap_title\",\n",
    "    \"title_contains_query\", \"has_query_text\", \"has_title\",\n",
    "\n",
    "    # категории/локации\n",
    "    \"same_cat\", \"same_mcat\", \"same_loc\", \"same_cat_loc\", \"triple_match\",\n",
    "    \"freq_item_cat\", \"freq_item_mcat\", \"freq_item_loc\", \"is_query_mcat_missing\",\n",
    "\n",
    "    # цена\n",
    "    \"price_clip\", \"price_log1p\", \"price_rank_in_query\", \"price_z_in_query\", \"price_is_zero\", \"price_vs_median_query\",\n",
    "\n",
    "    # поведенческие\n",
    "    \"conv_known\", \"conv_filled\", \"conv_z_in_query\", \"conv_rank_in_query\",\n",
    "\n",
    "    # групповые\n",
    "    \"n_items_in_query\", \"max_cos_in_query\", \"cos_minus_max\",\n",
    "\n",
    "    # интеракции\n",
    "    \"same_cat__cos\", \"same_loc__cos\", \"conv__cos\", \"conv__same_loc\", \"price_rank__same_loc\",\n",
    "]\n"
   ],
   "id": "8174236fbd51dc9d",
   "outputs": [],
   "execution_count": 8
  },
  {
   "metadata": {
    "ExecuteTime": {
     "end_time": "2025-09-19T14:50:49.614418Z",
     "start_time": "2025-09-19T14:50:49.601902Z"
    }
   },
   "cell_type": "code",
   "source": [
    "TARGET = \"item_contact\"\n",
    "GROUP  = \"query_id\"\n",
    "ID_COLS = [\"query_id\",\"item_id\"]"
   ],
   "id": "40af8885290ac68e",
   "outputs": [],
   "execution_count": 9
  },
  {
   "metadata": {
    "ExecuteTime": {
     "end_time": "2025-09-19T14:50:57.300002Z",
     "start_time": "2025-09-19T14:50:57.286892Z"
    }
   },
   "cell_type": "code",
   "source": [
    "# Проверим, что все фичи есть\n",
    "missing_cols = [c for c in FEATURES + [TARGET, GROUP] if c not in train_feats.columns]\n",
    "assert not missing_cols, f\"В train_feats нет колонок: {missing_cols}\""
   ],
   "id": "e5e360aa1b0bd8e4",
   "outputs": [],
   "execution_count": 10
  },
  {
   "metadata": {
    "ExecuteTime": {
     "end_time": "2025-09-19T14:51:02.412904Z",
     "start_time": "2025-09-19T14:51:02.405870Z"
    }
   },
   "cell_type": "code",
   "source": [
    "missing_test = [c for c in FEATURES + ID_COLS if c not in test_feats.columns]\n",
    "assert not missing_test, f\"В test_feats нет колонок: {missing_test}\""
   ],
   "id": "9147c7056d7aa05",
   "outputs": [],
   "execution_count": 11
  },
  {
   "metadata": {
    "ExecuteTime": {
     "end_time": "2025-09-19T15:04:50.181851Z",
     "start_time": "2025-09-19T15:04:50.166307Z"
    }
   },
   "cell_type": "code",
   "source": [
    "def sanitize_features(df: pl.DataFrame, features: list[str]) -> pl.DataFrame:\n",
    "    fixes = []\n",
    "    for c in features:\n",
    "        if c not in df.columns:\n",
    "            continue\n",
    "        dt = df.schema[c]\n",
    "        if dt in (pl.Float32, pl.Float64):\n",
    "            fixes.append(\n",
    "                pl.when(pl.col(c).is_finite()).then(pl.col(c)).otherwise(0.0)\n",
    "                  .fill_null(0.0).cast(pl.Float32).alias(c)\n",
    "            )\n",
    "        elif dt == pl.Boolean:\n",
    "            fixes.append(pl.col(c).cast(pl.Int8).fill_null(0).alias(c))\n",
    "        elif dt.is_integer():\n",
    "            fixes.append(pl.col(c).fill_null(0).alias(c))\n",
    "        else:\n",
    "            fixes.append(pl.col(c).cast(pl.Float32).fill_null(0.0).alias(c))\n",
    "    return df.with_columns(fixes)"
   ],
   "id": "e44bcc65ce1dd3af",
   "outputs": [],
   "execution_count": 14
  },
  {
   "metadata": {
    "ExecuteTime": {
     "end_time": "2025-09-19T15:05:01.317461Z",
     "start_time": "2025-09-19T15:05:01.302430Z"
    }
   },
   "cell_type": "code",
   "source": [
    "def prepare_matrix(df: pl.DataFrame, features: List[str]) -> np.ndarray:\n",
    "    return df.select([pl.col(c).cast(pl.Float32) for c in features]).fill_null(0.0).to_numpy()"
   ],
   "id": "8a82e00af41aaa7c",
   "outputs": [],
   "execution_count": 16
  },
  {
   "metadata": {
    "ExecuteTime": {
     "end_time": "2025-09-19T15:05:08.440822Z",
     "start_time": "2025-09-19T15:05:08.316292Z"
    }
   },
   "cell_type": "code",
   "source": [
    "# очистим train/test\n",
    "train_feats = sanitize_features(train_feats, FEATURES + [TARGET, GROUP])\n",
    "test_feats  = sanitize_features(test_feats,  FEATURES + ID_COLS)"
   ],
   "id": "518dcd2221acc0a9",
   "outputs": [],
   "execution_count": 17
  },
  {
   "metadata": {
    "ExecuteTime": {
     "end_time": "2025-09-19T15:05:14.871147Z",
     "start_time": "2025-09-19T15:05:14.341207Z"
    }
   },
   "cell_type": "code",
   "source": [
    "# соберём матрицы и цели\n",
    "y = train_feats[TARGET].to_numpy()\n",
    "groups_vec = train_feats[\"query_id\"].to_numpy()\n",
    "X = prepare_matrix(train_feats, FEATURES)\n",
    "X_test = prepare_matrix(test_feats, FEATURES)"
   ],
   "id": "34498384fb04f1cc",
   "outputs": [],
   "execution_count": 18
  },
  {
   "metadata": {
    "ExecuteTime": {
     "end_time": "2025-09-19T15:05:22.009431Z",
     "start_time": "2025-09-19T15:05:21.995437Z"
    }
   },
   "cell_type": "code",
   "source": "print(\"[matrix] X:\", X.shape, \"y:\", y.shape, \"X_test:\", X_test.shape)",
   "id": "60061effec6eb7c0",
   "outputs": [
    {
     "name": "stdout",
     "output_type": "stream",
     "text": [
      "[matrix] X: (7781790, 38) y: (7781790,) X_test: (335348, 38)\n"
     ]
    }
   ],
   "execution_count": 19
  },
  {
   "metadata": {
    "ExecuteTime": {
     "end_time": "2025-09-19T15:08:16.103150Z",
     "start_time": "2025-09-19T15:08:16.088642Z"
    }
   },
   "cell_type": "code",
   "source": [
    "# ## 4) Hold-out сплит по query_id и обучение (быстро)\n",
    "\n",
    "import numpy as np\n",
    "import lightgbm as lgb\n",
    "from tqdm.auto import tqdm\n",
    "from lightgbm.callback import CallbackEnv\n",
    "\n",
    "VAL_FRACTION = 0.1   # 10% запросов в валидацию\n",
    "SEED = 42\n",
    "USE_GPU = True\n",
    "\n",
    "rng = np.random.RandomState(SEED)"
   ],
   "id": "cd213017b4ab2c51",
   "outputs": [],
   "execution_count": 21
  },
  {
   "metadata": {
    "ExecuteTime": {
     "end_time": "2025-09-19T15:08:25.516301Z",
     "start_time": "2025-09-19T15:08:24.682775Z"
    }
   },
   "cell_type": "code",
   "source": [
    "# --- 4.1 Сплит по уникальным query_id ---\n",
    "uniq_q = np.unique(groups_vec)\n",
    "rng.shuffle(uniq_q)\n",
    "n_val = max(1, int(len(uniq_q) * VAL_FRACTION))\n",
    "val_q = set(uniq_q[:n_val])\n",
    "\n",
    "val_mask = np.array([q in val_q for q in groups_vec], dtype=bool)\n",
    "tr_mask  = ~val_mask\n"
   ],
   "id": "9f9a2506eb80aa31",
   "outputs": [],
   "execution_count": 22
  },
  {
   "metadata": {
    "ExecuteTime": {
     "end_time": "2025-09-19T15:08:32.682181Z",
     "start_time": "2025-09-19T15:08:31.908123Z"
    }
   },
   "cell_type": "code",
   "source": [
    "# --- 4.2 Упорядочим каждый сабсет по query_id (важно для group sizes) ---\n",
    "tr_idx = np.where(tr_mask)[0]\n",
    "va_idx = np.where(val_mask)[0]\n",
    "tr_idx = tr_idx[np.argsort(groups_vec[tr_idx], kind=\"mergesort\")]\n",
    "va_idx = va_idx[np.argsort(groups_vec[va_idx], kind=\"mergesort\")]\n",
    "\n",
    "X_tr, y_tr, q_tr = X[tr_idx], y[tr_idx], groups_vec[tr_idx]\n",
    "X_va, y_va, q_va = X[va_idx], y[va_idx], groups_vec[va_idx]\n"
   ],
   "id": "b176f8cdd4ef6000",
   "outputs": [],
   "execution_count": 23
  },
  {
   "metadata": {
    "ExecuteTime": {
     "end_time": "2025-09-19T15:08:54.529068Z",
     "start_time": "2025-09-19T15:08:54.330652Z"
    }
   },
   "cell_type": "code",
   "source": [
    "def group_sizes_from_sorted_ids(ids: np.ndarray) -> np.ndarray:\n",
    "    # ids уже отсортированы по query_id\n",
    "    _, counts = np.unique(ids, return_counts=True)\n",
    "    return counts\n",
    "\n",
    "tr_groups = group_sizes_from_sorted_ids(q_tr)\n",
    "va_groups = group_sizes_from_sorted_ids(q_va)\n"
   ],
   "id": "4b17e07a1a48031d",
   "outputs": [],
   "execution_count": 24
  },
  {
   "metadata": {
    "ExecuteTime": {
     "end_time": "2025-09-19T15:09:05.727356Z",
     "start_time": "2025-09-19T15:09:05.712690Z"
    }
   },
   "cell_type": "code",
   "source": [
    "print(f\"[holdout] queries: total={len(uniq_q)}, train={len(uniq_q)-n_val}, val={n_val}\")\n",
    "print(f\"[holdout] rows: train={X_tr.shape[0]}, val={X_va.shape[0]}\")"
   ],
   "id": "4c14ed7429b4d4d6",
   "outputs": [
    {
     "name": "stdout",
     "output_type": "stream",
     "text": [
      "[holdout] queries: total=678190, train=610371, val=67819\n",
      "[holdout] rows: train=7001690, val=780100\n"
     ]
    }
   ],
   "execution_count": 25
  },
  {
   "metadata": {
    "ExecuteTime": {
     "end_time": "2025-09-19T15:09:21.764714Z",
     "start_time": "2025-09-19T15:09:21.750693Z"
    }
   },
   "cell_type": "code",
   "source": [
    "# --- 4.3 Прогресс-бар по бустингу ---\n",
    "class TQDMCallback:\n",
    "    def __init__(self, total_rounds: int, desc: str = \"boosting\"):\n",
    "        self.total_rounds = total_rounds\n",
    "        self.desc = desc\n",
    "        self.pbar = None\n",
    "    def __call__(self, env: CallbackEnv):\n",
    "        if self.pbar is None:\n",
    "            end_it = getattr(env, \"end_iteration\", self.total_rounds)\n",
    "            begin_it = getattr(env, \"begin_iteration\", 0)\n",
    "            self.pbar = tqdm(total=end_it - begin_it, desc=self.desc, leave=False)\n",
    "        self.pbar.update(1)\n",
    "        if env.iteration + 1 >= self.total_rounds or (env.iteration + 1) >= getattr(env, \"end_iteration\", self.total_rounds):\n",
    "            self.pbar.close()\n",
    "            self.pbar = None"
   ],
   "id": "41cfcf0bba5f4286",
   "outputs": [],
   "execution_count": 26
  },
  {
   "metadata": {
    "ExecuteTime": {
     "end_time": "2025-09-19T15:09:30.999617Z",
     "start_time": "2025-09-19T15:09:30.985593Z"
    }
   },
   "cell_type": "code",
   "source": [
    "# --- 4.4 Монотонные ограничения (как раньше) ---\n",
    "monotone = []\n",
    "for f in FEATURES:\n",
    "    if f in [\"cos_q_title\",\"conv_filled\",\"jaccard_q_title\",\"dice_q_title\",\"ratio_overlap_title\",\"max_cos_in_query\"]:\n",
    "        monotone.append(1)\n",
    "    elif f in [\"cos_minus_max\"]:\n",
    "        monotone.append(-1)\n",
    "    else:\n",
    "        monotone.append(0)"
   ],
   "id": "ed80c040d7801acf",
   "outputs": [],
   "execution_count": 27
  },
  {
   "metadata": {
    "ExecuteTime": {
     "end_time": "2025-09-19T15:09:39.103330Z",
     "start_time": "2025-09-19T15:09:39.090103Z"
    }
   },
   "cell_type": "code",
   "source": [
    "# --- 4.5 Параметры LGBM (+GPU при наличии) ---\n",
    "params = dict(\n",
    "    objective=\"lambdarank\",\n",
    "    metric=\"ndcg\",\n",
    "    ndcg_eval_at=[10],\n",
    "    learning_rate=0.05,\n",
    "    num_leaves=127,\n",
    "    min_data_in_leaf=100,\n",
    "    feature_fraction=0.9,\n",
    "    bagging_fraction=0.8,\n",
    "    bagging_freq=1,\n",
    "    verbose=-1,\n",
    "    seed=SEED,\n",
    "    monotone_constraints=monotone,\n",
    "    num_threads=0,\n",
    "    device=\"gpu\" if USE_GPU else \"cpu\",\n",
    ")"
   ],
   "id": "6be05666189debb0",
   "outputs": [],
   "execution_count": 28
  },
  {
   "metadata": {
    "ExecuteTime": {
     "end_time": "2025-09-19T15:09:44.825497Z",
     "start_time": "2025-09-19T15:09:44.810462Z"
    }
   },
   "cell_type": "code",
   "source": [
    "num_boost_round = 3000\n",
    "early_stopping_rounds = 100\n",
    "log_every = 100\n",
    "\n",
    "dtr = lgb.Dataset(X_tr, label=y_tr, group=tr_groups, feature_name=FEATURES)\n",
    "dva = lgb.Dataset(X_va, label=y_va, group=va_groups, feature_name=FEATURES)"
   ],
   "id": "bd920b54b3b2c6b2",
   "outputs": [],
   "execution_count": 29
  },
  {
   "metadata": {
    "ExecuteTime": {
     "end_time": "2025-09-19T15:11:17.470233Z",
     "start_time": "2025-09-19T15:09:52.556578Z"
    }
   },
   "cell_type": "code",
   "source": [
    "try:\n",
    "    model = lgb.train(\n",
    "        params,\n",
    "        dtr,\n",
    "        valid_sets=[dva],\n",
    "        num_boost_round=num_boost_round,\n",
    "        callbacks=[\n",
    "            TQDMCallback(num_boost_round, desc=\"holdout\"),\n",
    "            lgb.early_stopping(early_stopping_rounds, verbose=False),\n",
    "            lgb.log_evaluation(log_every),\n",
    "        ],\n",
    "    )\n",
    "except lgb.basic.LightGBMError as e:\n",
    "    if USE_GPU:\n",
    "        print(\"[warn] GPU недоступен, переключаюсь на CPU:\", str(e).splitlines()[0])\n",
    "        params[\"device\"] = \"cpu\"\n",
    "        model = lgb.train(\n",
    "            params,\n",
    "            dtr,\n",
    "            valid_sets=[dva],\n",
    "            num_boost_round=num_boost_round,\n",
    "            callbacks=[\n",
    "                TQDMCallback(num_boost_round, desc=\"holdout (cpu)\"),\n",
    "                lgb.early_stopping(early_stopping_rounds, verbose=False),\n",
    "                lgb.log_evaluation(log_every),\n",
    "            ],\n",
    "        )\n",
    "    else:\n",
    "        raise"
   ],
   "id": "2e0d71c1334b56d9",
   "outputs": [
    {
     "name": "stderr",
     "output_type": "stream",
     "text": [
      "holdout:   3%|▎         | 100/3000 [00:31<13:17,  3.64it/s]"
     ]
    },
    {
     "name": "stdout",
     "output_type": "stream",
     "text": [
      "[100]\tvalid_0's ndcg@10: 0.883235\n"
     ]
    },
    {
     "name": "stderr",
     "output_type": "stream",
     "text": [
      "holdout:   7%|▋         | 200/3000 [00:59<11:56,  3.91it/s]"
     ]
    },
    {
     "name": "stdout",
     "output_type": "stream",
     "text": [
      "[200]\tvalid_0's ndcg@10: 0.883838\n"
     ]
    },
    {
     "name": "stderr",
     "output_type": "stream",
     "text": [
      "holdout:  10%|█         | 300/3000 [01:21<09:55,  4.54it/s]"
     ]
    },
    {
     "name": "stdout",
     "output_type": "stream",
     "text": [
      "[300]\tvalid_0's ndcg@10: 0.883743\n"
     ]
    },
    {
     "name": "stderr",
     "output_type": "stream",
     "text": [
      "                                                           \r"
     ]
    }
   ],
   "execution_count": 30
  },
  {
   "metadata": {
    "ExecuteTime": {
     "end_time": "2025-09-19T15:12:29.357580Z",
     "start_time": "2025-09-19T15:12:27.747857Z"
    }
   },
   "cell_type": "code",
   "source": [
    "# --- 4.6 Кастомный NDCG@10 (decay 0.97^pos) на валидации ---\n",
    "def calc_dcg_at_k(v: np.ndarray, k: int = 10) -> float:\n",
    "    w = 0.97 ** np.arange(len(v))\n",
    "    return (v * w)[:k].sum()\n",
    "def calc_ndcg_at_k(labels: np.ndarray, preds: np.ndarray, groups: np.ndarray, k: int = 10) -> float:\n",
    "    order = np.argsort(groups, kind=\"mergesort\")\n",
    "    labels, preds, groups = labels[order], preds[order], groups[order]\n",
    "    _, counts = np.unique(groups, return_counts=True)\n",
    "    start, lst = 0, []\n",
    "    for c in counts:\n",
    "        sl = slice(start, start+c)\n",
    "        l, p = labels[sl], preds[sl]\n",
    "        idx = np.argsort(-p, kind=\"mergesort\")\n",
    "        idcg = calc_dcg_at_k(np.sort(l)[::-1], k) + 1e-12\n",
    "        lst.append(calc_dcg_at_k(l[idx], k) / idcg)\n",
    "        start += c\n",
    "    return float(np.mean(lst))\n",
    "\n",
    "preds_va = model.predict(X_va, num_iteration=model.best_iteration)\n",
    "ndcg_val = calc_ndcg_at_k(y_va, preds_va, q_va, k=10)\n",
    "print(f\"[holdout] custom ndcg@10: {ndcg_val:.5f}\")"
   ],
   "id": "5b1358aadd832e1",
   "outputs": [
    {
     "name": "stdout",
     "output_type": "stream",
     "text": [
      "[holdout] custom ndcg@10: 0.30902\n"
     ]
    }
   ],
   "execution_count": 31
  },
  {
   "metadata": {
    "ExecuteTime": {
     "end_time": "2025-09-19T15:13:47.142292Z",
     "start_time": "2025-09-19T15:13:46.767345Z"
    }
   },
   "cell_type": "code",
   "source": [
    "# ## 5) Инференс на тесте и сабмит\n",
    "\n",
    "SUBMISSION_PATH = \"../solution.csv\"\n",
    "\n",
    "test_pred = model.predict(X_test, num_iteration=model.best_iteration)\n",
    "sub_df = test_feats.select([\"query_id\", \"item_id\"]).with_columns(pl.Series(\"pred\", test_pred))\n",
    "submission = (\n",
    "    sub_df.sort([\"query_id\", \"pred\"], descending=[False, True])\n",
    "          .select([\"query_id\", \"item_id\"])\n",
    ")\n",
    "submission.write_csv(SUBMISSION_PATH, include_header=True)\n",
    "print(f\"[save] submission -> {SUBMISSION_PATH}, rows={submission.height}\")\n",
    "\n"
   ],
   "id": "c4d6696166c902d4",
   "outputs": [
    {
     "name": "stdout",
     "output_type": "stream",
     "text": [
      "[save] submission -> solution.csv, rows=335348\n"
     ]
    }
   ],
   "execution_count": 33
  },
  {
   "metadata": {
    "ExecuteTime": {
     "end_time": "2025-09-19T15:15:56.416878Z",
     "start_time": "2025-09-19T15:15:55.520364Z"
    }
   },
   "cell_type": "code",
   "source": [
    "# per-query ndcg@10 (custom 0.97^pos)\n",
    "def ndcg_per_query(labels, preds, groups, k=10):\n",
    "    import numpy as np\n",
    "    order = np.argsort(groups, kind=\"mergesort\")\n",
    "    labels, preds, groups = labels[order], preds[order], groups[order]\n",
    "    uq, counts = np.unique(groups, return_counts=True)\n",
    "    res = []\n",
    "    s = 0\n",
    "    w = 0.97 ** np.arange(1000)  # с запасом\n",
    "    for q, c in zip(uq, counts):\n",
    "        sl = slice(s, s+c)\n",
    "        l = labels[sl]; p = preds[sl]\n",
    "        idx = np.argsort(-p, kind=\"mergesort\")\n",
    "        dcg = (l[idx] * w[:c])[:k].sum()\n",
    "        idcg = (np.sort(l)[::-1] * w[:c])[:k].sum() + 1e-12\n",
    "        res.append((q, dcg/idcg, l.sum()))\n",
    "        s += c\n",
    "    return res\n",
    "\n",
    "# примеры «плохих» запросов (нет попаданий в топ-10, но есть позитивы)\n",
    "perq = ndcg_per_query(y_va, preds_va, q_va, k=10)\n",
    "bad = [(q,score,pos) for q,score,pos in perq if pos>0 and score<0.1][:10]\n",
    "print(\"bad queries (q, ndcg, positives):\", bad[:10])\n"
   ],
   "id": "b5d199dc8aae35f",
   "outputs": [
    {
     "name": "stdout",
     "output_type": "stream",
     "text": [
      "bad queries (q, ndcg, positives): [(np.int64(910), np.float64(0.0), np.float32(1.0)), (np.int64(2116), np.float64(0.0), np.float32(1.0)), (np.int64(3275), np.float64(0.0), np.float32(1.0)), (np.int64(3782), np.float64(0.0), np.float32(2.0)), (np.int64(3886), np.float64(0.0), np.float32(1.0)), (np.int64(4004), np.float64(0.0), np.float32(2.0)), (np.int64(4161), np.float64(0.0), np.float32(1.0)), (np.int64(4358), np.float64(0.0), np.float32(1.0)), (np.int64(5223), np.float64(0.0), np.float32(1.0)), (np.int64(5508), np.float64(0.0), np.float32(1.0))]\n"
     ]
    }
   ],
   "execution_count": 34
  },
  {
   "metadata": {},
   "cell_type": "code",
   "outputs": [],
   "execution_count": null,
   "source": "",
   "id": "5bdca8337a4cca4d"
  }
 ],
 "metadata": {
  "kernelspec": {
   "display_name": "Python 3",
   "language": "python",
   "name": "python3"
  },
  "language_info": {
   "codemirror_mode": {
    "name": "ipython",
    "version": 2
   },
   "file_extension": ".py",
   "mimetype": "text/x-python",
   "name": "python",
   "nbconvert_exporter": "python",
   "pygments_lexer": "ipython2",
   "version": "2.7.6"
  }
 },
 "nbformat": 4,
 "nbformat_minor": 5
}
