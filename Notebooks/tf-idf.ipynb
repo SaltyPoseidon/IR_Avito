{
 "cells": [
  {
   "cell_type": "code",
   "id": "initial_id",
   "metadata": {
    "collapsed": true,
    "ExecuteTime": {
     "end_time": "2025-09-19T17:41:41.224638Z",
     "start_time": "2025-09-19T17:41:40.081598Z"
    }
   },
   "source": [
    "# ==== TF-IDF cosine: query_text ↔ item_description ====\n",
    "import os\n",
    "import polars as pl\n",
    "import numpy as np\n",
    "from tqdm.auto import tqdm\n",
    "from sklearn.feature_extraction.text import TfidfVectorizer\n",
    "from scipy import sparse\n",
    "\n",
    "BASE_DIR = os.path.dirname(os.getcwd())\n",
    "DATA_DIR = os.path.join(BASE_DIR, \"Data\")\n",
    "TRAIN_PATH = os.path.join(DATA_DIR, \"train-dset.parquet\")\n",
    "TEST_PATH  = os.path.join(DATA_DIR, \"test-dset-small.parquet\")\n",
    "\n",
    "TRAIN_TFIDF_DESC = os.path.join(DATA_DIR, \"train_tfidf_desc_cos.parquet\")\n",
    "TEST_TFIDF_DESC  = os.path.join(DATA_DIR, \"test_tfidf_desc_cos.parquet\")\n"
   ],
   "outputs": [
    {
     "name": "stderr",
     "output_type": "stream",
     "text": [
      "C:\\Users\\idine\\PycharmProjects\\Avito_Test\\.venv\\lib\\site-packages\\tqdm\\auto.py:21: TqdmWarning: IProgress not found. Please update jupyter and ipywidgets. See https://ipywidgets.readthedocs.io/en/stable/user_install.html\n",
      "  from .autonotebook import tqdm as notebook_tqdm\n"
     ]
    }
   ],
   "execution_count": 1
  },
  {
   "metadata": {
    "ExecuteTime": {
     "start_time": "2025-09-19T17:41:58.881044Z"
    }
   },
   "cell_type": "code",
   "source": [
    "# 1) Уникальные тексты\n",
    "train_lf = pl.scan_parquet(TRAIN_PATH)\n",
    "test_lf  = pl.scan_parquet(TEST_PATH)\n",
    "\n",
    "queries = (pl.concat([train_lf.select(\"query_id\",\"query_text\"),\n",
    "                      test_lf.select(\"query_id\",\"query_text\")])\n",
    "           .unique(subset=[\"query_id\"])\n",
    "           .collect(streaming=True))\n",
    "\n",
    "items_desc = (pl.concat([train_lf.select(\"item_id\",\"item_description\"),\n",
    "                         test_lf.select(\"item_id\",\"item_description\")])\n",
    "              .unique(subset=[\"item_id\"])\n",
    "              .collect(streaming=True))\n",
    "\n",
    "q_texts = queries.get_column(\"query_text\").fill_null(\"\").to_list()\n",
    "d_texts = items_desc.get_column(\"item_description\").fill_null(\"\").to_list()\n",
    "\n",
    "# (быстро и устойчиво для RU/опечаток)\n",
    "vec = TfidfVectorizer(analyzer=\"char_wb\", ngram_range=(3,5),\n",
    "                      min_df=3, max_features=200_000,\n",
    "                      norm=\"l2\", use_idf=True, sublinear_tf=True)\n"
   ],
   "id": "ff44f6339b42d0d9",
   "outputs": [
    {
     "name": "stderr",
     "output_type": "stream",
     "text": [
      "C:\\Users\\idine\\AppData\\Local\\Temp\\ipykernel_32640\\2182524949.py:5: DeprecationWarning: the `streaming` parameter was deprecated in 1.25.0; use `engine` instead.\n",
      "  queries = (pl.concat([train_lf.select(\"query_id\",\"query_text\"),\n",
      "C:\\Users\\idine\\AppData\\Local\\Temp\\ipykernel_32640\\2182524949.py:10: DeprecationWarning: the `streaming` parameter was deprecated in 1.25.0; use `engine` instead.\n",
      "  items_desc = (pl.concat([train_lf.select(\"item_id\",\"item_description\"),\n"
     ]
    }
   ],
   "execution_count": null
  },
  {
   "metadata": {},
   "cell_type": "code",
   "outputs": [],
   "execution_count": null,
   "source": [
    "corpus = q_texts + d_texts\n",
    "tfidf = vec.fit_transform(corpus)   # csr\n",
    "nq = len(q_texts)\n",
    "Q = tfidf[:nq]        # queries\n",
    "D = tfidf[nq:]        # descriptions"
   ],
   "id": "8d90fa16f71d7c07"
  },
  {
   "metadata": {},
   "cell_type": "code",
   "outputs": [],
   "execution_count": null,
   "source": [
    "qid2i = {int(q): i for i,q in enumerate(queries[\"query_id\"].to_list())}\n",
    "iid2j = {int(i): j for j,i in enumerate(items_desc[\"item_id\"].to_list())}\n"
   ],
   "id": "3db1ee7830ae112a"
  }
 ],
 "metadata": {
  "kernelspec": {
   "display_name": "Python 3",
   "language": "python",
   "name": "python3"
  },
  "language_info": {
   "codemirror_mode": {
    "name": "ipython",
    "version": 2
   },
   "file_extension": ".py",
   "mimetype": "text/x-python",
   "name": "python",
   "nbconvert_exporter": "python",
   "pygments_lexer": "ipython2",
   "version": "2.7.6"
  }
 },
 "nbformat": 4,
 "nbformat_minor": 5
}
